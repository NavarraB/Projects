{
 "cells": [
  {
   "cell_type": "code",
   "execution_count": 1,
   "metadata": {},
   "outputs": [],
   "source": [
    "import pandas as pd\n",
    "import seaborn as sns\n",
    "import numpy as np\n",
    "import matplotlib.pyplot as plt"
   ]
  },
  {
   "cell_type": "code",
   "execution_count": 2,
   "metadata": {},
   "outputs": [],
   "source": [
    "import warnings\n",
    "warnings.filterwarnings('ignore')\n",
    "warnings.warn(\"this will not show\")"
   ]
  },
  {
   "cell_type": "code",
   "execution_count": 3,
   "metadata": {},
   "outputs": [
    {
     "data": {
      "text/plain": [
       "'/home/navarra/anaconda3/Project_EDA'"
      ]
     },
     "execution_count": 3,
     "metadata": {},
     "output_type": "execute_result"
    }
   ],
   "source": [
    "pwd"
   ]
  },
  {
   "cell_type": "code",
   "execution_count": 4,
   "metadata": {},
   "outputs": [],
   "source": [
    "df = pd.read_json('/home/navarra/anaconda3/Project_EDA/scout_car.json', lines = True)"
   ]
  },
  {
   "cell_type": "code",
   "execution_count": 5,
   "metadata": {},
   "outputs": [
    {
     "data": {
      "text/html": [
       "<div>\n",
       "<style scoped>\n",
       "    .dataframe tbody tr th:only-of-type {\n",
       "        vertical-align: middle;\n",
       "    }\n",
       "\n",
       "    .dataframe tbody tr th {\n",
       "        vertical-align: top;\n",
       "    }\n",
       "\n",
       "    .dataframe thead th {\n",
       "        text-align: right;\n",
       "    }\n",
       "</style>\n",
       "<table border=\"1\" class=\"dataframe\">\n",
       "  <thead>\n",
       "    <tr style=\"text-align: right;\">\n",
       "      <th></th>\n",
       "      <th>url</th>\n",
       "      <th>make_model</th>\n",
       "      <th>short_description</th>\n",
       "      <th>body_type</th>\n",
       "      <th>price</th>\n",
       "      <th>vat</th>\n",
       "      <th>km</th>\n",
       "      <th>registration</th>\n",
       "      <th>prev_owner</th>\n",
       "      <th>kW</th>\n",
       "      <th>...</th>\n",
       "      <th>description</th>\n",
       "      <th>Emission Label</th>\n",
       "      <th>Gears</th>\n",
       "      <th>Country version</th>\n",
       "      <th>Electricity consumption</th>\n",
       "      <th>Last Service Date</th>\n",
       "      <th>Other Fuel Types</th>\n",
       "      <th>Availability</th>\n",
       "      <th>Last Timing Belt Service Date</th>\n",
       "      <th>Available from</th>\n",
       "    </tr>\n",
       "  </thead>\n",
       "  <tbody>\n",
       "    <tr>\n",
       "      <th>0</th>\n",
       "      <td>https://www.autoscout24.com//offers/audi-a1-sp...</td>\n",
       "      <td>Audi A1</td>\n",
       "      <td>Sportback 1.4 TDI S-tronic Xenon Navi Klima</td>\n",
       "      <td>Sedans</td>\n",
       "      <td>15770</td>\n",
       "      <td>VAT deductible</td>\n",
       "      <td>56,013 km</td>\n",
       "      <td>01/2016</td>\n",
       "      <td>2 previous owners</td>\n",
       "      <td>NaN</td>\n",
       "      <td>...</td>\n",
       "      <td>[\\n, Sicherheit:,  , Deaktivierung für Beifahr...</td>\n",
       "      <td>NaN</td>\n",
       "      <td>NaN</td>\n",
       "      <td>NaN</td>\n",
       "      <td>NaN</td>\n",
       "      <td>NaN</td>\n",
       "      <td>NaN</td>\n",
       "      <td>NaN</td>\n",
       "      <td>NaN</td>\n",
       "      <td>NaN</td>\n",
       "    </tr>\n",
       "    <tr>\n",
       "      <th>1</th>\n",
       "      <td>https://www.autoscout24.com//offers/audi-a1-1-...</td>\n",
       "      <td>Audi A1</td>\n",
       "      <td>1.8 TFSI sport</td>\n",
       "      <td>Sedans</td>\n",
       "      <td>14500</td>\n",
       "      <td>Price negotiable</td>\n",
       "      <td>80,000 km</td>\n",
       "      <td>03/2017</td>\n",
       "      <td>None</td>\n",
       "      <td>NaN</td>\n",
       "      <td>...</td>\n",
       "      <td>[\\nLangstreckenfahrzeug daher die hohe Kilomet...</td>\n",
       "      <td>[\\n4 (Green)\\n]</td>\n",
       "      <td>[\\n7\\n]</td>\n",
       "      <td>NaN</td>\n",
       "      <td>NaN</td>\n",
       "      <td>NaN</td>\n",
       "      <td>NaN</td>\n",
       "      <td>NaN</td>\n",
       "      <td>NaN</td>\n",
       "      <td>NaN</td>\n",
       "    </tr>\n",
       "    <tr>\n",
       "      <th>2</th>\n",
       "      <td>https://www.autoscout24.com//offers/audi-a1-sp...</td>\n",
       "      <td>Audi A1</td>\n",
       "      <td>Sportback 1.6 TDI S tronic Einparkhilfe plus+m...</td>\n",
       "      <td>Sedans</td>\n",
       "      <td>14640</td>\n",
       "      <td>VAT deductible</td>\n",
       "      <td>83,450 km</td>\n",
       "      <td>02/2016</td>\n",
       "      <td>1 previous owner</td>\n",
       "      <td>NaN</td>\n",
       "      <td>...</td>\n",
       "      <td>[\\n, Fahrzeug-Nummer: AM-95365,  , Ehem. UPE 2...</td>\n",
       "      <td>[\\n4 (Green)\\n]</td>\n",
       "      <td>NaN</td>\n",
       "      <td>NaN</td>\n",
       "      <td>NaN</td>\n",
       "      <td>NaN</td>\n",
       "      <td>NaN</td>\n",
       "      <td>NaN</td>\n",
       "      <td>NaN</td>\n",
       "      <td>NaN</td>\n",
       "    </tr>\n",
       "    <tr>\n",
       "      <th>3</th>\n",
       "      <td>https://www.autoscout24.com//offers/audi-a1-1-...</td>\n",
       "      <td>Audi A1</td>\n",
       "      <td>1.4 TDi Design S tronic</td>\n",
       "      <td>Sedans</td>\n",
       "      <td>14500</td>\n",
       "      <td>None</td>\n",
       "      <td>73,000 km</td>\n",
       "      <td>08/2016</td>\n",
       "      <td>1 previous owner</td>\n",
       "      <td>NaN</td>\n",
       "      <td>...</td>\n",
       "      <td>[\\nAudi A1: , - 1e eigenaar , - Perfecte staat...</td>\n",
       "      <td>NaN</td>\n",
       "      <td>[\\n6\\n]</td>\n",
       "      <td>NaN</td>\n",
       "      <td>NaN</td>\n",
       "      <td>NaN</td>\n",
       "      <td>NaN</td>\n",
       "      <td>NaN</td>\n",
       "      <td>NaN</td>\n",
       "      <td>NaN</td>\n",
       "    </tr>\n",
       "    <tr>\n",
       "      <th>4</th>\n",
       "      <td>https://www.autoscout24.com//offers/audi-a1-sp...</td>\n",
       "      <td>Audi A1</td>\n",
       "      <td>Sportback 1.4 TDI S-Tronic S-Line Ext. admired...</td>\n",
       "      <td>Sedans</td>\n",
       "      <td>16790</td>\n",
       "      <td>None</td>\n",
       "      <td>16,200 km</td>\n",
       "      <td>05/2016</td>\n",
       "      <td>1 previous owner</td>\n",
       "      <td>NaN</td>\n",
       "      <td>...</td>\n",
       "      <td>[\\n, Technik &amp; Sicherheit:, Xenon plus, Klimaa...</td>\n",
       "      <td>NaN</td>\n",
       "      <td>NaN</td>\n",
       "      <td>[\\nGermany\\n]</td>\n",
       "      <td>NaN</td>\n",
       "      <td>NaN</td>\n",
       "      <td>NaN</td>\n",
       "      <td>NaN</td>\n",
       "      <td>NaN</td>\n",
       "      <td>NaN</td>\n",
       "    </tr>\n",
       "  </tbody>\n",
       "</table>\n",
       "<p>5 rows × 54 columns</p>\n",
       "</div>"
      ],
      "text/plain": [
       "                                                 url make_model  \\\n",
       "0  https://www.autoscout24.com//offers/audi-a1-sp...    Audi A1   \n",
       "1  https://www.autoscout24.com//offers/audi-a1-1-...    Audi A1   \n",
       "2  https://www.autoscout24.com//offers/audi-a1-sp...    Audi A1   \n",
       "3  https://www.autoscout24.com//offers/audi-a1-1-...    Audi A1   \n",
       "4  https://www.autoscout24.com//offers/audi-a1-sp...    Audi A1   \n",
       "\n",
       "                                   short_description body_type  price  \\\n",
       "0        Sportback 1.4 TDI S-tronic Xenon Navi Klima    Sedans  15770   \n",
       "1                                     1.8 TFSI sport    Sedans  14500   \n",
       "2  Sportback 1.6 TDI S tronic Einparkhilfe plus+m...    Sedans  14640   \n",
       "3                            1.4 TDi Design S tronic    Sedans  14500   \n",
       "4  Sportback 1.4 TDI S-Tronic S-Line Ext. admired...    Sedans  16790   \n",
       "\n",
       "                vat         km registration         prev_owner  kW  ...  \\\n",
       "0    VAT deductible  56,013 km      01/2016  2 previous owners NaN  ...   \n",
       "1  Price negotiable  80,000 km      03/2017               None NaN  ...   \n",
       "2    VAT deductible  83,450 km      02/2016   1 previous owner NaN  ...   \n",
       "3              None  73,000 km      08/2016   1 previous owner NaN  ...   \n",
       "4              None  16,200 km      05/2016   1 previous owner NaN  ...   \n",
       "\n",
       "                                         description   Emission Label  \\\n",
       "0  [\\n, Sicherheit:,  , Deaktivierung für Beifahr...              NaN   \n",
       "1  [\\nLangstreckenfahrzeug daher die hohe Kilomet...  [\\n4 (Green)\\n]   \n",
       "2  [\\n, Fahrzeug-Nummer: AM-95365,  , Ehem. UPE 2...  [\\n4 (Green)\\n]   \n",
       "3  [\\nAudi A1: , - 1e eigenaar , - Perfecte staat...              NaN   \n",
       "4  [\\n, Technik & Sicherheit:, Xenon plus, Klimaa...              NaN   \n",
       "\n",
       "     Gears Country version Electricity consumption Last Service Date  \\\n",
       "0      NaN             NaN                     NaN               NaN   \n",
       "1  [\\n7\\n]             NaN                     NaN               NaN   \n",
       "2      NaN             NaN                     NaN               NaN   \n",
       "3  [\\n6\\n]             NaN                     NaN               NaN   \n",
       "4      NaN   [\\nGermany\\n]                     NaN               NaN   \n",
       "\n",
       "  Other Fuel Types Availability Last Timing Belt Service Date Available from  \n",
       "0              NaN          NaN                           NaN            NaN  \n",
       "1              NaN          NaN                           NaN            NaN  \n",
       "2              NaN          NaN                           NaN            NaN  \n",
       "3              NaN          NaN                           NaN            NaN  \n",
       "4              NaN          NaN                           NaN            NaN  \n",
       "\n",
       "[5 rows x 54 columns]"
      ]
     },
     "execution_count": 5,
     "metadata": {},
     "output_type": "execute_result"
    }
   ],
   "source": [
    "df.head()"
   ]
  },
  {
   "cell_type": "code",
   "execution_count": 6,
   "metadata": {},
   "outputs": [
    {
     "name": "stdout",
     "output_type": "stream",
     "text": [
      "<class 'pandas.core.frame.DataFrame'>\n",
      "RangeIndex: 15919 entries, 0 to 15918\n",
      "Data columns (total 54 columns):\n",
      " #   Column                         Non-Null Count  Dtype  \n",
      "---  ------                         --------------  -----  \n",
      " 0   url                            15919 non-null  object \n",
      " 1   make_model                     15919 non-null  object \n",
      " 2   short_description              15873 non-null  object \n",
      " 3   body_type                      15859 non-null  object \n",
      " 4   price                          15919 non-null  int64  \n",
      " 5   vat                            11406 non-null  object \n",
      " 6   km                             15919 non-null  object \n",
      " 7   registration                   15919 non-null  object \n",
      " 8   prev_owner                     9091 non-null   object \n",
      " 9   kW                             0 non-null      float64\n",
      " 10  hp                             15919 non-null  object \n",
      " 11  Type                           15917 non-null  object \n",
      " 12  Previous Owners                9279 non-null   object \n",
      " 13  Next Inspection                3535 non-null   object \n",
      " 14  Inspection new                 3932 non-null   object \n",
      " 15  Warranty                       10499 non-null  object \n",
      " 16  Full Service                   8215 non-null   object \n",
      " 17  Non-smoking Vehicle            7177 non-null   object \n",
      " 18  null                           15919 non-null  object \n",
      " 19  Make                           15919 non-null  object \n",
      " 20  Model                          15919 non-null  object \n",
      " 21  Offer Number                   12744 non-null  object \n",
      " 22  First Registration             14322 non-null  object \n",
      " 23  Body Color                     15322 non-null  object \n",
      " 24  Paint Type                     10147 non-null  object \n",
      " 25  Body Color Original            12160 non-null  object \n",
      " 26  Upholstery                     12199 non-null  object \n",
      " 27  Body                           15859 non-null  object \n",
      " 28  Nr. of Doors                   15707 non-null  object \n",
      " 29  Nr. of Seats                   14942 non-null  object \n",
      " 30  Model Code                     4978 non-null   object \n",
      " 31  Gearing Type                   15919 non-null  object \n",
      " 32  Displacement                   15423 non-null  object \n",
      " 33  Cylinders                      10239 non-null  object \n",
      " 34  Weight                         8945 non-null   object \n",
      " 35  Drive chain                    9061 non-null   object \n",
      " 36  Fuel                           15919 non-null  object \n",
      " 37  Consumption                    14013 non-null  object \n",
      " 38  CO2 Emission                   14111 non-null  object \n",
      " 39  Emission Class                 12898 non-null  object \n",
      " 40  \n",
      "Comfort & Convenience\n",
      "        14999 non-null  object \n",
      " 41  \n",
      "Entertainment & Media\n",
      "        14545 non-null  object \n",
      " 42  \n",
      "Extras\n",
      "                       12957 non-null  object \n",
      " 43  \n",
      "Safety & Security\n",
      "            14937 non-null  object \n",
      " 44  description                    15919 non-null  object \n",
      " 45  Emission Label                 3985 non-null   object \n",
      " 46  Gears                          11207 non-null  object \n",
      " 47  Country version                7586 non-null   object \n",
      " 48  Electricity consumption        137 non-null    object \n",
      " 49  Last Service Date              566 non-null    object \n",
      " 50  Other Fuel Types               880 non-null    object \n",
      " 51  Availability                   635 non-null    object \n",
      " 52  Last Timing Belt Service Date  16 non-null     object \n",
      " 53  Available from                 272 non-null    object \n",
      "dtypes: float64(1), int64(1), object(52)\n",
      "memory usage: 6.6+ MB\n"
     ]
    }
   ],
   "source": [
    "df.info()"
   ]
  },
  {
   "cell_type": "code",
   "execution_count": 5,
   "metadata": {},
   "outputs": [],
   "source": [
    "df_x = df.iloc[:, [9, 18, 48, 50, 51, 52, 53, 0]]  # drop these columns because of NaN values.\n",
    "                                                   # and they don't have any relations with other columns."
   ]
  },
  {
   "cell_type": "code",
   "execution_count": 6,
   "metadata": {},
   "outputs": [],
   "source": [
    "df.drop(['kW', 'null', 'Electricity consumption', 'Other Fuel Types', 'Availability', \\\n",
    "         'Last Timing Belt Service Date', 'Available from', 'url'], axis = 1, inplace = True)"
   ]
  },
  {
   "cell_type": "code",
   "execution_count": 7,
   "metadata": {
    "scrolled": true
   },
   "outputs": [],
   "source": [
    "df.drop(['Make', 'Model'], axis = 1, inplace = True)     # same with make_model column."
   ]
  },
  {
   "cell_type": "code",
   "execution_count": 8,
   "metadata": {},
   "outputs": [],
   "source": [
    "df.drop(['description'], axis = 1, inplace = True)       # there are many different languages. useless info."
   ]
  },
  {
   "cell_type": "code",
   "execution_count": 9,
   "metadata": {},
   "outputs": [],
   "source": [
    "df.drop(['Offer Number'], axis = 1, inplace = True)      # useless info."
   ]
  },
  {
   "cell_type": "code",
   "execution_count": 10,
   "metadata": {},
   "outputs": [],
   "source": [
    "df.drop(['Body'], axis = 1, inplace = True)              # same with body_type column."
   ]
  },
  {
   "cell_type": "code",
   "execution_count": 11,
   "metadata": {},
   "outputs": [],
   "source": [
    "df.drop(['Model Code'], axis = 1, inplace = True)        # useless and lack info."
   ]
  },
  {
   "cell_type": "code",
   "execution_count": 12,
   "metadata": {},
   "outputs": [],
   "source": [
    "df.drop(['Weight'], axis = 1, inplace = True)             # useless and lack info."
   ]
  },
  {
   "cell_type": "code",
   "execution_count": 13,
   "metadata": {},
   "outputs": [],
   "source": [
    "df.drop(['Country version'], axis = 1, inplace = True)    # useless and lack info."
   ]
  },
  {
   "cell_type": "code",
   "execution_count": 14,
   "metadata": {},
   "outputs": [],
   "source": [
    "df.drop(['Type'], axis = 1, inplace = True)               # same with Fuel column."
   ]
  },
  {
   "cell_type": "code",
   "execution_count": 15,
   "metadata": {},
   "outputs": [],
   "source": [
    "df.drop(['Emission Label'], axis = 1, inplace = True)     # useless and lack info."
   ]
  },
  {
   "cell_type": "code",
   "execution_count": 16,
   "metadata": {},
   "outputs": [],
   "source": [
    "df.drop(['Warranty'], axis = 1, inplace = True)           # complicated info not about column name. lack info."
   ]
  },
  {
   "cell_type": "code",
   "execution_count": 17,
   "metadata": {},
   "outputs": [],
   "source": [
    "df.drop(['Previous Owners'], axis = 1, inplace = True)    # same with prev_owner column. and lack,wrong info."
   ]
  },
  {
   "cell_type": "code",
   "execution_count": 18,
   "metadata": {},
   "outputs": [],
   "source": [
    "df.drop(['Next Inspection', 'Inspection new', 'Last Service Date'], axis = 1, inplace = True) # obligatory"
   ]
  },
  {
   "cell_type": "code",
   "execution_count": 19,
   "metadata": {},
   "outputs": [],
   "source": [
    "df.drop(['prev_owner'], axis = 1, inplace = True)         # obligatory "
   ]
  },
  {
   "cell_type": "code",
   "execution_count": 20,
   "metadata": {},
   "outputs": [],
   "source": [
    "df.drop(['Non-smoking Vehicle'], axis = 1, inplace = True)  # useless and wrong info. high NaN."
   ]
  },
  {
   "cell_type": "code",
   "execution_count": 21,
   "metadata": {},
   "outputs": [],
   "source": [
    "df.drop(['Drive chain'], axis = 1, inplace = True)       # useless info"
   ]
  },
  {
   "cell_type": "code",
   "execution_count": 22,
   "metadata": {},
   "outputs": [],
   "source": [
    "df.drop(['Full Service'], axis = 1, inplace = True)       # useless info"
   ]
  },
  {
   "cell_type": "code",
   "execution_count": 23,
   "metadata": {},
   "outputs": [],
   "source": [
    "df.drop(['vat'], axis = 1, inplace = True)                # just one value dominate."
   ]
  },
  {
   "cell_type": "code",
   "execution_count": 24,
   "metadata": {},
   "outputs": [],
   "source": [
    "df.drop(['Paint Type'], axis = 1, inplace = True)         # useless info"
   ]
  },
  {
   "cell_type": "code",
   "execution_count": 25,
   "metadata": {},
   "outputs": [],
   "source": [
    "df.drop(['Body Color Original'], axis = 1, inplace = True)    # useless info"
   ]
  },
  {
   "cell_type": "code",
   "execution_count": 26,
   "metadata": {},
   "outputs": [],
   "source": [
    "df.drop(['CO2 Emission'], axis = 1, inplace = True)    # useless info"
   ]
  },
  {
   "cell_type": "code",
   "execution_count": 27,
   "metadata": {},
   "outputs": [],
   "source": [
    "df.drop(['short_description'], axis = 1, inplace = True)   # too many characteric info. duplicates."
   ]
  },
  {
   "cell_type": "code",
   "execution_count": 28,
   "metadata": {},
   "outputs": [],
   "source": [
    "df.drop(['Cylinders'], axis = 1, inplace = True)  # high NaN."
   ]
  },
  {
   "cell_type": "code",
   "execution_count": 29,
   "metadata": {},
   "outputs": [],
   "source": [
    "df.rename(columns = {'\\nComfort & Convenience\\n' : 'Comfort & Convenience',\n",
    "                    '\\nEntertainment & Media\\n' : 'Entertainment & Media',\n",
    "                    '\\nExtras\\n' : 'Extras', '\\nSafety & Security\\n' : 'Safety & Security'}, inplace = True)"
   ]
  },
  {
   "cell_type": "code",
   "execution_count": 30,
   "metadata": {
    "scrolled": false
   },
   "outputs": [
    {
     "name": "stdout",
     "output_type": "stream",
     "text": [
      "<class 'pandas.core.frame.DataFrame'>\n",
      "RangeIndex: 15919 entries, 0 to 15918\n",
      "Data columns (total 21 columns):\n",
      " #   Column                 Non-Null Count  Dtype \n",
      "---  ------                 --------------  ----- \n",
      " 0   make_model             15919 non-null  object\n",
      " 1   body_type              15859 non-null  object\n",
      " 2   price                  15919 non-null  int64 \n",
      " 3   km                     15919 non-null  object\n",
      " 4   registration           15919 non-null  object\n",
      " 5   hp                     15919 non-null  object\n",
      " 6   First Registration     14322 non-null  object\n",
      " 7   Body Color             15322 non-null  object\n",
      " 8   Upholstery             12199 non-null  object\n",
      " 9   Nr. of Doors           15707 non-null  object\n",
      " 10  Nr. of Seats           14942 non-null  object\n",
      " 11  Gearing Type           15919 non-null  object\n",
      " 12  Displacement           15423 non-null  object\n",
      " 13  Fuel                   15919 non-null  object\n",
      " 14  Consumption            14013 non-null  object\n",
      " 15  Emission Class         12898 non-null  object\n",
      " 16  Comfort & Convenience  14999 non-null  object\n",
      " 17  Entertainment & Media  14545 non-null  object\n",
      " 18  Extras                 12957 non-null  object\n",
      " 19  Safety & Security      14937 non-null  object\n",
      " 20  Gears                  11207 non-null  object\n",
      "dtypes: int64(1), object(20)\n",
      "memory usage: 2.6+ MB\n"
     ]
    }
   ],
   "source": [
    "df.info()"
   ]
  },
  {
   "cell_type": "code",
   "execution_count": 32,
   "metadata": {},
   "outputs": [],
   "source": [
    "pd.set_option('display.max_columns', 37)"
   ]
  },
  {
   "cell_type": "code",
   "execution_count": 34,
   "metadata": {
    "scrolled": true
   },
   "outputs": [
    {
     "data": {
      "text/html": [
       "<div>\n",
       "<style scoped>\n",
       "    .dataframe tbody tr th:only-of-type {\n",
       "        vertical-align: middle;\n",
       "    }\n",
       "\n",
       "    .dataframe tbody tr th {\n",
       "        vertical-align: top;\n",
       "    }\n",
       "\n",
       "    .dataframe thead th {\n",
       "        text-align: right;\n",
       "    }\n",
       "</style>\n",
       "<table border=\"1\" class=\"dataframe\">\n",
       "  <thead>\n",
       "    <tr style=\"text-align: right;\">\n",
       "      <th></th>\n",
       "      <th>make_model</th>\n",
       "      <th>body_type</th>\n",
       "      <th>price</th>\n",
       "      <th>km</th>\n",
       "      <th>registration</th>\n",
       "      <th>hp</th>\n",
       "      <th>First Registration</th>\n",
       "      <th>Body Color</th>\n",
       "      <th>Upholstery</th>\n",
       "      <th>Nr. of Doors</th>\n",
       "      <th>Nr. of Seats</th>\n",
       "      <th>Gearing Type</th>\n",
       "      <th>Displacement</th>\n",
       "      <th>Fuel</th>\n",
       "      <th>Consumption</th>\n",
       "      <th>Emission Class</th>\n",
       "      <th>Comfort &amp; Convenience</th>\n",
       "      <th>Entertainment &amp; Media</th>\n",
       "      <th>Extras</th>\n",
       "      <th>Safety &amp; Security</th>\n",
       "      <th>Gears</th>\n",
       "    </tr>\n",
       "  </thead>\n",
       "  <tbody>\n",
       "    <tr>\n",
       "      <th>0</th>\n",
       "      <td>Audi A1</td>\n",
       "      <td>Sedans</td>\n",
       "      <td>15770</td>\n",
       "      <td>56,013 km</td>\n",
       "      <td>01/2016</td>\n",
       "      <td>66 kW</td>\n",
       "      <td>[\\n, 2016, \\n]</td>\n",
       "      <td>[\\n, Black, \\n]</td>\n",
       "      <td>[\\nCloth, Black\\n]</td>\n",
       "      <td>[\\n5\\n]</td>\n",
       "      <td>[\\n5\\n]</td>\n",
       "      <td>[\\n, Automatic, \\n]</td>\n",
       "      <td>[\\n1,422 cc\\n]</td>\n",
       "      <td>[\\n, Diesel (Particulate Filter), \\n]</td>\n",
       "      <td>[[3.8 l/100 km (comb)], [4.3 l/100 km (city)],...</td>\n",
       "      <td>[\\nEuro 6\\n]</td>\n",
       "      <td>[Air conditioning, Armrest, Automatic climate ...</td>\n",
       "      <td>[Bluetooth, Hands-free equipment, On-board com...</td>\n",
       "      <td>[Alloy wheels, Catalytic Converter, Voice Cont...</td>\n",
       "      <td>[ABS, Central door lock, Daytime running light...</td>\n",
       "      <td>NaN</td>\n",
       "    </tr>\n",
       "    <tr>\n",
       "      <th>1</th>\n",
       "      <td>Audi A1</td>\n",
       "      <td>Sedans</td>\n",
       "      <td>14500</td>\n",
       "      <td>80,000 km</td>\n",
       "      <td>03/2017</td>\n",
       "      <td>141 kW</td>\n",
       "      <td>[\\n, 2017, \\n]</td>\n",
       "      <td>[\\n, Red, \\n]</td>\n",
       "      <td>[\\nCloth, Grey\\n]</td>\n",
       "      <td>[\\n3\\n]</td>\n",
       "      <td>[\\n4\\n]</td>\n",
       "      <td>[\\n, Automatic, \\n]</td>\n",
       "      <td>[\\n1,798 cc\\n]</td>\n",
       "      <td>[\\n, Gasoline, \\n]</td>\n",
       "      <td>[[5.6 l/100 km (comb)], [7.1 l/100 km (city)],...</td>\n",
       "      <td>[\\nEuro 6\\n]</td>\n",
       "      <td>[Air conditioning, Automatic climate control, ...</td>\n",
       "      <td>[Bluetooth, Hands-free equipment, On-board com...</td>\n",
       "      <td>[Alloy wheels, Sport seats, Sport suspension, ...</td>\n",
       "      <td>[ABS, Central door lock, Central door lock wit...</td>\n",
       "      <td>[\\n7\\n]</td>\n",
       "    </tr>\n",
       "    <tr>\n",
       "      <th>2</th>\n",
       "      <td>Audi A1</td>\n",
       "      <td>Sedans</td>\n",
       "      <td>14640</td>\n",
       "      <td>83,450 km</td>\n",
       "      <td>02/2016</td>\n",
       "      <td>85 kW</td>\n",
       "      <td>[\\n, 2016, \\n]</td>\n",
       "      <td>[\\n, Black, \\n]</td>\n",
       "      <td>[\\nCloth, Black\\n]</td>\n",
       "      <td>[\\n4\\n]</td>\n",
       "      <td>[\\n4\\n]</td>\n",
       "      <td>[\\n, Automatic, \\n]</td>\n",
       "      <td>[\\n1,598 cc\\n]</td>\n",
       "      <td>[\\n, Diesel (Particulate Filter), \\n]</td>\n",
       "      <td>[[3.8 l/100 km (comb)], [4.4 l/100 km (city)],...</td>\n",
       "      <td>[\\nEuro 6\\n]</td>\n",
       "      <td>[Air conditioning, Cruise control, Electrical ...</td>\n",
       "      <td>[MP3, On-board computer]</td>\n",
       "      <td>[Alloy wheels, Voice Control]</td>\n",
       "      <td>[ABS, Central door lock, Daytime running light...</td>\n",
       "      <td>NaN</td>\n",
       "    </tr>\n",
       "    <tr>\n",
       "      <th>3</th>\n",
       "      <td>Audi A1</td>\n",
       "      <td>Sedans</td>\n",
       "      <td>14500</td>\n",
       "      <td>73,000 km</td>\n",
       "      <td>08/2016</td>\n",
       "      <td>66 kW</td>\n",
       "      <td>[\\n, 2016, \\n]</td>\n",
       "      <td>[\\n, Brown, \\n]</td>\n",
       "      <td>NaN</td>\n",
       "      <td>[\\n3\\n]</td>\n",
       "      <td>[\\n4\\n]</td>\n",
       "      <td>[\\n, Automatic, \\n]</td>\n",
       "      <td>[\\n1,422 cc\\n]</td>\n",
       "      <td>[\\n, Diesel (Particulate Filter), \\n]</td>\n",
       "      <td>[[3.8 l/100 km (comb)], [4.3 l/100 km (city)],...</td>\n",
       "      <td>[\\nEuro 6\\n]</td>\n",
       "      <td>[Air suspension, Armrest, Auxiliary heating, E...</td>\n",
       "      <td>[Bluetooth, CD player, Hands-free equipment, M...</td>\n",
       "      <td>[Alloy wheels, Sport seats, Voice Control]</td>\n",
       "      <td>[ABS, Alarm system, Central door lock with rem...</td>\n",
       "      <td>[\\n6\\n]</td>\n",
       "    </tr>\n",
       "    <tr>\n",
       "      <th>4</th>\n",
       "      <td>Audi A1</td>\n",
       "      <td>Sedans</td>\n",
       "      <td>16790</td>\n",
       "      <td>16,200 km</td>\n",
       "      <td>05/2016</td>\n",
       "      <td>66 kW</td>\n",
       "      <td>[\\n, 2016, \\n]</td>\n",
       "      <td>[\\n, Black, \\n]</td>\n",
       "      <td>[\\nCloth, Black\\n]</td>\n",
       "      <td>[\\n5\\n]</td>\n",
       "      <td>[\\n5\\n]</td>\n",
       "      <td>[\\n, Automatic, \\n]</td>\n",
       "      <td>[\\n1,422 cc\\n]</td>\n",
       "      <td>[\\n, Diesel (Particulate Filter), \\n]</td>\n",
       "      <td>[[4.1 l/100 km (comb)], [4.6 l/100 km (city)],...</td>\n",
       "      <td>[\\nEuro 6\\n]</td>\n",
       "      <td>[Air conditioning, Armrest, Automatic climate ...</td>\n",
       "      <td>[Bluetooth, CD player, Hands-free equipment, M...</td>\n",
       "      <td>[Alloy wheels, Sport package, Sport suspension...</td>\n",
       "      <td>[ABS, Central door lock, Driver-side airbag, E...</td>\n",
       "      <td>NaN</td>\n",
       "    </tr>\n",
       "  </tbody>\n",
       "</table>\n",
       "</div>"
      ],
      "text/plain": [
       "  make_model body_type  price         km registration      hp  \\\n",
       "0    Audi A1    Sedans  15770  56,013 km      01/2016   66 kW   \n",
       "1    Audi A1    Sedans  14500  80,000 km      03/2017  141 kW   \n",
       "2    Audi A1    Sedans  14640  83,450 km      02/2016   85 kW   \n",
       "3    Audi A1    Sedans  14500  73,000 km      08/2016   66 kW   \n",
       "4    Audi A1    Sedans  16790  16,200 km      05/2016   66 kW   \n",
       "\n",
       "  First Registration       Body Color          Upholstery Nr. of Doors  \\\n",
       "0     [\\n, 2016, \\n]  [\\n, Black, \\n]  [\\nCloth, Black\\n]      [\\n5\\n]   \n",
       "1     [\\n, 2017, \\n]    [\\n, Red, \\n]   [\\nCloth, Grey\\n]      [\\n3\\n]   \n",
       "2     [\\n, 2016, \\n]  [\\n, Black, \\n]  [\\nCloth, Black\\n]      [\\n4\\n]   \n",
       "3     [\\n, 2016, \\n]  [\\n, Brown, \\n]                 NaN      [\\n3\\n]   \n",
       "4     [\\n, 2016, \\n]  [\\n, Black, \\n]  [\\nCloth, Black\\n]      [\\n5\\n]   \n",
       "\n",
       "  Nr. of Seats         Gearing Type    Displacement  \\\n",
       "0      [\\n5\\n]  [\\n, Automatic, \\n]  [\\n1,422 cc\\n]   \n",
       "1      [\\n4\\n]  [\\n, Automatic, \\n]  [\\n1,798 cc\\n]   \n",
       "2      [\\n4\\n]  [\\n, Automatic, \\n]  [\\n1,598 cc\\n]   \n",
       "3      [\\n4\\n]  [\\n, Automatic, \\n]  [\\n1,422 cc\\n]   \n",
       "4      [\\n5\\n]  [\\n, Automatic, \\n]  [\\n1,422 cc\\n]   \n",
       "\n",
       "                                    Fuel  \\\n",
       "0  [\\n, Diesel (Particulate Filter), \\n]   \n",
       "1                     [\\n, Gasoline, \\n]   \n",
       "2  [\\n, Diesel (Particulate Filter), \\n]   \n",
       "3  [\\n, Diesel (Particulate Filter), \\n]   \n",
       "4  [\\n, Diesel (Particulate Filter), \\n]   \n",
       "\n",
       "                                         Consumption Emission Class  \\\n",
       "0  [[3.8 l/100 km (comb)], [4.3 l/100 km (city)],...   [\\nEuro 6\\n]   \n",
       "1  [[5.6 l/100 km (comb)], [7.1 l/100 km (city)],...   [\\nEuro 6\\n]   \n",
       "2  [[3.8 l/100 km (comb)], [4.4 l/100 km (city)],...   [\\nEuro 6\\n]   \n",
       "3  [[3.8 l/100 km (comb)], [4.3 l/100 km (city)],...   [\\nEuro 6\\n]   \n",
       "4  [[4.1 l/100 km (comb)], [4.6 l/100 km (city)],...   [\\nEuro 6\\n]   \n",
       "\n",
       "                               Comfort & Convenience  \\\n",
       "0  [Air conditioning, Armrest, Automatic climate ...   \n",
       "1  [Air conditioning, Automatic climate control, ...   \n",
       "2  [Air conditioning, Cruise control, Electrical ...   \n",
       "3  [Air suspension, Armrest, Auxiliary heating, E...   \n",
       "4  [Air conditioning, Armrest, Automatic climate ...   \n",
       "\n",
       "                               Entertainment & Media  \\\n",
       "0  [Bluetooth, Hands-free equipment, On-board com...   \n",
       "1  [Bluetooth, Hands-free equipment, On-board com...   \n",
       "2                           [MP3, On-board computer]   \n",
       "3  [Bluetooth, CD player, Hands-free equipment, M...   \n",
       "4  [Bluetooth, CD player, Hands-free equipment, M...   \n",
       "\n",
       "                                              Extras  \\\n",
       "0  [Alloy wheels, Catalytic Converter, Voice Cont...   \n",
       "1  [Alloy wheels, Sport seats, Sport suspension, ...   \n",
       "2                      [Alloy wheels, Voice Control]   \n",
       "3         [Alloy wheels, Sport seats, Voice Control]   \n",
       "4  [Alloy wheels, Sport package, Sport suspension...   \n",
       "\n",
       "                                   Safety & Security    Gears  \n",
       "0  [ABS, Central door lock, Daytime running light...      NaN  \n",
       "1  [ABS, Central door lock, Central door lock wit...  [\\n7\\n]  \n",
       "2  [ABS, Central door lock, Daytime running light...      NaN  \n",
       "3  [ABS, Alarm system, Central door lock with rem...  [\\n6\\n]  \n",
       "4  [ABS, Central door lock, Driver-side airbag, E...      NaN  "
      ]
     },
     "execution_count": 34,
     "metadata": {},
     "output_type": "execute_result"
    }
   ],
   "source": [
    "df.head()"
   ]
  },
  {
   "cell_type": "code",
   "execution_count": 31,
   "metadata": {},
   "outputs": [],
   "source": [
    "def fill_most(x, y):\n",
    "    a = df[x][df['make_model'] == y].value_counts().index[0]\n",
    "    b = df[x][df['make_model'] == y]\n",
    "    b = b.apply(lambda z : z if isinstance(z, list) else a)\n",
    "    df[x][df['make_model'] == y] = b"
   ]
  },
  {
   "cell_type": "code",
   "execution_count": 36,
   "metadata": {},
   "outputs": [],
   "source": [
    "# a = (df['Comfort & Convenience'][df['make_model'] == 'Audi A1'].value_counts().index[0])"
   ]
  },
  {
   "cell_type": "code",
   "execution_count": 37,
   "metadata": {},
   "outputs": [],
   "source": [
    "# df['Comfort & Convenience'][df['make_model'] == 'Audi A1'] = df['Comfort & Convenience'][df['make_model'] == 'Audi A1'].apply(lambda d: d if isinstance(d, list) else a)"
   ]
  },
  {
   "cell_type": "code",
   "execution_count": 38,
   "metadata": {},
   "outputs": [
    {
     "data": {
      "text/plain": [
       "array(['Audi A1', 'Audi A2', 'Audi A3', 'Opel Astra', 'Opel Corsa',\n",
       "       'Opel Insignia', 'Renault Clio', 'Renault Duster',\n",
       "       'Renault Espace'], dtype=object)"
      ]
     },
     "execution_count": 38,
     "metadata": {},
     "output_type": "execute_result"
    }
   ],
   "source": [
    "df['make_model'].unique()"
   ]
  },
  {
   "cell_type": "code",
   "execution_count": 32,
   "metadata": {},
   "outputs": [],
   "source": [
    "for i in range(df['make_model'].nunique()):\n",
    "    fill_most('Comfort & Convenience', df['make_model'].unique()[i])"
   ]
  },
  {
   "cell_type": "code",
   "execution_count": 33,
   "metadata": {},
   "outputs": [],
   "source": [
    "for i in range(df['make_model'].nunique()):\n",
    "    fill_most('Entertainment & Media', df['make_model'].unique()[i])"
   ]
  },
  {
   "cell_type": "code",
   "execution_count": 34,
   "metadata": {},
   "outputs": [],
   "source": [
    "for i in range(df['make_model'].nunique()):\n",
    "    fill_most('Extras', df['make_model'].unique()[i])"
   ]
  },
  {
   "cell_type": "code",
   "execution_count": 35,
   "metadata": {},
   "outputs": [],
   "source": [
    "for i in range(df['make_model'].nunique()):\n",
    "    fill_most('Safety & Security', df['make_model'].unique()[i])"
   ]
  },
  {
   "cell_type": "code",
   "execution_count": 36,
   "metadata": {},
   "outputs": [],
   "source": [
    "for i in range(df['make_model'].nunique()):\n",
    "    fill_most('Emission Class', df['make_model'].unique()[i])"
   ]
  },
  {
   "cell_type": "code",
   "execution_count": 37,
   "metadata": {
    "scrolled": false
   },
   "outputs": [
    {
     "data": {
      "text/plain": [
       "make_model                  0\n",
       "body_type                  60\n",
       "price                       0\n",
       "km                          0\n",
       "registration                0\n",
       "hp                          0\n",
       "First Registration       1597\n",
       "Body Color                597\n",
       "Upholstery               3720\n",
       "Nr. of Doors              212\n",
       "Nr. of Seats              977\n",
       "Gearing Type                0\n",
       "Displacement              496\n",
       "Fuel                        0\n",
       "Consumption              1906\n",
       "Emission Class              0\n",
       "Comfort & Convenience       0\n",
       "Entertainment & Media       0\n",
       "Extras                      0\n",
       "Safety & Security           0\n",
       "Gears                    4712\n",
       "dtype: int64"
      ]
     },
     "execution_count": 37,
     "metadata": {},
     "output_type": "execute_result"
    }
   ],
   "source": [
    "df.isnull().sum()"
   ]
  },
  {
   "cell_type": "code",
   "execution_count": 38,
   "metadata": {
    "scrolled": true
   },
   "outputs": [
    {
     "data": {
      "text/html": [
       "<div>\n",
       "<style scoped>\n",
       "    .dataframe tbody tr th:only-of-type {\n",
       "        vertical-align: middle;\n",
       "    }\n",
       "\n",
       "    .dataframe tbody tr th {\n",
       "        vertical-align: top;\n",
       "    }\n",
       "\n",
       "    .dataframe thead th {\n",
       "        text-align: right;\n",
       "    }\n",
       "</style>\n",
       "<table border=\"1\" class=\"dataframe\">\n",
       "  <thead>\n",
       "    <tr style=\"text-align: right;\">\n",
       "      <th></th>\n",
       "      <th>make_model</th>\n",
       "      <th>price</th>\n",
       "    </tr>\n",
       "  </thead>\n",
       "  <tbody>\n",
       "    <tr>\n",
       "      <th>6066</th>\n",
       "      <td>Opel Astra</td>\n",
       "      <td>255</td>\n",
       "    </tr>\n",
       "    <tr>\n",
       "      <th>8594</th>\n",
       "      <td>Opel Corsa</td>\n",
       "      <td>13</td>\n",
       "    </tr>\n",
       "    <tr>\n",
       "      <th>8828</th>\n",
       "      <td>Opel Corsa</td>\n",
       "      <td>120</td>\n",
       "    </tr>\n",
       "    <tr>\n",
       "      <th>8829</th>\n",
       "      <td>Opel Corsa</td>\n",
       "      <td>331</td>\n",
       "    </tr>\n",
       "  </tbody>\n",
       "</table>\n",
       "</div>"
      ],
      "text/plain": [
       "      make_model  price\n",
       "6066  Opel Astra    255\n",
       "8594  Opel Corsa     13\n",
       "8828  Opel Corsa    120\n",
       "8829  Opel Corsa    331"
      ]
     },
     "execution_count": 38,
     "metadata": {},
     "output_type": "execute_result"
    }
   ],
   "source": [
    "df[['make_model', 'price']][df['price'] < 3000]"
   ]
  },
  {
   "cell_type": "code",
   "execution_count": 39,
   "metadata": {
    "scrolled": true
   },
   "outputs": [
    {
     "data": {
      "text/plain": [
       "make_model                                                         Audi A3\n",
       "body_type                                                           Sedans\n",
       "price                                                                29900\n",
       "km                                                                   65 km\n",
       "registration                                                       02/2019\n",
       "hp                                                                   85 kW\n",
       "First Registration                                          [\\n, 2019, \\n]\n",
       "Body Color                                                 [\\n, White, \\n]\n",
       "Upholstery                                              [\\nCloth, Black\\n]\n",
       "Nr. of Doors                                                       [\\n5\\n]\n",
       "Nr. of Seats                                                       [\\n5\\n]\n",
       "Gearing Type                                      [\\n, Semi-automatic, \\n]\n",
       "Displacement                                                [\\n1,598 cc\\n]\n",
       "Fuel                                                      [\\n, Diesel, \\n]\n",
       "Consumption              [[3.9 l/100 km (comb)], [4.1 l/100 km (city)],...\n",
       "Emission Class                                                [\\nEuro 6\\n]\n",
       "Comfort & Convenience    [Air conditioning, Automatic climate control, ...\n",
       "Entertainment & Media    [CD player, Digital radio, On-board computer, ...\n",
       "Extras                                                      [Alloy wheels]\n",
       "Safety & Security        [ABS, Central door lock with remote control, D...\n",
       "Gears                                                              [\\n7\\n]\n",
       "Name: 3635, dtype: object"
      ]
     },
     "execution_count": 39,
     "metadata": {},
     "output_type": "execute_result"
    }
   ],
   "source": [
    "df.loc[3635]"
   ]
  },
  {
   "cell_type": "code",
   "execution_count": 40,
   "metadata": {},
   "outputs": [],
   "source": [
    "df.drop(df[df['price'] < 3000].index, inplace = True)"
   ]
  },
  {
   "cell_type": "code",
   "execution_count": 41,
   "metadata": {},
   "outputs": [],
   "source": [
    "df.drop(df[(df['km'] == '- km') & (df['registration'] != '-/-')].index, inplace = True)"
   ]
  },
  {
   "cell_type": "code",
   "execution_count": 42,
   "metadata": {},
   "outputs": [],
   "source": [
    "df.dropna(subset = ['Body Color'], inplace = True)"
   ]
  },
  {
   "cell_type": "code",
   "execution_count": 43,
   "metadata": {
    "scrolled": false
   },
   "outputs": [],
   "source": [
    "df.reset_index(drop = True, inplace = True)"
   ]
  },
  {
   "cell_type": "code",
   "execution_count": 44,
   "metadata": {
    "scrolled": true
   },
   "outputs": [
    {
     "data": {
      "text/plain": [
       "10 km         1027\n",
       "- km           543\n",
       "1 km           253\n",
       "5 km           168\n",
       "50 km          147\n",
       "              ... \n",
       "5,394 km         1\n",
       "46,751 km        1\n",
       "159,900 km       1\n",
       "27,029 km        1\n",
       "73,191 km        1\n",
       "Name: km, Length: 6610, dtype: int64"
      ]
     },
     "execution_count": 44,
     "metadata": {},
     "output_type": "execute_result"
    }
   ],
   "source": [
    "df['km'].value_counts(dropna = False)"
   ]
  },
  {
   "cell_type": "code",
   "execution_count": 45,
   "metadata": {},
   "outputs": [],
   "source": [
    "df.replace(to_replace = '- km', value = '0 km', inplace = True)"
   ]
  },
  {
   "cell_type": "code",
   "execution_count": 46,
   "metadata": {
    "scrolled": true
   },
   "outputs": [
    {
     "data": {
      "text/plain": [
       "10 km         1027\n",
       "0 km           562\n",
       "1 km           253\n",
       "5 km           168\n",
       "50 km          147\n",
       "              ... \n",
       "46,751 km        1\n",
       "159,900 km       1\n",
       "27,029 km        1\n",
       "53,980 km        1\n",
       "73,191 km        1\n",
       "Name: km, Length: 6609, dtype: int64"
      ]
     },
     "execution_count": 46,
     "metadata": {},
     "output_type": "execute_result"
    }
   ],
   "source": [
    "df['km'].value_counts(dropna = False)"
   ]
  },
  {
   "cell_type": "code",
   "execution_count": 47,
   "metadata": {},
   "outputs": [],
   "source": [
    "df[['km']] = df[['km']].apply(lambda x: x.str.replace(',',''))"
   ]
  },
  {
   "cell_type": "code",
   "execution_count": 48,
   "metadata": {},
   "outputs": [],
   "source": [
    "df['km'] = df['km'].str.extract('(\\d\\d\\d\\d\\d\\d|\\d\\d\\d\\d\\d|\\d\\d\\d\\d|\\d\\d\\d|\\d\\d|\\d)')"
   ]
  },
  {
   "cell_type": "code",
   "execution_count": 49,
   "metadata": {
    "scrolled": true
   },
   "outputs": [],
   "source": [
    "df['km'] = pd.to_numeric(df['km'])"
   ]
  },
  {
   "cell_type": "code",
   "execution_count": 50,
   "metadata": {},
   "outputs": [
    {
     "data": {
      "text/plain": [
       "0        56013\n",
       "1        80000\n",
       "2        83450\n",
       "3        73000\n",
       "4        16200\n",
       "         ...  \n",
       "15131     1000\n",
       "15132        0\n",
       "15133     9900\n",
       "15134       15\n",
       "15135       10\n",
       "Name: km, Length: 15136, dtype: int64"
      ]
     },
     "execution_count": 50,
     "metadata": {},
     "output_type": "execute_result"
    }
   ],
   "source": [
    "df['km']"
   ]
  },
  {
   "cell_type": "code",
   "execution_count": 51,
   "metadata": {},
   "outputs": [],
   "source": [
    "df.dropna(subset = ['body_type'], inplace = True)"
   ]
  },
  {
   "cell_type": "code",
   "execution_count": 52,
   "metadata": {},
   "outputs": [
    {
     "data": {
      "text/html": [
       "<div>\n",
       "<style scoped>\n",
       "    .dataframe tbody tr th:only-of-type {\n",
       "        vertical-align: middle;\n",
       "    }\n",
       "\n",
       "    .dataframe tbody tr th {\n",
       "        vertical-align: top;\n",
       "    }\n",
       "\n",
       "    .dataframe thead th {\n",
       "        text-align: right;\n",
       "    }\n",
       "</style>\n",
       "<table border=\"1\" class=\"dataframe\">\n",
       "  <thead>\n",
       "    <tr style=\"text-align: right;\">\n",
       "      <th></th>\n",
       "      <th>make_model</th>\n",
       "      <th>body_type</th>\n",
       "      <th>price</th>\n",
       "      <th>km</th>\n",
       "      <th>registration</th>\n",
       "      <th>hp</th>\n",
       "      <th>First Registration</th>\n",
       "      <th>Body Color</th>\n",
       "      <th>Upholstery</th>\n",
       "      <th>Nr. of Doors</th>\n",
       "      <th>...</th>\n",
       "      <th>Gearing Type</th>\n",
       "      <th>Displacement</th>\n",
       "      <th>Fuel</th>\n",
       "      <th>Consumption</th>\n",
       "      <th>Emission Class</th>\n",
       "      <th>Comfort &amp; Convenience</th>\n",
       "      <th>Entertainment &amp; Media</th>\n",
       "      <th>Extras</th>\n",
       "      <th>Safety &amp; Security</th>\n",
       "      <th>Gears</th>\n",
       "    </tr>\n",
       "  </thead>\n",
       "  <tbody>\n",
       "    <tr>\n",
       "      <th>0</th>\n",
       "      <td>Audi A1</td>\n",
       "      <td>Sedans</td>\n",
       "      <td>15770</td>\n",
       "      <td>56013</td>\n",
       "      <td>01/2016</td>\n",
       "      <td>66 kW</td>\n",
       "      <td>[\\n, 2016, \\n]</td>\n",
       "      <td>[\\n, Black, \\n]</td>\n",
       "      <td>[\\nCloth, Black\\n]</td>\n",
       "      <td>[\\n5\\n]</td>\n",
       "      <td>...</td>\n",
       "      <td>[\\n, Automatic, \\n]</td>\n",
       "      <td>[\\n1,422 cc\\n]</td>\n",
       "      <td>[\\n, Diesel (Particulate Filter), \\n]</td>\n",
       "      <td>[[3.8 l/100 km (comb)], [4.3 l/100 km (city)],...</td>\n",
       "      <td>[\\nEuro 6\\n]</td>\n",
       "      <td>[Air conditioning, Armrest, Automatic climate ...</td>\n",
       "      <td>[Bluetooth, Hands-free equipment, On-board com...</td>\n",
       "      <td>[Alloy wheels, Catalytic Converter, Voice Cont...</td>\n",
       "      <td>[ABS, Central door lock, Daytime running light...</td>\n",
       "      <td>NaN</td>\n",
       "    </tr>\n",
       "    <tr>\n",
       "      <th>1</th>\n",
       "      <td>Audi A1</td>\n",
       "      <td>Sedans</td>\n",
       "      <td>14500</td>\n",
       "      <td>80000</td>\n",
       "      <td>03/2017</td>\n",
       "      <td>141 kW</td>\n",
       "      <td>[\\n, 2017, \\n]</td>\n",
       "      <td>[\\n, Red, \\n]</td>\n",
       "      <td>[\\nCloth, Grey\\n]</td>\n",
       "      <td>[\\n3\\n]</td>\n",
       "      <td>...</td>\n",
       "      <td>[\\n, Automatic, \\n]</td>\n",
       "      <td>[\\n1,798 cc\\n]</td>\n",
       "      <td>[\\n, Gasoline, \\n]</td>\n",
       "      <td>[[5.6 l/100 km (comb)], [7.1 l/100 km (city)],...</td>\n",
       "      <td>[\\nEuro 6\\n]</td>\n",
       "      <td>[Air conditioning, Automatic climate control, ...</td>\n",
       "      <td>[Bluetooth, Hands-free equipment, On-board com...</td>\n",
       "      <td>[Alloy wheels, Sport seats, Sport suspension, ...</td>\n",
       "      <td>[ABS, Central door lock, Central door lock wit...</td>\n",
       "      <td>[\\n7\\n]</td>\n",
       "    </tr>\n",
       "    <tr>\n",
       "      <th>2</th>\n",
       "      <td>Audi A1</td>\n",
       "      <td>Sedans</td>\n",
       "      <td>14640</td>\n",
       "      <td>83450</td>\n",
       "      <td>02/2016</td>\n",
       "      <td>85 kW</td>\n",
       "      <td>[\\n, 2016, \\n]</td>\n",
       "      <td>[\\n, Black, \\n]</td>\n",
       "      <td>[\\nCloth, Black\\n]</td>\n",
       "      <td>[\\n4\\n]</td>\n",
       "      <td>...</td>\n",
       "      <td>[\\n, Automatic, \\n]</td>\n",
       "      <td>[\\n1,598 cc\\n]</td>\n",
       "      <td>[\\n, Diesel (Particulate Filter), \\n]</td>\n",
       "      <td>[[3.8 l/100 km (comb)], [4.4 l/100 km (city)],...</td>\n",
       "      <td>[\\nEuro 6\\n]</td>\n",
       "      <td>[Air conditioning, Cruise control, Electrical ...</td>\n",
       "      <td>[MP3, On-board computer]</td>\n",
       "      <td>[Alloy wheels, Voice Control]</td>\n",
       "      <td>[ABS, Central door lock, Daytime running light...</td>\n",
       "      <td>NaN</td>\n",
       "    </tr>\n",
       "    <tr>\n",
       "      <th>3</th>\n",
       "      <td>Audi A1</td>\n",
       "      <td>Sedans</td>\n",
       "      <td>14500</td>\n",
       "      <td>73000</td>\n",
       "      <td>08/2016</td>\n",
       "      <td>66 kW</td>\n",
       "      <td>[\\n, 2016, \\n]</td>\n",
       "      <td>[\\n, Brown, \\n]</td>\n",
       "      <td>NaN</td>\n",
       "      <td>[\\n3\\n]</td>\n",
       "      <td>...</td>\n",
       "      <td>[\\n, Automatic, \\n]</td>\n",
       "      <td>[\\n1,422 cc\\n]</td>\n",
       "      <td>[\\n, Diesel (Particulate Filter), \\n]</td>\n",
       "      <td>[[3.8 l/100 km (comb)], [4.3 l/100 km (city)],...</td>\n",
       "      <td>[\\nEuro 6\\n]</td>\n",
       "      <td>[Air suspension, Armrest, Auxiliary heating, E...</td>\n",
       "      <td>[Bluetooth, CD player, Hands-free equipment, M...</td>\n",
       "      <td>[Alloy wheels, Sport seats, Voice Control]</td>\n",
       "      <td>[ABS, Alarm system, Central door lock with rem...</td>\n",
       "      <td>[\\n6\\n]</td>\n",
       "    </tr>\n",
       "    <tr>\n",
       "      <th>4</th>\n",
       "      <td>Audi A1</td>\n",
       "      <td>Sedans</td>\n",
       "      <td>16790</td>\n",
       "      <td>16200</td>\n",
       "      <td>05/2016</td>\n",
       "      <td>66 kW</td>\n",
       "      <td>[\\n, 2016, \\n]</td>\n",
       "      <td>[\\n, Black, \\n]</td>\n",
       "      <td>[\\nCloth, Black\\n]</td>\n",
       "      <td>[\\n5\\n]</td>\n",
       "      <td>...</td>\n",
       "      <td>[\\n, Automatic, \\n]</td>\n",
       "      <td>[\\n1,422 cc\\n]</td>\n",
       "      <td>[\\n, Diesel (Particulate Filter), \\n]</td>\n",
       "      <td>[[4.1 l/100 km (comb)], [4.6 l/100 km (city)],...</td>\n",
       "      <td>[\\nEuro 6\\n]</td>\n",
       "      <td>[Air conditioning, Armrest, Automatic climate ...</td>\n",
       "      <td>[Bluetooth, CD player, Hands-free equipment, M...</td>\n",
       "      <td>[Alloy wheels, Sport package, Sport suspension...</td>\n",
       "      <td>[ABS, Central door lock, Driver-side airbag, E...</td>\n",
       "      <td>NaN</td>\n",
       "    </tr>\n",
       "    <tr>\n",
       "      <th>5</th>\n",
       "      <td>Audi A1</td>\n",
       "      <td>Sedans</td>\n",
       "      <td>15090</td>\n",
       "      <td>63668</td>\n",
       "      <td>02/2016</td>\n",
       "      <td>85 kW</td>\n",
       "      <td>[\\n, 2016, \\n]</td>\n",
       "      <td>[\\n, White, \\n]</td>\n",
       "      <td>[\\nPart leather, Black\\n]</td>\n",
       "      <td>[\\n4\\n]</td>\n",
       "      <td>...</td>\n",
       "      <td>[\\n, Automatic, \\n]</td>\n",
       "      <td>[\\n1,598 cc\\n]</td>\n",
       "      <td>[\\n, Diesel (Particulate Filter), \\n]</td>\n",
       "      <td>[[3.5 l/100 km (comb)], [4.3 l/100 km (city)],...</td>\n",
       "      <td>[\\nEuro 6\\n]</td>\n",
       "      <td>[Air conditioning, Armrest, Automatic climate ...</td>\n",
       "      <td>[Bluetooth, Hands-free equipment, On-board com...</td>\n",
       "      <td>[Alloy wheels, Sport package, Sport seats, Spo...</td>\n",
       "      <td>[ABS, Central door lock, Daytime running light...</td>\n",
       "      <td>NaN</td>\n",
       "    </tr>\n",
       "    <tr>\n",
       "      <th>6</th>\n",
       "      <td>Audi A1</td>\n",
       "      <td>Station wagon</td>\n",
       "      <td>16422</td>\n",
       "      <td>62111</td>\n",
       "      <td>03/2016</td>\n",
       "      <td>85 kW</td>\n",
       "      <td>[\\n, 2016, \\n]</td>\n",
       "      <td>[\\n, White, \\n]</td>\n",
       "      <td>[\\nPart leather, Black\\n]</td>\n",
       "      <td>[\\n4\\n]</td>\n",
       "      <td>...</td>\n",
       "      <td>[\\n, Automatic, \\n]</td>\n",
       "      <td>[\\n1,598 cc\\n]</td>\n",
       "      <td>[\\n, Diesel (Particulate Filter), \\n]</td>\n",
       "      <td>[[3.7 l/100 km (comb)], [4.3 l/100 km (city)],...</td>\n",
       "      <td>[\\nEuro 6\\n]</td>\n",
       "      <td>[Air conditioning, Armrest, Automatic climate ...</td>\n",
       "      <td>[Bluetooth, CD player, Hands-free equipment, O...</td>\n",
       "      <td>[Alloy wheels, Sport package, Sport seats, Spo...</td>\n",
       "      <td>[ABS, Central door lock, Daytime running light...</td>\n",
       "      <td>NaN</td>\n",
       "    </tr>\n",
       "    <tr>\n",
       "      <th>7</th>\n",
       "      <td>Audi A1</td>\n",
       "      <td>Compact</td>\n",
       "      <td>14480</td>\n",
       "      <td>14986</td>\n",
       "      <td>02/2016</td>\n",
       "      <td>66 kW</td>\n",
       "      <td>[\\n, 2016, \\n]</td>\n",
       "      <td>[\\n, Red, \\n]</td>\n",
       "      <td>[\\nCloth, Black\\n]</td>\n",
       "      <td>[\\n5\\n]</td>\n",
       "      <td>...</td>\n",
       "      <td>[\\n, Automatic, \\n]</td>\n",
       "      <td>[\\n1,422 cc\\n]</td>\n",
       "      <td>[\\n, Diesel (Particulate Filter), \\n]</td>\n",
       "      <td>[[3.7 l/100 km (comb)], [4.2 l/100 km (city)],...</td>\n",
       "      <td>[\\nEuro 6\\n]</td>\n",
       "      <td>[Air conditioning, Armrest, Electrical side mi...</td>\n",
       "      <td>[CD player, MP3, Radio]</td>\n",
       "      <td>[Alloy wheels]</td>\n",
       "      <td>[ABS, Central door lock, Daytime running light...</td>\n",
       "      <td>[\\n7\\n]</td>\n",
       "    </tr>\n",
       "    <tr>\n",
       "      <th>8</th>\n",
       "      <td>Audi A1</td>\n",
       "      <td>Sedans</td>\n",
       "      <td>16700</td>\n",
       "      <td>57000</td>\n",
       "      <td>02/2016</td>\n",
       "      <td>85 kW</td>\n",
       "      <td>[\\n, 2016, \\n]</td>\n",
       "      <td>[\\n, Grey, \\n]</td>\n",
       "      <td>[\\nCloth, Grey\\n]</td>\n",
       "      <td>[\\n5\\n]</td>\n",
       "      <td>...</td>\n",
       "      <td>[\\n, Automatic, \\n]</td>\n",
       "      <td>[\\n1,598 cc\\n]</td>\n",
       "      <td>[\\n, Diesel (Particulate Filter), \\n]</td>\n",
       "      <td>[[3.7 l/100 km (comb)], [4.3 l/100 km (city)],...</td>\n",
       "      <td>[\\nEuro 6\\n]</td>\n",
       "      <td>[Air conditioning, Power windows]</td>\n",
       "      <td>[Radio]</td>\n",
       "      <td>[Alloy wheels]</td>\n",
       "      <td>[ABS, Central door lock, Driver-side airbag, E...</td>\n",
       "      <td>[\\n7\\n]</td>\n",
       "    </tr>\n",
       "    <tr>\n",
       "      <th>9</th>\n",
       "      <td>Audi A1</td>\n",
       "      <td>Sedans</td>\n",
       "      <td>17990</td>\n",
       "      <td>16103</td>\n",
       "      <td>06/2017</td>\n",
       "      <td>70 kW</td>\n",
       "      <td>[\\n, 2017, \\n]</td>\n",
       "      <td>[\\n, White, \\n]</td>\n",
       "      <td>NaN</td>\n",
       "      <td>[\\n5\\n]</td>\n",
       "      <td>...</td>\n",
       "      <td>[\\n, Automatic, \\n]</td>\n",
       "      <td>[\\n999 cc\\n]</td>\n",
       "      <td>[\\n, Gasoline, \\n]</td>\n",
       "      <td>NaN</td>\n",
       "      <td>[\\nEuro 6\\n]</td>\n",
       "      <td>[Air conditioning, Armrest, Automatic climate ...</td>\n",
       "      <td>[Bluetooth, CD player, Hands-free equipment, M...</td>\n",
       "      <td>[Alloy wheels]</td>\n",
       "      <td>[ABS, Central door lock, Daytime running light...</td>\n",
       "      <td>[\\n7\\n]</td>\n",
       "    </tr>\n",
       "    <tr>\n",
       "      <th>10</th>\n",
       "      <td>Audi A1</td>\n",
       "      <td>Sedans</td>\n",
       "      <td>18500</td>\n",
       "      <td>11300</td>\n",
       "      <td>05/2018</td>\n",
       "      <td>85 kW</td>\n",
       "      <td>[\\n, 2018, \\n]</td>\n",
       "      <td>[\\n, Black, \\n]</td>\n",
       "      <td>[\\nCloth, Black\\n]</td>\n",
       "      <td>[\\n3\\n]</td>\n",
       "      <td>...</td>\n",
       "      <td>[\\n, Automatic, \\n]</td>\n",
       "      <td>[\\n1,598 cc\\n]</td>\n",
       "      <td>[\\n, Diesel (Particulate Filter), \\n]</td>\n",
       "      <td>[[4 l/100 km (comb)], [4.6 l/100 km (city)], [...</td>\n",
       "      <td>[\\nEuro 6\\n]</td>\n",
       "      <td>[Air conditioning, Multi-function steering whe...</td>\n",
       "      <td>[Bluetooth, CD player, Hands-free equipment, M...</td>\n",
       "      <td>[Alloy wheels, Shift paddles]</td>\n",
       "      <td>[ABS, Central door lock, Daytime running light...</td>\n",
       "      <td>[\\n7\\n]</td>\n",
       "    </tr>\n",
       "    <tr>\n",
       "      <th>11</th>\n",
       "      <td>Audi A1</td>\n",
       "      <td>Sedans</td>\n",
       "      <td>17990</td>\n",
       "      <td>26415</td>\n",
       "      <td>05/2016</td>\n",
       "      <td>92 kW</td>\n",
       "      <td>[\\n, 2016, \\n]</td>\n",
       "      <td>[\\n, Silver, \\n]</td>\n",
       "      <td>[\\nCloth, Black\\n]</td>\n",
       "      <td>[\\n4\\n]</td>\n",
       "      <td>...</td>\n",
       "      <td>[\\n, Automatic, \\n]</td>\n",
       "      <td>[\\n1,395 cc\\n]</td>\n",
       "      <td>[\\n, Super 95, \\n]</td>\n",
       "      <td>[[4.9 l/100 km (comb)], [6.2 l/100 km (city)],...</td>\n",
       "      <td>[\\nEuro 6\\n]</td>\n",
       "      <td>[Air conditioning, Automatic climate control, ...</td>\n",
       "      <td>[CD player, Hands-free equipment, On-board com...</td>\n",
       "      <td>[Alloy wheels, Sport seats]</td>\n",
       "      <td>[ABS, Central door lock, Daytime running light...</td>\n",
       "      <td>NaN</td>\n",
       "    </tr>\n",
       "    <tr>\n",
       "      <th>12</th>\n",
       "      <td>Audi A1</td>\n",
       "      <td>Sedans</td>\n",
       "      <td>18380</td>\n",
       "      <td>31600</td>\n",
       "      <td>09/2016</td>\n",
       "      <td>92 kW</td>\n",
       "      <td>[\\n, 2016, \\n]</td>\n",
       "      <td>[\\n, White, \\n]</td>\n",
       "      <td>[\\nPart leather, Black\\n]</td>\n",
       "      <td>[\\n5\\n]</td>\n",
       "      <td>...</td>\n",
       "      <td>[\\n, Automatic, \\n]</td>\n",
       "      <td>[\\n1,395 cc\\n]</td>\n",
       "      <td>[\\n, Regular/Benzine 91, \\n]</td>\n",
       "      <td>[[4.9 l/100 km (comb)], [6.2 l/100 km (city)],...</td>\n",
       "      <td>[\\nEuro 6\\n]</td>\n",
       "      <td>[Air conditioning, Armrest, Automatic climate ...</td>\n",
       "      <td>[Bluetooth, CD player, Hands-free equipment, M...</td>\n",
       "      <td>[Alloy wheels, Catalytic Converter, Sport pack...</td>\n",
       "      <td>[ABS, Central door lock, Daytime running light...</td>\n",
       "      <td>NaN</td>\n",
       "    </tr>\n",
       "    <tr>\n",
       "      <th>13</th>\n",
       "      <td>Audi A1</td>\n",
       "      <td>Sedans</td>\n",
       "      <td>18399</td>\n",
       "      <td>45764</td>\n",
       "      <td>06/2016</td>\n",
       "      <td>112 kW</td>\n",
       "      <td>[\\n, 2016, \\n]</td>\n",
       "      <td>[\\n, Grey, \\n]</td>\n",
       "      <td>NaN</td>\n",
       "      <td>[\\n3\\n]</td>\n",
       "      <td>...</td>\n",
       "      <td>[\\n, Automatic, \\n]</td>\n",
       "      <td>[\\n1,395 cc\\n]</td>\n",
       "      <td>[\\n, Gasoline, \\n]</td>\n",
       "      <td>NaN</td>\n",
       "      <td>[\\nEuro 6\\n]</td>\n",
       "      <td>[Air conditioning, Automatic climate control, ...</td>\n",
       "      <td>[Bluetooth, On-board computer, Radio]</td>\n",
       "      <td>[Alloy wheels, Sport seats, Sport suspension]</td>\n",
       "      <td>[ABS, Adaptive headlights, Central door lock, ...</td>\n",
       "      <td>NaN</td>\n",
       "    </tr>\n",
       "    <tr>\n",
       "      <th>14</th>\n",
       "      <td>Audi A1</td>\n",
       "      <td>Sedans</td>\n",
       "      <td>17990</td>\n",
       "      <td>34914</td>\n",
       "      <td>10/2016</td>\n",
       "      <td>70 kW</td>\n",
       "      <td>[\\n, 2016, \\n]</td>\n",
       "      <td>[\\n, Black, \\n]</td>\n",
       "      <td>[\\nCloth, Black\\n]</td>\n",
       "      <td>[\\n5\\n]</td>\n",
       "      <td>...</td>\n",
       "      <td>[\\n, Automatic, \\n]</td>\n",
       "      <td>[\\n999 cc\\n]</td>\n",
       "      <td>[\\n, Super 95, \\n]</td>\n",
       "      <td>[[4.2 l/100 km (comb)], [5 l/100 km (city)], [...</td>\n",
       "      <td>[\\nEuro 6\\n]</td>\n",
       "      <td>[Air conditioning, Automatic climate control, ...</td>\n",
       "      <td>[Bluetooth, CD player, Hands-free equipment, O...</td>\n",
       "      <td>[Alloy wheels, Sport seats, Sport suspension]</td>\n",
       "      <td>[ABS, Central door lock, Daytime running light...</td>\n",
       "      <td>[\\n7\\n]</td>\n",
       "    </tr>\n",
       "    <tr>\n",
       "      <th>15</th>\n",
       "      <td>Audi A1</td>\n",
       "      <td>Sedans</td>\n",
       "      <td>18700</td>\n",
       "      <td>27000</td>\n",
       "      <td>04/2016</td>\n",
       "      <td>85 kW</td>\n",
       "      <td>[\\n, 2016, \\n]</td>\n",
       "      <td>[\\n, Grey, \\n]</td>\n",
       "      <td>[\\nCloth, Grey\\n]</td>\n",
       "      <td>[\\n5\\n]</td>\n",
       "      <td>...</td>\n",
       "      <td>[\\n, Automatic, \\n]</td>\n",
       "      <td>[\\n1,598 cc\\n]</td>\n",
       "      <td>[\\n, Diesel (Particulate Filter), \\n]</td>\n",
       "      <td>[[3.7 l/100 km (comb)], [4.3 l/100 km (city)],...</td>\n",
       "      <td>[\\nEuro 6\\n]</td>\n",
       "      <td>[Air conditioning, Armrest, Cruise control, El...</td>\n",
       "      <td>[Bluetooth, CD player, Hands-free equipment, M...</td>\n",
       "      <td>[Alloy wheels]</td>\n",
       "      <td>[ABS, Central door lock, Daytime running light...</td>\n",
       "      <td>[\\n7\\n]</td>\n",
       "    </tr>\n",
       "    <tr>\n",
       "      <th>16</th>\n",
       "      <td>Audi A1</td>\n",
       "      <td>Sedans</td>\n",
       "      <td>18900</td>\n",
       "      <td>9752</td>\n",
       "      <td>06/2018</td>\n",
       "      <td>85 kW</td>\n",
       "      <td>[\\n, 2018, \\n]</td>\n",
       "      <td>[\\n, Blue, \\n]</td>\n",
       "      <td>NaN</td>\n",
       "      <td>[\\n5\\n]</td>\n",
       "      <td>...</td>\n",
       "      <td>[\\n, Automatic, \\n]</td>\n",
       "      <td>[\\n1,598 cc\\n]</td>\n",
       "      <td>[\\n, Diesel, \\n]</td>\n",
       "      <td>[[3.5 l/100 km (comb)], [4.3 l/100 km (city)],...</td>\n",
       "      <td>[\\nEuro 6\\n]</td>\n",
       "      <td>[Air conditioning, Leather steering wheel, Pow...</td>\n",
       "      <td>[CD player, MP3, Radio]</td>\n",
       "      <td>[Alloy wheels, Sport package, Sport seats]</td>\n",
       "      <td>[Central door lock, Driver-side airbag, Electr...</td>\n",
       "      <td>[\\n5\\n]</td>\n",
       "    </tr>\n",
       "    <tr>\n",
       "      <th>17</th>\n",
       "      <td>Audi A1</td>\n",
       "      <td>Sedans</td>\n",
       "      <td>18500</td>\n",
       "      <td>28408</td>\n",
       "      <td>11/2017</td>\n",
       "      <td>66 kW</td>\n",
       "      <td>[\\n, 2017, \\n]</td>\n",
       "      <td>[\\n, White, \\n]</td>\n",
       "      <td>[\\nCloth, Black\\n]</td>\n",
       "      <td>[\\n5\\n]</td>\n",
       "      <td>...</td>\n",
       "      <td>[\\n, Automatic, \\n]</td>\n",
       "      <td>[\\n1,422 cc\\n]</td>\n",
       "      <td>[\\n, Diesel (Particulate Filter), \\n]</td>\n",
       "      <td>[[3.8 l/100 km (comb)], [4.3 l/100 km (city)],...</td>\n",
       "      <td>[\\nEuro 6\\n]</td>\n",
       "      <td>[Air conditioning, Automatic climate control, ...</td>\n",
       "      <td>[Bluetooth, CD player, Hands-free equipment, M...</td>\n",
       "      <td>[Alloy wheels, Sport package]</td>\n",
       "      <td>[ABS, Alarm system, Central door lock, Central...</td>\n",
       "      <td>[\\n7\\n]</td>\n",
       "    </tr>\n",
       "    <tr>\n",
       "      <th>18</th>\n",
       "      <td>Audi A1</td>\n",
       "      <td>Compact</td>\n",
       "      <td>18400</td>\n",
       "      <td>50280</td>\n",
       "      <td>07/2016</td>\n",
       "      <td>70 kW</td>\n",
       "      <td>[\\n, 2016, \\n]</td>\n",
       "      <td>[\\n, Black, \\n]</td>\n",
       "      <td>[\\nCloth, Grey\\n]</td>\n",
       "      <td>[\\n5\\n]</td>\n",
       "      <td>...</td>\n",
       "      <td>[\\n, Automatic, \\n]</td>\n",
       "      <td>[\\n999 cc\\n]</td>\n",
       "      <td>[\\n, Gasoline, \\n]</td>\n",
       "      <td>[[4.5 l/100 km (comb)], [5.5 l/100 km (city)],...</td>\n",
       "      <td>[\\nEuro 6\\n]</td>\n",
       "      <td>[Air conditioning, Armrest, Automatic climate ...</td>\n",
       "      <td>[Bluetooth, CD player, Hands-free equipment, O...</td>\n",
       "      <td>[Alloy wheels]</td>\n",
       "      <td>[ABS, Central door lock, Daytime running light...</td>\n",
       "      <td>[\\n7\\n]</td>\n",
       "    </tr>\n",
       "    <tr>\n",
       "      <th>19</th>\n",
       "      <td>Audi A1</td>\n",
       "      <td>Sedans</td>\n",
       "      <td>18500</td>\n",
       "      <td>13406</td>\n",
       "      <td>05/2018</td>\n",
       "      <td>85 kW</td>\n",
       "      <td>[\\n, 2018, \\n]</td>\n",
       "      <td>[\\n, Black, \\n]</td>\n",
       "      <td>[\\nCloth, Other\\n]</td>\n",
       "      <td>[\\n5\\n]</td>\n",
       "      <td>...</td>\n",
       "      <td>[\\n, Automatic, \\n]</td>\n",
       "      <td>[\\n1,598 cc\\n]</td>\n",
       "      <td>[\\n, Diesel (Particulate Filter), \\n]</td>\n",
       "      <td>[[3.8 l/100 km (comb)], [4.6 l/100 km (city)],...</td>\n",
       "      <td>[\\nEuro 6\\n]</td>\n",
       "      <td>[Air conditioning, Armrest, Auxiliary heating,...</td>\n",
       "      <td>[Bluetooth, CD player, Hands-free equipment, M...</td>\n",
       "      <td>[Alloy wheels, Catalytic Converter, Shift padd...</td>\n",
       "      <td>[Alarm system, Central door lock, Daytime runn...</td>\n",
       "      <td>[\\n7\\n]</td>\n",
       "    </tr>\n",
       "    <tr>\n",
       "      <th>20</th>\n",
       "      <td>Audi A1</td>\n",
       "      <td>Sedans</td>\n",
       "      <td>18500</td>\n",
       "      <td>51160</td>\n",
       "      <td>06/2017</td>\n",
       "      <td>85 kW</td>\n",
       "      <td>[\\n, 2017, \\n]</td>\n",
       "      <td>[\\n, White, \\n]</td>\n",
       "      <td>[\\nCloth, Black\\n]</td>\n",
       "      <td>[\\n5\\n]</td>\n",
       "      <td>...</td>\n",
       "      <td>[\\n, Automatic, \\n]</td>\n",
       "      <td>[\\n1,598 cc\\n]</td>\n",
       "      <td>[\\n, Diesel (Particulate Filter), \\n]</td>\n",
       "      <td>[[4 l/100 km (comb)], [4.6 l/100 km (city)], [...</td>\n",
       "      <td>[\\nEuro 6\\n]</td>\n",
       "      <td>[Air conditioning, Armrest, Leather steering w...</td>\n",
       "      <td>[Bluetooth, CD player, Hands-free equipment, M...</td>\n",
       "      <td>[Alloy wheels, Shift paddles, Sport package, V...</td>\n",
       "      <td>[ABS, Adaptive headlights, Central door lock, ...</td>\n",
       "      <td>[\\n7\\n]</td>\n",
       "    </tr>\n",
       "    <tr>\n",
       "      <th>21</th>\n",
       "      <td>Audi A1</td>\n",
       "      <td>Sedans</td>\n",
       "      <td>18500</td>\n",
       "      <td>15850</td>\n",
       "      <td>03/2016</td>\n",
       "      <td>92 kW</td>\n",
       "      <td>[\\n, 2016, \\n]</td>\n",
       "      <td>[\\n, Black, \\n]</td>\n",
       "      <td>[\\nCloth, Black\\n]</td>\n",
       "      <td>[\\n5\\n]</td>\n",
       "      <td>...</td>\n",
       "      <td>[\\n, Automatic, \\n]</td>\n",
       "      <td>[\\n1,395 cc\\n]</td>\n",
       "      <td>[\\n, Super 95, \\n]</td>\n",
       "      <td>[[4.9 l/100 km (comb)], [6.2 l/100 km (city)],...</td>\n",
       "      <td>[\\nEuro 6\\n]</td>\n",
       "      <td>[Air conditioning, Armrest, Automatic climate ...</td>\n",
       "      <td>[Bluetooth, CD player, Hands-free equipment, M...</td>\n",
       "      <td>[Alloy wheels, Sport seats, Voice Control]</td>\n",
       "      <td>[ABS, Central door lock, Central door lock wit...</td>\n",
       "      <td>[\\n7\\n]</td>\n",
       "    </tr>\n",
       "    <tr>\n",
       "      <th>22</th>\n",
       "      <td>Audi A1</td>\n",
       "      <td>Sedans</td>\n",
       "      <td>18900</td>\n",
       "      <td>17000</td>\n",
       "      <td>12/2016</td>\n",
       "      <td>92 kW</td>\n",
       "      <td>[\\n, 2016, \\n]</td>\n",
       "      <td>[\\n, Grey, \\n]</td>\n",
       "      <td>NaN</td>\n",
       "      <td>[\\n3\\n]</td>\n",
       "      <td>...</td>\n",
       "      <td>[\\n, Automatic, \\n]</td>\n",
       "      <td>[\\n1,395 cc\\n]</td>\n",
       "      <td>[\\n, Gasoline, \\n]</td>\n",
       "      <td>[[4.9 l/100 km (comb)], [6.2 l/100 km (city)],...</td>\n",
       "      <td>[\\nEuro 6\\n]</td>\n",
       "      <td>[Air conditioning, Armrest, Automatic climate ...</td>\n",
       "      <td>[Bluetooth, CD player, Hands-free equipment, M...</td>\n",
       "      <td>[Alloy wheels, Catalytic Converter, Sport seat...</td>\n",
       "      <td>[ABS, Central door lock with remote control, D...</td>\n",
       "      <td>[\\n7\\n]</td>\n",
       "    </tr>\n",
       "    <tr>\n",
       "      <th>23</th>\n",
       "      <td>Audi A1</td>\n",
       "      <td>Sedans</td>\n",
       "      <td>18850</td>\n",
       "      <td>9077</td>\n",
       "      <td>05/2018</td>\n",
       "      <td>85 kW</td>\n",
       "      <td>[\\n, 2018, \\n]</td>\n",
       "      <td>[\\n, Black, \\n]</td>\n",
       "      <td>[\\nFull leather, Black\\n]</td>\n",
       "      <td>[\\n5\\n]</td>\n",
       "      <td>...</td>\n",
       "      <td>[\\n, Automatic, \\n]</td>\n",
       "      <td>[\\n1,598 cc\\n]</td>\n",
       "      <td>[\\n, Diesel (Particulate Filter), \\n]</td>\n",
       "      <td>[[3.7 l/100 km (comb)], [4.3 l/100 km (city)],...</td>\n",
       "      <td>[\\nEuro 6\\n]</td>\n",
       "      <td>[Air conditioning, Automatic climate control, ...</td>\n",
       "      <td>[Radio]</td>\n",
       "      <td>[Alloy wheels]</td>\n",
       "      <td>[ABS, Central door lock, Driver-side airbag, E...</td>\n",
       "      <td>[\\n7\\n]</td>\n",
       "    </tr>\n",
       "    <tr>\n",
       "      <th>24</th>\n",
       "      <td>Audi A1</td>\n",
       "      <td>Sedans</td>\n",
       "      <td>18500</td>\n",
       "      <td>3000</td>\n",
       "      <td>09/2018</td>\n",
       "      <td>70 kW</td>\n",
       "      <td>[\\n, 2018, \\n]</td>\n",
       "      <td>[\\n, White, \\n]</td>\n",
       "      <td>[\\nCloth, White\\n]</td>\n",
       "      <td>[\\n5\\n]</td>\n",
       "      <td>...</td>\n",
       "      <td>[\\n, Automatic, \\n]</td>\n",
       "      <td>[\\n999 cc\\n]</td>\n",
       "      <td>[\\n, Gasoline, \\n]</td>\n",
       "      <td>[[4.4 l/100 km (comb)], [5.4 l/100 km (city)],...</td>\n",
       "      <td>[\\nEuro 6\\n]</td>\n",
       "      <td>[Air conditioning, Armrest, Cruise control, El...</td>\n",
       "      <td>[Bluetooth, CD player, Digital radio, Hands-fr...</td>\n",
       "      <td>[Alloy wheels, Voice Control]</td>\n",
       "      <td>[ABS, Alarm system, Central door lock, Central...</td>\n",
       "      <td>[\\n7\\n]</td>\n",
       "    </tr>\n",
       "    <tr>\n",
       "      <th>25</th>\n",
       "      <td>Audi A1</td>\n",
       "      <td>Sedans</td>\n",
       "      <td>8999</td>\n",
       "      <td>115000</td>\n",
       "      <td>05/2016</td>\n",
       "      <td>70 kW</td>\n",
       "      <td>[\\n, 2016, \\n]</td>\n",
       "      <td>[\\n, White, \\n]</td>\n",
       "      <td>NaN</td>\n",
       "      <td>[\\n5\\n]</td>\n",
       "      <td>...</td>\n",
       "      <td>[\\n, Manual, \\n]</td>\n",
       "      <td>[\\n999 cc\\n]</td>\n",
       "      <td>[\\n, Gasoline, \\n]</td>\n",
       "      <td>[[4.2 l/100 km (comb)], [5 l/100 km (city)], [...</td>\n",
       "      <td>[\\nEuro 6\\n]</td>\n",
       "      <td>[Air conditioning, Electrical side mirrors, Le...</td>\n",
       "      <td>[Radio, Sound system]</td>\n",
       "      <td>[Alloy wheels, Winter tyres]</td>\n",
       "      <td>[ABS, Central door lock, Central door lock wit...</td>\n",
       "      <td>[\\n5\\n]</td>\n",
       "    </tr>\n",
       "    <tr>\n",
       "      <th>26</th>\n",
       "      <td>Audi A1</td>\n",
       "      <td>Compact</td>\n",
       "      <td>11444</td>\n",
       "      <td>84029</td>\n",
       "      <td>03/2016</td>\n",
       "      <td>70 kW</td>\n",
       "      <td>[\\n, 2016, \\n]</td>\n",
       "      <td>[\\n, Blue, \\n]</td>\n",
       "      <td>[\\nCloth, Black\\n]</td>\n",
       "      <td>[\\n2\\n]</td>\n",
       "      <td>...</td>\n",
       "      <td>[\\n, Manual, \\n]</td>\n",
       "      <td>[\\n999 cc\\n]</td>\n",
       "      <td>[\\n, Super 95, \\n]</td>\n",
       "      <td>[[4.2 l/100 km (comb)], [5 l/100 km (city)], [...</td>\n",
       "      <td>[\\nEuro 6\\n]</td>\n",
       "      <td>[Air conditioning, Automatic climate control, ...</td>\n",
       "      <td>[Bluetooth, CD player, Hands-free equipment, M...</td>\n",
       "      <td>[Alloy wheels, Voice Control]</td>\n",
       "      <td>[ABS, Central door lock, Daytime running light...</td>\n",
       "      <td>NaN</td>\n",
       "    </tr>\n",
       "    <tr>\n",
       "      <th>27</th>\n",
       "      <td>Audi A1</td>\n",
       "      <td>Sedans</td>\n",
       "      <td>11300</td>\n",
       "      <td>67800</td>\n",
       "      <td>06/2016</td>\n",
       "      <td>70 kW</td>\n",
       "      <td>[\\n, 2016, \\n]</td>\n",
       "      <td>[\\n, Black, \\n]</td>\n",
       "      <td>[\\nCloth, Grey\\n]</td>\n",
       "      <td>[\\n5\\n]</td>\n",
       "      <td>...</td>\n",
       "      <td>[\\n, Manual, \\n]</td>\n",
       "      <td>[\\n999 cc\\n]</td>\n",
       "      <td>[\\n, Gasoline, \\n]</td>\n",
       "      <td>[[4.2 l/100 km (comb)], [5 l/100 km (city)], [...</td>\n",
       "      <td>[\\nEuro 6\\n]</td>\n",
       "      <td>[Air conditioning, Electrical side mirrors, Le...</td>\n",
       "      <td>[Radio]</td>\n",
       "      <td>[Alloy wheels]</td>\n",
       "      <td>[ABS, Central door lock, Central door lock wit...</td>\n",
       "      <td>[\\n5\\n]</td>\n",
       "    </tr>\n",
       "    <tr>\n",
       "      <th>28</th>\n",
       "      <td>Audi A1</td>\n",
       "      <td>Sedans</td>\n",
       "      <td>18900</td>\n",
       "      <td>14556</td>\n",
       "      <td>04/2018</td>\n",
       "      <td>66 kW</td>\n",
       "      <td>[\\n, 2018, \\n]</td>\n",
       "      <td>[\\n, White, \\n]</td>\n",
       "      <td>NaN</td>\n",
       "      <td>[\\n5\\n]</td>\n",
       "      <td>...</td>\n",
       "      <td>[\\n, Automatic, \\n]</td>\n",
       "      <td>[\\n1,422 cc\\n]</td>\n",
       "      <td>[\\n, Diesel, \\n]</td>\n",
       "      <td>[[4.3 l/100 km (comb)], [3.8 l/100 km (city)],...</td>\n",
       "      <td>[\\nEuro 6\\n]</td>\n",
       "      <td>[Air conditioning, Automatic climate control]</td>\n",
       "      <td>[Bluetooth, CD player, Hands-free equipment, M...</td>\n",
       "      <td>[Alloy wheels]</td>\n",
       "      <td>[ABS, Driver-side airbag, Fog lights, Power st...</td>\n",
       "      <td>[\\n7\\n]</td>\n",
       "    </tr>\n",
       "    <tr>\n",
       "      <th>29</th>\n",
       "      <td>Audi A1</td>\n",
       "      <td>Compact</td>\n",
       "      <td>11290</td>\n",
       "      <td>22000</td>\n",
       "      <td>03/2016</td>\n",
       "      <td>70 kW</td>\n",
       "      <td>[\\n, 2016, \\n]</td>\n",
       "      <td>[\\n, Black, \\n]</td>\n",
       "      <td>[\\nBlack\\n]</td>\n",
       "      <td>[\\n4\\n]</td>\n",
       "      <td>...</td>\n",
       "      <td>[\\n, Manual, \\n]</td>\n",
       "      <td>[\\n999 cc\\n]</td>\n",
       "      <td>[\\n, Super 95, \\n]</td>\n",
       "      <td>[[4.4 l/100 km (comb)], [5.2 l/100 km (city)],...</td>\n",
       "      <td>[\\nEuro 6\\n]</td>\n",
       "      <td>[Air conditioning, Electrical side mirrors, Po...</td>\n",
       "      <td>[Bluetooth, CD player, Hands-free equipment, M...</td>\n",
       "      <td>[Alloy wheels]</td>\n",
       "      <td>[ABS, Central door lock, Daytime running light...</td>\n",
       "      <td>NaN</td>\n",
       "    </tr>\n",
       "  </tbody>\n",
       "</table>\n",
       "<p>30 rows × 21 columns</p>\n",
       "</div>"
      ],
      "text/plain": [
       "   make_model      body_type  price      km registration      hp  \\\n",
       "0     Audi A1         Sedans  15770   56013      01/2016   66 kW   \n",
       "1     Audi A1         Sedans  14500   80000      03/2017  141 kW   \n",
       "2     Audi A1         Sedans  14640   83450      02/2016   85 kW   \n",
       "3     Audi A1         Sedans  14500   73000      08/2016   66 kW   \n",
       "4     Audi A1         Sedans  16790   16200      05/2016   66 kW   \n",
       "5     Audi A1         Sedans  15090   63668      02/2016   85 kW   \n",
       "6     Audi A1  Station wagon  16422   62111      03/2016   85 kW   \n",
       "7     Audi A1        Compact  14480   14986      02/2016   66 kW   \n",
       "8     Audi A1         Sedans  16700   57000      02/2016   85 kW   \n",
       "9     Audi A1         Sedans  17990   16103      06/2017   70 kW   \n",
       "10    Audi A1         Sedans  18500   11300      05/2018   85 kW   \n",
       "11    Audi A1         Sedans  17990   26415      05/2016   92 kW   \n",
       "12    Audi A1         Sedans  18380   31600      09/2016   92 kW   \n",
       "13    Audi A1         Sedans  18399   45764      06/2016  112 kW   \n",
       "14    Audi A1         Sedans  17990   34914      10/2016   70 kW   \n",
       "15    Audi A1         Sedans  18700   27000      04/2016   85 kW   \n",
       "16    Audi A1         Sedans  18900    9752      06/2018   85 kW   \n",
       "17    Audi A1         Sedans  18500   28408      11/2017   66 kW   \n",
       "18    Audi A1        Compact  18400   50280      07/2016   70 kW   \n",
       "19    Audi A1         Sedans  18500   13406      05/2018   85 kW   \n",
       "20    Audi A1         Sedans  18500   51160      06/2017   85 kW   \n",
       "21    Audi A1         Sedans  18500   15850      03/2016   92 kW   \n",
       "22    Audi A1         Sedans  18900   17000      12/2016   92 kW   \n",
       "23    Audi A1         Sedans  18850    9077      05/2018   85 kW   \n",
       "24    Audi A1         Sedans  18500    3000      09/2018   70 kW   \n",
       "25    Audi A1         Sedans   8999  115000      05/2016   70 kW   \n",
       "26    Audi A1        Compact  11444   84029      03/2016   70 kW   \n",
       "27    Audi A1         Sedans  11300   67800      06/2016   70 kW   \n",
       "28    Audi A1         Sedans  18900   14556      04/2018   66 kW   \n",
       "29    Audi A1        Compact  11290   22000      03/2016   70 kW   \n",
       "\n",
       "   First Registration        Body Color                 Upholstery  \\\n",
       "0      [\\n, 2016, \\n]   [\\n, Black, \\n]         [\\nCloth, Black\\n]   \n",
       "1      [\\n, 2017, \\n]     [\\n, Red, \\n]          [\\nCloth, Grey\\n]   \n",
       "2      [\\n, 2016, \\n]   [\\n, Black, \\n]         [\\nCloth, Black\\n]   \n",
       "3      [\\n, 2016, \\n]   [\\n, Brown, \\n]                        NaN   \n",
       "4      [\\n, 2016, \\n]   [\\n, Black, \\n]         [\\nCloth, Black\\n]   \n",
       "5      [\\n, 2016, \\n]   [\\n, White, \\n]  [\\nPart leather, Black\\n]   \n",
       "6      [\\n, 2016, \\n]   [\\n, White, \\n]  [\\nPart leather, Black\\n]   \n",
       "7      [\\n, 2016, \\n]     [\\n, Red, \\n]         [\\nCloth, Black\\n]   \n",
       "8      [\\n, 2016, \\n]    [\\n, Grey, \\n]          [\\nCloth, Grey\\n]   \n",
       "9      [\\n, 2017, \\n]   [\\n, White, \\n]                        NaN   \n",
       "10     [\\n, 2018, \\n]   [\\n, Black, \\n]         [\\nCloth, Black\\n]   \n",
       "11     [\\n, 2016, \\n]  [\\n, Silver, \\n]         [\\nCloth, Black\\n]   \n",
       "12     [\\n, 2016, \\n]   [\\n, White, \\n]  [\\nPart leather, Black\\n]   \n",
       "13     [\\n, 2016, \\n]    [\\n, Grey, \\n]                        NaN   \n",
       "14     [\\n, 2016, \\n]   [\\n, Black, \\n]         [\\nCloth, Black\\n]   \n",
       "15     [\\n, 2016, \\n]    [\\n, Grey, \\n]          [\\nCloth, Grey\\n]   \n",
       "16     [\\n, 2018, \\n]    [\\n, Blue, \\n]                        NaN   \n",
       "17     [\\n, 2017, \\n]   [\\n, White, \\n]         [\\nCloth, Black\\n]   \n",
       "18     [\\n, 2016, \\n]   [\\n, Black, \\n]          [\\nCloth, Grey\\n]   \n",
       "19     [\\n, 2018, \\n]   [\\n, Black, \\n]         [\\nCloth, Other\\n]   \n",
       "20     [\\n, 2017, \\n]   [\\n, White, \\n]         [\\nCloth, Black\\n]   \n",
       "21     [\\n, 2016, \\n]   [\\n, Black, \\n]         [\\nCloth, Black\\n]   \n",
       "22     [\\n, 2016, \\n]    [\\n, Grey, \\n]                        NaN   \n",
       "23     [\\n, 2018, \\n]   [\\n, Black, \\n]  [\\nFull leather, Black\\n]   \n",
       "24     [\\n, 2018, \\n]   [\\n, White, \\n]         [\\nCloth, White\\n]   \n",
       "25     [\\n, 2016, \\n]   [\\n, White, \\n]                        NaN   \n",
       "26     [\\n, 2016, \\n]    [\\n, Blue, \\n]         [\\nCloth, Black\\n]   \n",
       "27     [\\n, 2016, \\n]   [\\n, Black, \\n]          [\\nCloth, Grey\\n]   \n",
       "28     [\\n, 2018, \\n]   [\\n, White, \\n]                        NaN   \n",
       "29     [\\n, 2016, \\n]   [\\n, Black, \\n]                [\\nBlack\\n]   \n",
       "\n",
       "   Nr. of Doors  ...         Gearing Type    Displacement  \\\n",
       "0       [\\n5\\n]  ...  [\\n, Automatic, \\n]  [\\n1,422 cc\\n]   \n",
       "1       [\\n3\\n]  ...  [\\n, Automatic, \\n]  [\\n1,798 cc\\n]   \n",
       "2       [\\n4\\n]  ...  [\\n, Automatic, \\n]  [\\n1,598 cc\\n]   \n",
       "3       [\\n3\\n]  ...  [\\n, Automatic, \\n]  [\\n1,422 cc\\n]   \n",
       "4       [\\n5\\n]  ...  [\\n, Automatic, \\n]  [\\n1,422 cc\\n]   \n",
       "5       [\\n4\\n]  ...  [\\n, Automatic, \\n]  [\\n1,598 cc\\n]   \n",
       "6       [\\n4\\n]  ...  [\\n, Automatic, \\n]  [\\n1,598 cc\\n]   \n",
       "7       [\\n5\\n]  ...  [\\n, Automatic, \\n]  [\\n1,422 cc\\n]   \n",
       "8       [\\n5\\n]  ...  [\\n, Automatic, \\n]  [\\n1,598 cc\\n]   \n",
       "9       [\\n5\\n]  ...  [\\n, Automatic, \\n]    [\\n999 cc\\n]   \n",
       "10      [\\n3\\n]  ...  [\\n, Automatic, \\n]  [\\n1,598 cc\\n]   \n",
       "11      [\\n4\\n]  ...  [\\n, Automatic, \\n]  [\\n1,395 cc\\n]   \n",
       "12      [\\n5\\n]  ...  [\\n, Automatic, \\n]  [\\n1,395 cc\\n]   \n",
       "13      [\\n3\\n]  ...  [\\n, Automatic, \\n]  [\\n1,395 cc\\n]   \n",
       "14      [\\n5\\n]  ...  [\\n, Automatic, \\n]    [\\n999 cc\\n]   \n",
       "15      [\\n5\\n]  ...  [\\n, Automatic, \\n]  [\\n1,598 cc\\n]   \n",
       "16      [\\n5\\n]  ...  [\\n, Automatic, \\n]  [\\n1,598 cc\\n]   \n",
       "17      [\\n5\\n]  ...  [\\n, Automatic, \\n]  [\\n1,422 cc\\n]   \n",
       "18      [\\n5\\n]  ...  [\\n, Automatic, \\n]    [\\n999 cc\\n]   \n",
       "19      [\\n5\\n]  ...  [\\n, Automatic, \\n]  [\\n1,598 cc\\n]   \n",
       "20      [\\n5\\n]  ...  [\\n, Automatic, \\n]  [\\n1,598 cc\\n]   \n",
       "21      [\\n5\\n]  ...  [\\n, Automatic, \\n]  [\\n1,395 cc\\n]   \n",
       "22      [\\n3\\n]  ...  [\\n, Automatic, \\n]  [\\n1,395 cc\\n]   \n",
       "23      [\\n5\\n]  ...  [\\n, Automatic, \\n]  [\\n1,598 cc\\n]   \n",
       "24      [\\n5\\n]  ...  [\\n, Automatic, \\n]    [\\n999 cc\\n]   \n",
       "25      [\\n5\\n]  ...     [\\n, Manual, \\n]    [\\n999 cc\\n]   \n",
       "26      [\\n2\\n]  ...     [\\n, Manual, \\n]    [\\n999 cc\\n]   \n",
       "27      [\\n5\\n]  ...     [\\n, Manual, \\n]    [\\n999 cc\\n]   \n",
       "28      [\\n5\\n]  ...  [\\n, Automatic, \\n]  [\\n1,422 cc\\n]   \n",
       "29      [\\n4\\n]  ...     [\\n, Manual, \\n]    [\\n999 cc\\n]   \n",
       "\n",
       "                                     Fuel  \\\n",
       "0   [\\n, Diesel (Particulate Filter), \\n]   \n",
       "1                      [\\n, Gasoline, \\n]   \n",
       "2   [\\n, Diesel (Particulate Filter), \\n]   \n",
       "3   [\\n, Diesel (Particulate Filter), \\n]   \n",
       "4   [\\n, Diesel (Particulate Filter), \\n]   \n",
       "5   [\\n, Diesel (Particulate Filter), \\n]   \n",
       "6   [\\n, Diesel (Particulate Filter), \\n]   \n",
       "7   [\\n, Diesel (Particulate Filter), \\n]   \n",
       "8   [\\n, Diesel (Particulate Filter), \\n]   \n",
       "9                      [\\n, Gasoline, \\n]   \n",
       "10  [\\n, Diesel (Particulate Filter), \\n]   \n",
       "11                     [\\n, Super 95, \\n]   \n",
       "12           [\\n, Regular/Benzine 91, \\n]   \n",
       "13                     [\\n, Gasoline, \\n]   \n",
       "14                     [\\n, Super 95, \\n]   \n",
       "15  [\\n, Diesel (Particulate Filter), \\n]   \n",
       "16                       [\\n, Diesel, \\n]   \n",
       "17  [\\n, Diesel (Particulate Filter), \\n]   \n",
       "18                     [\\n, Gasoline, \\n]   \n",
       "19  [\\n, Diesel (Particulate Filter), \\n]   \n",
       "20  [\\n, Diesel (Particulate Filter), \\n]   \n",
       "21                     [\\n, Super 95, \\n]   \n",
       "22                     [\\n, Gasoline, \\n]   \n",
       "23  [\\n, Diesel (Particulate Filter), \\n]   \n",
       "24                     [\\n, Gasoline, \\n]   \n",
       "25                     [\\n, Gasoline, \\n]   \n",
       "26                     [\\n, Super 95, \\n]   \n",
       "27                     [\\n, Gasoline, \\n]   \n",
       "28                       [\\n, Diesel, \\n]   \n",
       "29                     [\\n, Super 95, \\n]   \n",
       "\n",
       "                                          Consumption Emission Class  \\\n",
       "0   [[3.8 l/100 km (comb)], [4.3 l/100 km (city)],...   [\\nEuro 6\\n]   \n",
       "1   [[5.6 l/100 km (comb)], [7.1 l/100 km (city)],...   [\\nEuro 6\\n]   \n",
       "2   [[3.8 l/100 km (comb)], [4.4 l/100 km (city)],...   [\\nEuro 6\\n]   \n",
       "3   [[3.8 l/100 km (comb)], [4.3 l/100 km (city)],...   [\\nEuro 6\\n]   \n",
       "4   [[4.1 l/100 km (comb)], [4.6 l/100 km (city)],...   [\\nEuro 6\\n]   \n",
       "5   [[3.5 l/100 km (comb)], [4.3 l/100 km (city)],...   [\\nEuro 6\\n]   \n",
       "6   [[3.7 l/100 km (comb)], [4.3 l/100 km (city)],...   [\\nEuro 6\\n]   \n",
       "7   [[3.7 l/100 km (comb)], [4.2 l/100 km (city)],...   [\\nEuro 6\\n]   \n",
       "8   [[3.7 l/100 km (comb)], [4.3 l/100 km (city)],...   [\\nEuro 6\\n]   \n",
       "9                                                 NaN   [\\nEuro 6\\n]   \n",
       "10  [[4 l/100 km (comb)], [4.6 l/100 km (city)], [...   [\\nEuro 6\\n]   \n",
       "11  [[4.9 l/100 km (comb)], [6.2 l/100 km (city)],...   [\\nEuro 6\\n]   \n",
       "12  [[4.9 l/100 km (comb)], [6.2 l/100 km (city)],...   [\\nEuro 6\\n]   \n",
       "13                                                NaN   [\\nEuro 6\\n]   \n",
       "14  [[4.2 l/100 km (comb)], [5 l/100 km (city)], [...   [\\nEuro 6\\n]   \n",
       "15  [[3.7 l/100 km (comb)], [4.3 l/100 km (city)],...   [\\nEuro 6\\n]   \n",
       "16  [[3.5 l/100 km (comb)], [4.3 l/100 km (city)],...   [\\nEuro 6\\n]   \n",
       "17  [[3.8 l/100 km (comb)], [4.3 l/100 km (city)],...   [\\nEuro 6\\n]   \n",
       "18  [[4.5 l/100 km (comb)], [5.5 l/100 km (city)],...   [\\nEuro 6\\n]   \n",
       "19  [[3.8 l/100 km (comb)], [4.6 l/100 km (city)],...   [\\nEuro 6\\n]   \n",
       "20  [[4 l/100 km (comb)], [4.6 l/100 km (city)], [...   [\\nEuro 6\\n]   \n",
       "21  [[4.9 l/100 km (comb)], [6.2 l/100 km (city)],...   [\\nEuro 6\\n]   \n",
       "22  [[4.9 l/100 km (comb)], [6.2 l/100 km (city)],...   [\\nEuro 6\\n]   \n",
       "23  [[3.7 l/100 km (comb)], [4.3 l/100 km (city)],...   [\\nEuro 6\\n]   \n",
       "24  [[4.4 l/100 km (comb)], [5.4 l/100 km (city)],...   [\\nEuro 6\\n]   \n",
       "25  [[4.2 l/100 km (comb)], [5 l/100 km (city)], [...   [\\nEuro 6\\n]   \n",
       "26  [[4.2 l/100 km (comb)], [5 l/100 km (city)], [...   [\\nEuro 6\\n]   \n",
       "27  [[4.2 l/100 km (comb)], [5 l/100 km (city)], [...   [\\nEuro 6\\n]   \n",
       "28  [[4.3 l/100 km (comb)], [3.8 l/100 km (city)],...   [\\nEuro 6\\n]   \n",
       "29  [[4.4 l/100 km (comb)], [5.2 l/100 km (city)],...   [\\nEuro 6\\n]   \n",
       "\n",
       "                                Comfort & Convenience  \\\n",
       "0   [Air conditioning, Armrest, Automatic climate ...   \n",
       "1   [Air conditioning, Automatic climate control, ...   \n",
       "2   [Air conditioning, Cruise control, Electrical ...   \n",
       "3   [Air suspension, Armrest, Auxiliary heating, E...   \n",
       "4   [Air conditioning, Armrest, Automatic climate ...   \n",
       "5   [Air conditioning, Armrest, Automatic climate ...   \n",
       "6   [Air conditioning, Armrest, Automatic climate ...   \n",
       "7   [Air conditioning, Armrest, Electrical side mi...   \n",
       "8                   [Air conditioning, Power windows]   \n",
       "9   [Air conditioning, Armrest, Automatic climate ...   \n",
       "10  [Air conditioning, Multi-function steering whe...   \n",
       "11  [Air conditioning, Automatic climate control, ...   \n",
       "12  [Air conditioning, Armrest, Automatic climate ...   \n",
       "13  [Air conditioning, Automatic climate control, ...   \n",
       "14  [Air conditioning, Automatic climate control, ...   \n",
       "15  [Air conditioning, Armrest, Cruise control, El...   \n",
       "16  [Air conditioning, Leather steering wheel, Pow...   \n",
       "17  [Air conditioning, Automatic climate control, ...   \n",
       "18  [Air conditioning, Armrest, Automatic climate ...   \n",
       "19  [Air conditioning, Armrest, Auxiliary heating,...   \n",
       "20  [Air conditioning, Armrest, Leather steering w...   \n",
       "21  [Air conditioning, Armrest, Automatic climate ...   \n",
       "22  [Air conditioning, Armrest, Automatic climate ...   \n",
       "23  [Air conditioning, Automatic climate control, ...   \n",
       "24  [Air conditioning, Armrest, Cruise control, El...   \n",
       "25  [Air conditioning, Electrical side mirrors, Le...   \n",
       "26  [Air conditioning, Automatic climate control, ...   \n",
       "27  [Air conditioning, Electrical side mirrors, Le...   \n",
       "28      [Air conditioning, Automatic climate control]   \n",
       "29  [Air conditioning, Electrical side mirrors, Po...   \n",
       "\n",
       "                                Entertainment & Media  \\\n",
       "0   [Bluetooth, Hands-free equipment, On-board com...   \n",
       "1   [Bluetooth, Hands-free equipment, On-board com...   \n",
       "2                            [MP3, On-board computer]   \n",
       "3   [Bluetooth, CD player, Hands-free equipment, M...   \n",
       "4   [Bluetooth, CD player, Hands-free equipment, M...   \n",
       "5   [Bluetooth, Hands-free equipment, On-board com...   \n",
       "6   [Bluetooth, CD player, Hands-free equipment, O...   \n",
       "7                             [CD player, MP3, Radio]   \n",
       "8                                             [Radio]   \n",
       "9   [Bluetooth, CD player, Hands-free equipment, M...   \n",
       "10  [Bluetooth, CD player, Hands-free equipment, M...   \n",
       "11  [CD player, Hands-free equipment, On-board com...   \n",
       "12  [Bluetooth, CD player, Hands-free equipment, M...   \n",
       "13              [Bluetooth, On-board computer, Radio]   \n",
       "14  [Bluetooth, CD player, Hands-free equipment, O...   \n",
       "15  [Bluetooth, CD player, Hands-free equipment, M...   \n",
       "16                            [CD player, MP3, Radio]   \n",
       "17  [Bluetooth, CD player, Hands-free equipment, M...   \n",
       "18  [Bluetooth, CD player, Hands-free equipment, O...   \n",
       "19  [Bluetooth, CD player, Hands-free equipment, M...   \n",
       "20  [Bluetooth, CD player, Hands-free equipment, M...   \n",
       "21  [Bluetooth, CD player, Hands-free equipment, M...   \n",
       "22  [Bluetooth, CD player, Hands-free equipment, M...   \n",
       "23                                            [Radio]   \n",
       "24  [Bluetooth, CD player, Digital radio, Hands-fr...   \n",
       "25                              [Radio, Sound system]   \n",
       "26  [Bluetooth, CD player, Hands-free equipment, M...   \n",
       "27                                            [Radio]   \n",
       "28  [Bluetooth, CD player, Hands-free equipment, M...   \n",
       "29  [Bluetooth, CD player, Hands-free equipment, M...   \n",
       "\n",
       "                                               Extras  \\\n",
       "0   [Alloy wheels, Catalytic Converter, Voice Cont...   \n",
       "1   [Alloy wheels, Sport seats, Sport suspension, ...   \n",
       "2                       [Alloy wheels, Voice Control]   \n",
       "3          [Alloy wheels, Sport seats, Voice Control]   \n",
       "4   [Alloy wheels, Sport package, Sport suspension...   \n",
       "5   [Alloy wheels, Sport package, Sport seats, Spo...   \n",
       "6   [Alloy wheels, Sport package, Sport seats, Spo...   \n",
       "7                                      [Alloy wheels]   \n",
       "8                                      [Alloy wheels]   \n",
       "9                                      [Alloy wheels]   \n",
       "10                      [Alloy wheels, Shift paddles]   \n",
       "11                        [Alloy wheels, Sport seats]   \n",
       "12  [Alloy wheels, Catalytic Converter, Sport pack...   \n",
       "13      [Alloy wheels, Sport seats, Sport suspension]   \n",
       "14      [Alloy wheels, Sport seats, Sport suspension]   \n",
       "15                                     [Alloy wheels]   \n",
       "16         [Alloy wheels, Sport package, Sport seats]   \n",
       "17                      [Alloy wheels, Sport package]   \n",
       "18                                     [Alloy wheels]   \n",
       "19  [Alloy wheels, Catalytic Converter, Shift padd...   \n",
       "20  [Alloy wheels, Shift paddles, Sport package, V...   \n",
       "21         [Alloy wheels, Sport seats, Voice Control]   \n",
       "22  [Alloy wheels, Catalytic Converter, Sport seat...   \n",
       "23                                     [Alloy wheels]   \n",
       "24                      [Alloy wheels, Voice Control]   \n",
       "25                       [Alloy wheels, Winter tyres]   \n",
       "26                      [Alloy wheels, Voice Control]   \n",
       "27                                     [Alloy wheels]   \n",
       "28                                     [Alloy wheels]   \n",
       "29                                     [Alloy wheels]   \n",
       "\n",
       "                                    Safety & Security    Gears  \n",
       "0   [ABS, Central door lock, Daytime running light...      NaN  \n",
       "1   [ABS, Central door lock, Central door lock wit...  [\\n7\\n]  \n",
       "2   [ABS, Central door lock, Daytime running light...      NaN  \n",
       "3   [ABS, Alarm system, Central door lock with rem...  [\\n6\\n]  \n",
       "4   [ABS, Central door lock, Driver-side airbag, E...      NaN  \n",
       "5   [ABS, Central door lock, Daytime running light...      NaN  \n",
       "6   [ABS, Central door lock, Daytime running light...      NaN  \n",
       "7   [ABS, Central door lock, Daytime running light...  [\\n7\\n]  \n",
       "8   [ABS, Central door lock, Driver-side airbag, E...  [\\n7\\n]  \n",
       "9   [ABS, Central door lock, Daytime running light...  [\\n7\\n]  \n",
       "10  [ABS, Central door lock, Daytime running light...  [\\n7\\n]  \n",
       "11  [ABS, Central door lock, Daytime running light...      NaN  \n",
       "12  [ABS, Central door lock, Daytime running light...      NaN  \n",
       "13  [ABS, Adaptive headlights, Central door lock, ...      NaN  \n",
       "14  [ABS, Central door lock, Daytime running light...  [\\n7\\n]  \n",
       "15  [ABS, Central door lock, Daytime running light...  [\\n7\\n]  \n",
       "16  [Central door lock, Driver-side airbag, Electr...  [\\n5\\n]  \n",
       "17  [ABS, Alarm system, Central door lock, Central...  [\\n7\\n]  \n",
       "18  [ABS, Central door lock, Daytime running light...  [\\n7\\n]  \n",
       "19  [Alarm system, Central door lock, Daytime runn...  [\\n7\\n]  \n",
       "20  [ABS, Adaptive headlights, Central door lock, ...  [\\n7\\n]  \n",
       "21  [ABS, Central door lock, Central door lock wit...  [\\n7\\n]  \n",
       "22  [ABS, Central door lock with remote control, D...  [\\n7\\n]  \n",
       "23  [ABS, Central door lock, Driver-side airbag, E...  [\\n7\\n]  \n",
       "24  [ABS, Alarm system, Central door lock, Central...  [\\n7\\n]  \n",
       "25  [ABS, Central door lock, Central door lock wit...  [\\n5\\n]  \n",
       "26  [ABS, Central door lock, Daytime running light...      NaN  \n",
       "27  [ABS, Central door lock, Central door lock wit...  [\\n5\\n]  \n",
       "28  [ABS, Driver-side airbag, Fog lights, Power st...  [\\n7\\n]  \n",
       "29  [ABS, Central door lock, Daytime running light...      NaN  \n",
       "\n",
       "[30 rows x 21 columns]"
      ]
     },
     "execution_count": 52,
     "metadata": {},
     "output_type": "execute_result"
    }
   ],
   "source": [
    "df.head(30)"
   ]
  },
  {
   "cell_type": "code",
   "execution_count": 53,
   "metadata": {
    "scrolled": true
   },
   "outputs": [
    {
     "name": "stdout",
     "output_type": "stream",
     "text": [
      "<class 'pandas.core.frame.DataFrame'>\n",
      "Int64Index: 15078 entries, 0 to 15135\n",
      "Data columns (total 21 columns):\n",
      " #   Column                 Non-Null Count  Dtype \n",
      "---  ------                 --------------  ----- \n",
      " 0   make_model             15078 non-null  object\n",
      " 1   body_type              15078 non-null  object\n",
      " 2   price                  15078 non-null  int64 \n",
      " 3   km                     15078 non-null  int64 \n",
      " 4   registration           15078 non-null  object\n",
      " 5   hp                     15078 non-null  object\n",
      " 6   First Registration     13913 non-null  object\n",
      " 7   Body Color             15078 non-null  object\n",
      " 8   Upholstery             11764 non-null  object\n",
      " 9   Nr. of Doors           14872 non-null  object\n",
      " 10  Nr. of Seats           14270 non-null  object\n",
      " 11  Gearing Type           15078 non-null  object\n",
      " 12  Displacement           14645 non-null  object\n",
      " 13  Fuel                   15078 non-null  object\n",
      " 14  Consumption            13314 non-null  object\n",
      " 15  Emission Class         15078 non-null  object\n",
      " 16  Comfort & Convenience  15078 non-null  object\n",
      " 17  Entertainment & Media  15078 non-null  object\n",
      " 18  Extras                 15078 non-null  object\n",
      " 19  Safety & Security      15078 non-null  object\n",
      " 20  Gears                  10525 non-null  object\n",
      "dtypes: int64(2), object(19)\n",
      "memory usage: 2.5+ MB\n"
     ]
    }
   ],
   "source": [
    "df.info()"
   ]
  },
  {
   "cell_type": "code",
   "execution_count": 54,
   "metadata": {
    "scrolled": true
   },
   "outputs": [],
   "source": [
    "#df2 = df['Comfort & Convenience'].apply(', '.join)"
   ]
  },
  {
   "cell_type": "code",
   "execution_count": 55,
   "metadata": {},
   "outputs": [],
   "source": [
    "#dummies = df2.str.get_dummies(',')"
   ]
  },
  {
   "cell_type": "code",
   "execution_count": 56,
   "metadata": {},
   "outputs": [],
   "source": [
    "df2 = df"
   ]
  },
  {
   "cell_type": "code",
   "execution_count": 57,
   "metadata": {},
   "outputs": [],
   "source": [
    "# df.groupby(['make_model', 'price']).mean().plot.bar()"
   ]
  },
  {
   "cell_type": "code",
   "execution_count": 58,
   "metadata": {},
   "outputs": [
    {
     "name": "stdout",
     "output_type": "stream",
     "text": [
      "<class 'pandas.core.frame.DataFrame'>\n",
      "Int64Index: 15078 entries, 0 to 15135\n",
      "Data columns (total 21 columns):\n",
      " #   Column                 Non-Null Count  Dtype \n",
      "---  ------                 --------------  ----- \n",
      " 0   make_model             15078 non-null  object\n",
      " 1   body_type              15078 non-null  object\n",
      " 2   price                  15078 non-null  int64 \n",
      " 3   km                     15078 non-null  int64 \n",
      " 4   registration           15078 non-null  object\n",
      " 5   hp                     15078 non-null  object\n",
      " 6   First Registration     13913 non-null  object\n",
      " 7   Body Color             15078 non-null  object\n",
      " 8   Upholstery             11764 non-null  object\n",
      " 9   Nr. of Doors           14872 non-null  object\n",
      " 10  Nr. of Seats           14270 non-null  object\n",
      " 11  Gearing Type           15078 non-null  object\n",
      " 12  Displacement           14645 non-null  object\n",
      " 13  Fuel                   15078 non-null  object\n",
      " 14  Consumption            13314 non-null  object\n",
      " 15  Emission Class         15078 non-null  object\n",
      " 16  Comfort & Convenience  15078 non-null  object\n",
      " 17  Entertainment & Media  15078 non-null  object\n",
      " 18  Extras                 15078 non-null  object\n",
      " 19  Safety & Security      15078 non-null  object\n",
      " 20  Gears                  10525 non-null  object\n",
      "dtypes: int64(2), object(19)\n",
      "memory usage: 2.5+ MB\n"
     ]
    }
   ],
   "source": [
    "df.info()"
   ]
  },
  {
   "cell_type": "code",
   "execution_count": 59,
   "metadata": {},
   "outputs": [
    {
     "data": {
      "text/plain": [
       "0         66 kW\n",
       "1        141 kW\n",
       "2         85 kW\n",
       "3         66 kW\n",
       "4         66 kW\n",
       "          ...  \n",
       "15131    165 kW\n",
       "15132    147 kW\n",
       "15133    165 kW\n",
       "15134    146 kW\n",
       "15135    147 kW\n",
       "Name: hp, Length: 15078, dtype: object"
      ]
     },
     "execution_count": 59,
     "metadata": {},
     "output_type": "execute_result"
    }
   ],
   "source": [
    "df['hp']"
   ]
  },
  {
   "cell_type": "code",
   "execution_count": 60,
   "metadata": {},
   "outputs": [],
   "source": [
    "df['hp'] = df['hp'].str.extract('(\\d\\d\\d|\\d\\d|\\d)')"
   ]
  },
  {
   "cell_type": "code",
   "execution_count": 61,
   "metadata": {
    "scrolled": true
   },
   "outputs": [
    {
     "data": {
      "text/plain": [
       "1241     NaN\n",
       "2419     NaN\n",
       "4156     NaN\n",
       "6954     NaN\n",
       "7418     NaN\n",
       "        ... \n",
       "14877    NaN\n",
       "14883    NaN\n",
       "14917    NaN\n",
       "15015    NaN\n",
       "15124    NaN\n",
       "Name: hp, Length: 78, dtype: object"
      ]
     },
     "execution_count": 61,
     "metadata": {},
     "output_type": "execute_result"
    }
   ],
   "source": [
    "df['hp'][df['hp'].isnull()]"
   ]
  },
  {
   "cell_type": "code",
   "execution_count": 62,
   "metadata": {},
   "outputs": [],
   "source": [
    "for i in range(df['make_model'].nunique()):\n",
    "    fill_most('hp', df['make_model'].unique()[i])"
   ]
  },
  {
   "cell_type": "code",
   "execution_count": 63,
   "metadata": {},
   "outputs": [
    {
     "data": {
      "text/plain": [
       "Series([], Name: hp, dtype: object)"
      ]
     },
     "execution_count": 63,
     "metadata": {},
     "output_type": "execute_result"
    }
   ],
   "source": [
    "df['hp'][df['hp'].isnull()]"
   ]
  },
  {
   "cell_type": "code",
   "execution_count": 64,
   "metadata": {},
   "outputs": [],
   "source": [
    "df['hp'] = pd.to_numeric(df['hp'])"
   ]
  },
  {
   "cell_type": "code",
   "execution_count": 65,
   "metadata": {},
   "outputs": [
    {
     "data": {
      "text/plain": [
       "0         85\n",
       "1         85\n",
       "2         85\n",
       "3         85\n",
       "4         85\n",
       "        ... \n",
       "15131    118\n",
       "15132    118\n",
       "15133    118\n",
       "15134    118\n",
       "15135    118\n",
       "Name: hp, Length: 15078, dtype: int64"
      ]
     },
     "execution_count": 65,
     "metadata": {},
     "output_type": "execute_result"
    }
   ],
   "source": [
    "df['hp']"
   ]
  },
  {
   "cell_type": "code",
   "execution_count": 66,
   "metadata": {
    "scrolled": true
   },
   "outputs": [],
   "source": [
    "for i in range(df['make_model'].nunique()):\n",
    "    fill_most('Upholstery', df['make_model'].unique()[i])"
   ]
  },
  {
   "cell_type": "code",
   "execution_count": 67,
   "metadata": {},
   "outputs": [],
   "source": [
    "df['Upholstery'] = df['Upholstery'].transform(', '.join)"
   ]
  },
  {
   "cell_type": "code",
   "execution_count": 68,
   "metadata": {},
   "outputs": [],
   "source": [
    "df['Upholstery'] = df['Upholstery'].transform(str.strip)"
   ]
  },
  {
   "cell_type": "code",
   "execution_count": 69,
   "metadata": {},
   "outputs": [],
   "source": [
    "df.dropna(subset = ['Displacement'], inplace = True)\n",
    "df.reset_index(drop = True, inplace = True)"
   ]
  },
  {
   "cell_type": "code",
   "execution_count": 70,
   "metadata": {
    "scrolled": true
   },
   "outputs": [],
   "source": [
    "df['Displacement'] = df['Displacement'].transform(', '.join).transform(str.strip)"
   ]
  },
  {
   "cell_type": "code",
   "execution_count": 71,
   "metadata": {},
   "outputs": [
    {
     "data": {
      "text/plain": [
       "0        1,422 cc\n",
       "1        1,798 cc\n",
       "2        1,598 cc\n",
       "3        1,422 cc\n",
       "4        1,422 cc\n",
       "           ...   \n",
       "14640    1,798 cc\n",
       "14641    1,997 cc\n",
       "14642    1,798 cc\n",
       "14643    1,997 cc\n",
       "14644    1,997 cc\n",
       "Name: Displacement, Length: 14645, dtype: object"
      ]
     },
     "execution_count": 71,
     "metadata": {},
     "output_type": "execute_result"
    }
   ],
   "source": [
    "df['Displacement']"
   ]
  },
  {
   "cell_type": "code",
   "execution_count": 72,
   "metadata": {},
   "outputs": [],
   "source": [
    "df['Displacement'] = df['Displacement'].str.extract('(\\d\\d\\d|\\d,\\d\\d\\d)')"
   ]
  },
  {
   "cell_type": "code",
   "execution_count": 73,
   "metadata": {},
   "outputs": [],
   "source": [
    "df[['Displacement']] = df[['Displacement']].apply(lambda x: x.str.replace(',','.'))"
   ]
  },
  {
   "cell_type": "code",
   "execution_count": 74,
   "metadata": {},
   "outputs": [],
   "source": [
    "df[['Displacement']] = df[['Displacement']].apply(lambda x: x.str.replace('999','0.999'))"
   ]
  },
  {
   "cell_type": "code",
   "execution_count": 75,
   "metadata": {},
   "outputs": [],
   "source": [
    "df['Displacement'] = pd.to_numeric(df['Displacement'])"
   ]
  },
  {
   "cell_type": "code",
   "execution_count": 76,
   "metadata": {
    "scrolled": true
   },
   "outputs": [
    {
     "data": {
      "text/plain": [
       "1.598    4527\n",
       "0.999    2318\n",
       "1.398    1275\n",
       "1.399     700\n",
       "1.229     661\n",
       "         ... \n",
       "1.533       1\n",
       "2.967       1\n",
       "1.856       1\n",
       "1.568       1\n",
       "1.896       1\n",
       "Name: Displacement, Length: 71, dtype: int64"
      ]
     },
     "execution_count": 76,
     "metadata": {},
     "output_type": "execute_result"
    }
   ],
   "source": [
    "df['Displacement'].value_counts()"
   ]
  },
  {
   "cell_type": "code",
   "execution_count": 77,
   "metadata": {},
   "outputs": [],
   "source": [
    "df.drop(df[df['Displacement'] > 2].index, inplace = True)"
   ]
  },
  {
   "cell_type": "code",
   "execution_count": 78,
   "metadata": {},
   "outputs": [],
   "source": [
    "df.dropna(subset = ['Displacement'], inplace = True)\n",
    "df.reset_index(drop = True, inplace = True)"
   ]
  },
  {
   "cell_type": "code",
   "execution_count": 79,
   "metadata": {
    "scrolled": false
   },
   "outputs": [
    {
     "name": "stdout",
     "output_type": "stream",
     "text": [
      "<class 'pandas.core.frame.DataFrame'>\n",
      "RangeIndex: 14161 entries, 0 to 14160\n",
      "Data columns (total 21 columns):\n",
      " #   Column                 Non-Null Count  Dtype  \n",
      "---  ------                 --------------  -----  \n",
      " 0   make_model             14161 non-null  object \n",
      " 1   body_type              14161 non-null  object \n",
      " 2   price                  14161 non-null  int64  \n",
      " 3   km                     14161 non-null  int64  \n",
      " 4   registration           14161 non-null  object \n",
      " 5   hp                     14161 non-null  int64  \n",
      " 6   First Registration     13117 non-null  object \n",
      " 7   Body Color             14161 non-null  object \n",
      " 8   Upholstery             14161 non-null  object \n",
      " 9   Nr. of Doors           14089 non-null  object \n",
      " 10  Nr. of Seats           13651 non-null  object \n",
      " 11  Gearing Type           14161 non-null  object \n",
      " 12  Displacement           14161 non-null  float64\n",
      " 13  Fuel                   14161 non-null  object \n",
      " 14  Consumption            12796 non-null  object \n",
      " 15  Emission Class         14161 non-null  object \n",
      " 16  Comfort & Convenience  14161 non-null  object \n",
      " 17  Entertainment & Media  14161 non-null  object \n",
      " 18  Extras                 14161 non-null  object \n",
      " 19  Safety & Security      14161 non-null  object \n",
      " 20  Gears                  10017 non-null  object \n",
      "dtypes: float64(1), int64(3), object(17)\n",
      "memory usage: 2.3+ MB\n"
     ]
    }
   ],
   "source": [
    "df.info()"
   ]
  },
  {
   "cell_type": "code",
   "execution_count": 80,
   "metadata": {},
   "outputs": [],
   "source": [
    "df.dropna(subset = ['Nr. of Doors'], inplace = True)\n",
    "df.reset_index(inplace = True, drop = True)"
   ]
  },
  {
   "cell_type": "code",
   "execution_count": 81,
   "metadata": {},
   "outputs": [],
   "source": [
    "df['Nr. of Doors'] = df['Nr. of Doors'].apply(''.join).transform(str.strip)"
   ]
  },
  {
   "cell_type": "code",
   "execution_count": 82,
   "metadata": {},
   "outputs": [],
   "source": [
    "df['Nr. of Doors'] = pd.to_numeric(df['Nr. of Doors'])"
   ]
  },
  {
   "cell_type": "code",
   "execution_count": 83,
   "metadata": {},
   "outputs": [],
   "source": [
    "df.drop(df[(df['Nr. of Doors'] == 7) | (df['Nr. of Doors'] == 1)].index, inplace = True)"
   ]
  },
  {
   "cell_type": "code",
   "execution_count": 84,
   "metadata": {},
   "outputs": [],
   "source": [
    "df.dropna(subset = ['Nr. of Seats'], inplace = True)\n",
    "df.reset_index(inplace = True, drop = True)"
   ]
  },
  {
   "cell_type": "code",
   "execution_count": 85,
   "metadata": {},
   "outputs": [],
   "source": [
    "df['Nr. of Seats'] = df['Nr. of Seats'].apply(''.join).transform(str.strip)\n",
    "df['Nr. of Seats'] = pd.to_numeric(df['Nr. of Seats'])"
   ]
  },
  {
   "cell_type": "code",
   "execution_count": 86,
   "metadata": {},
   "outputs": [],
   "source": [
    "df.drop(df[(df['Nr. of Seats'] == 6) | (df['Nr. of Seats'] == 3)].index, inplace = True)\n",
    "df.reset_index(inplace = True, drop = True)"
   ]
  },
  {
   "cell_type": "code",
   "execution_count": 87,
   "metadata": {},
   "outputs": [
    {
     "data": {
      "text/plain": [
       "5    12101\n",
       "4     1090\n",
       "7      318\n",
       "2      109\n",
       "Name: Nr. of Seats, dtype: int64"
      ]
     },
     "execution_count": 87,
     "metadata": {},
     "output_type": "execute_result"
    }
   ],
   "source": [
    "df['Nr. of Seats'].value_counts()"
   ]
  },
  {
   "cell_type": "code",
   "execution_count": 88,
   "metadata": {},
   "outputs": [
    {
     "name": "stdout",
     "output_type": "stream",
     "text": [
      "<class 'pandas.core.frame.DataFrame'>\n",
      "RangeIndex: 13618 entries, 0 to 13617\n",
      "Data columns (total 21 columns):\n",
      " #   Column                 Non-Null Count  Dtype  \n",
      "---  ------                 --------------  -----  \n",
      " 0   make_model             13618 non-null  object \n",
      " 1   body_type              13618 non-null  object \n",
      " 2   price                  13618 non-null  int64  \n",
      " 3   km                     13618 non-null  int64  \n",
      " 4   registration           13618 non-null  object \n",
      " 5   hp                     13618 non-null  int64  \n",
      " 6   First Registration     12645 non-null  object \n",
      " 7   Body Color             13618 non-null  object \n",
      " 8   Upholstery             13618 non-null  object \n",
      " 9   Nr. of Doors           13618 non-null  int64  \n",
      " 10  Nr. of Seats           13618 non-null  int64  \n",
      " 11  Gearing Type           13618 non-null  object \n",
      " 12  Displacement           13618 non-null  float64\n",
      " 13  Fuel                   13618 non-null  object \n",
      " 14  Consumption            12487 non-null  object \n",
      " 15  Emission Class         13618 non-null  object \n",
      " 16  Comfort & Convenience  13618 non-null  object \n",
      " 17  Entertainment & Media  13618 non-null  object \n",
      " 18  Extras                 13618 non-null  object \n",
      " 19  Safety & Security      13618 non-null  object \n",
      " 20  Gears                  9728 non-null   object \n",
      "dtypes: float64(1), int64(5), object(15)\n",
      "memory usage: 2.2+ MB\n"
     ]
    }
   ],
   "source": [
    "df.info()"
   ]
  },
  {
   "cell_type": "code",
   "execution_count": 89,
   "metadata": {
    "scrolled": true
   },
   "outputs": [
    {
     "data": {
      "text/plain": [
       "5    3064\n",
       "7      18\n",
       "4      14\n",
       "2       1\n",
       "Name: Nr. of Seats, dtype: int64"
      ]
     },
     "execution_count": 89,
     "metadata": {},
     "output_type": "execute_result"
    }
   ],
   "source": [
    "df['Nr. of Seats'][df['body_type'] == 'Station wagon'].value_counts(dropna = False)"
   ]
  },
  {
   "cell_type": "code",
   "execution_count": 90,
   "metadata": {},
   "outputs": [],
   "source": [
    "df['Gearing Type'] = df['Gearing Type'].apply(''.join).transform(str.strip)"
   ]
  },
  {
   "cell_type": "code",
   "execution_count": 91,
   "metadata": {},
   "outputs": [
    {
     "ename": "TypeError",
     "evalue": "unhashable type: 'list'",
     "output_type": "error",
     "traceback": [
      "\u001b[0;31m---------------------------------------------------------------------------\u001b[0m",
      "\u001b[0;31mTypeError\u001b[0m                                 Traceback (most recent call last)",
      "\u001b[0;32mpandas/_libs/hashtable_class_helper.pxi\u001b[0m in \u001b[0;36mpandas._libs.hashtable.PyObjectHashTable.map_locations\u001b[0;34m()\u001b[0m\n",
      "\u001b[0;31mTypeError\u001b[0m: unhashable type: 'list'"
     ]
    },
    {
     "name": "stderr",
     "output_type": "stream",
     "text": [
      "Exception ignored in: 'pandas._libs.index.IndexEngine._call_map_locations'\n",
      "Traceback (most recent call last):\n",
      "  File \"pandas/_libs/hashtable_class_helper.pxi\", line 1709, in pandas._libs.hashtable.PyObjectHashTable.map_locations\n",
      "TypeError: unhashable type: 'list'\n"
     ]
    },
    {
     "data": {
      "text/plain": [
       "[\\n, Diesel (Particulate Filter), \\n]                                                                                                       4034\n",
       "[\\n, Super 95, \\n]                                                                                                                          2845\n",
       "[\\n, Gasoline, \\n]                                                                                                                          2583\n",
       "[\\n, Diesel, \\n]                                                                                                                            2379\n",
       "[\\n, Super 95 / Regular/Benzine 91, \\n]                                                                                                      398\n",
       "                                                                                                                                            ... \n",
       "[\\n, Super Plus 98 / Super 95 / Super Plus E10 98, \\n]                                                                                         1\n",
       "[\\n, Super 95 / Super E10 95 / Super Plus 98, \\n]                                                                                              1\n",
       "[\\n, Regular/Benzine 91 / Super 95 / Super Plus 98, \\n]                                                                                        1\n",
       "[\\n, Regular/Benzine 91 / Super 95 / Super Plus 98 / Super Plus E10 98 / Super E10 95 / Regular/Benzine E10 91 (Particulate Filter), \\n]       1\n",
       "[\\n, Regular/Benzine 91 / Super 95, \\n]                                                                                                        1\n",
       "Name: Fuel, Length: 74, dtype: int64"
      ]
     },
     "execution_count": 91,
     "metadata": {},
     "output_type": "execute_result"
    }
   ],
   "source": [
    "df['Fuel'].value_counts()"
   ]
  },
  {
   "cell_type": "code",
   "execution_count": 92,
   "metadata": {},
   "outputs": [],
   "source": [
    "df['Fuel'] = df['Fuel'].apply(''.join).transform(str.strip)"
   ]
  },
  {
   "cell_type": "code",
   "execution_count": 93,
   "metadata": {
    "scrolled": true
   },
   "outputs": [
    {
     "data": {
      "text/plain": [
       "Diesel (Particulate Filter)                                                         4034\n",
       "Super 95                                                                            2845\n",
       "Gasoline                                                                            2583\n",
       "Diesel                                                                              2379\n",
       "Super 95 / Regular/Benzine 91                                                        398\n",
       "                                                                                    ... \n",
       "Regular/Benzine 91 / Super 95                                                          1\n",
       "Super 95 / Regular/Benzine 91 / Super E10 95 / Super Plus E10 98 / Super Plus 98       1\n",
       "Super 95 / Super Plus 98 / Super Plus E10 98                                           1\n",
       "Super 95 / Super E10 95 / Super Plus 98                                                1\n",
       "Super E10 95 / Regular/Benzine 91                                                      1\n",
       "Name: Fuel, Length: 74, dtype: int64"
      ]
     },
     "execution_count": 93,
     "metadata": {},
     "output_type": "execute_result"
    }
   ],
   "source": [
    "df['Fuel'].value_counts()"
   ]
  },
  {
   "cell_type": "code",
   "execution_count": 94,
   "metadata": {},
   "outputs": [
    {
     "data": {
      "text/plain": [
       "Diesel (Particulate Filter)                                                         4034\n",
       "Super 95                                                                            2845\n",
       "Gasoline                                                                            2583\n",
       "Diesel                                                                              2379\n",
       "Super 95 / Regular/Benzine 91                                                        398\n",
       "                                                                                    ... \n",
       "Regular/Benzine 91 / Super 95                                                          1\n",
       "Super 95 / Regular/Benzine 91 / Super E10 95 / Super Plus E10 98 / Super Plus 98       1\n",
       "Super 95 / Super Plus 98 / Super Plus E10 98                                           1\n",
       "Super 95 / Super E10 95 / Super Plus 98                                                1\n",
       "Super E10 95 / Regular/Benzine 91                                                      1\n",
       "Name: Fuel, Length: 74, dtype: int64"
      ]
     },
     "execution_count": 94,
     "metadata": {},
     "output_type": "execute_result"
    }
   ],
   "source": [
    "df['Fuel'].value_counts()"
   ]
  },
  {
   "cell_type": "code",
   "execution_count": 95,
   "metadata": {
    "scrolled": false
   },
   "outputs": [
    {
     "data": {
      "text/plain": [
       "array([4034, 2845, 2583, 2379,  398,  316,  225,  178,  122,   98,   78,\n",
       "         65,   36,   34,   27,   24,   18,   13,   13,    9,    8,    8,\n",
       "          7,    7,    6,    6,    6,    5,    4,    4,    4,    4,    4,\n",
       "          3,    3,    3,    2,    2,    2,    1,    1,    1,    1,    1,\n",
       "          1,    1,    1,    1,    1,    1,    1,    1,    1,    1,    1,\n",
       "          1,    1,    1,    1,    1,    1,    1,    1,    1,    1,    1,\n",
       "          1,    1,    1,    1,    1,    1,    1,    1])"
      ]
     },
     "execution_count": 95,
     "metadata": {},
     "output_type": "execute_result"
    }
   ],
   "source": [
    "df['Fuel'].value_counts().values"
   ]
  },
  {
   "cell_type": "code",
   "execution_count": 96,
   "metadata": {},
   "outputs": [
    {
     "name": "stdout",
     "output_type": "stream",
     "text": [
      "<class 'pandas.core.frame.DataFrame'>\n",
      "RangeIndex: 13618 entries, 0 to 13617\n",
      "Data columns (total 21 columns):\n",
      " #   Column                 Non-Null Count  Dtype  \n",
      "---  ------                 --------------  -----  \n",
      " 0   make_model             13618 non-null  object \n",
      " 1   body_type              13618 non-null  object \n",
      " 2   price                  13618 non-null  int64  \n",
      " 3   km                     13618 non-null  int64  \n",
      " 4   registration           13618 non-null  object \n",
      " 5   hp                     13618 non-null  int64  \n",
      " 6   First Registration     12645 non-null  object \n",
      " 7   Body Color             13618 non-null  object \n",
      " 8   Upholstery             13618 non-null  object \n",
      " 9   Nr. of Doors           13618 non-null  int64  \n",
      " 10  Nr. of Seats           13618 non-null  int64  \n",
      " 11  Gearing Type           13618 non-null  object \n",
      " 12  Displacement           13618 non-null  float64\n",
      " 13  Fuel                   13618 non-null  object \n",
      " 14  Consumption            12487 non-null  object \n",
      " 15  Emission Class         13618 non-null  object \n",
      " 16  Comfort & Convenience  13618 non-null  object \n",
      " 17  Entertainment & Media  13618 non-null  object \n",
      " 18  Extras                 13618 non-null  object \n",
      " 19  Safety & Security      13618 non-null  object \n",
      " 20  Gears                  9728 non-null   object \n",
      "dtypes: float64(1), int64(5), object(15)\n",
      "memory usage: 2.2+ MB\n"
     ]
    }
   ],
   "source": [
    "df.info()"
   ]
  },
  {
   "cell_type": "code",
   "execution_count": 97,
   "metadata": {
    "scrolled": false
   },
   "outputs": [
    {
     "ename": "TypeError",
     "evalue": "unhashable type: 'list'",
     "output_type": "error",
     "traceback": [
      "\u001b[0;31m---------------------------------------------------------------------------\u001b[0m",
      "\u001b[0;31mTypeError\u001b[0m                                 Traceback (most recent call last)",
      "\u001b[0;32mpandas/_libs/hashtable_class_helper.pxi\u001b[0m in \u001b[0;36mpandas._libs.hashtable.PyObjectHashTable.map_locations\u001b[0;34m()\u001b[0m\n",
      "\u001b[0;31mTypeError\u001b[0m: unhashable type: 'list'"
     ]
    },
    {
     "name": "stderr",
     "output_type": "stream",
     "text": [
      "Exception ignored in: 'pandas._libs.index.IndexEngine._call_map_locations'\n",
      "Traceback (most recent call last):\n",
      "  File \"pandas/_libs/hashtable_class_helper.pxi\", line 1709, in pandas._libs.hashtable.PyObjectHashTable.map_locations\n",
      "TypeError: unhashable type: 'list'\n"
     ]
    },
    {
     "data": {
      "text/plain": [
       "[\\nEuro 6\\n]          11449\n",
       "[\\nEuro 6d-TEMP\\n]     1521\n",
       "[[], [], []]            426\n",
       "[\\nEuro 5\\n]             69\n",
       "[\\nEuro 6c\\n]            63\n",
       "[\\nEuro 6d\\n]            54\n",
       "[\\nEuro 4\\n]             36\n",
       "Name: Emission Class, dtype: int64"
      ]
     },
     "execution_count": 97,
     "metadata": {},
     "output_type": "execute_result"
    }
   ],
   "source": [
    "df['Emission Class'].value_counts(dropna = False)"
   ]
  },
  {
   "cell_type": "code",
   "execution_count": 98,
   "metadata": {},
   "outputs": [],
   "source": [
    "df_ec = pd.DataFrame(df['Emission Class'].tolist(), index= df.index)"
   ]
  },
  {
   "cell_type": "code",
   "execution_count": 99,
   "metadata": {},
   "outputs": [],
   "source": [
    "df['Emission Class'] = df_ec[0]"
   ]
  },
  {
   "cell_type": "code",
   "execution_count": 100,
   "metadata": {},
   "outputs": [],
   "source": [
    "df['Emission Class'] = df['Emission Class'].apply(''.join).transform(str.strip)"
   ]
  },
  {
   "cell_type": "code",
   "execution_count": 101,
   "metadata": {},
   "outputs": [],
   "source": [
    "def rep_value(x, y):\n",
    "    a = df[x][df['make_model'] == y].value_counts().index[0]\n",
    "    b = df[x][df['make_model'] == y]\n",
    "    b = b.apply(lambda z : z if z != '' else a)\n",
    "    df[x][df['make_model'] == y] = b"
   ]
  },
  {
   "cell_type": "code",
   "execution_count": 102,
   "metadata": {},
   "outputs": [],
   "source": [
    "for i in range(df['make_model'].nunique()):\n",
    "    rep_value('Emission Class', df['make_model'].unique()[i])"
   ]
  },
  {
   "cell_type": "code",
   "execution_count": 103,
   "metadata": {
    "scrolled": false
   },
   "outputs": [
    {
     "data": {
      "text/plain": [
       "Euro 6          11874\n",
       "Euro 6d-TEMP     1521\n",
       "Euro 5             69\n",
       "Euro 6c            63\n",
       "Euro 6d            54\n",
       "Euro 4             37\n",
       "Name: Emission Class, dtype: int64"
      ]
     },
     "execution_count": 103,
     "metadata": {},
     "output_type": "execute_result"
    }
   ],
   "source": [
    "df['Emission Class'].value_counts(dropna = False)"
   ]
  },
  {
   "cell_type": "code",
   "execution_count": 104,
   "metadata": {
    "scrolled": false
   },
   "outputs": [
    {
     "ename": "TypeError",
     "evalue": "unhashable type: 'list'",
     "output_type": "error",
     "traceback": [
      "\u001b[0;31m---------------------------------------------------------------------------\u001b[0m",
      "\u001b[0;31mTypeError\u001b[0m                                 Traceback (most recent call last)",
      "\u001b[0;32mpandas/_libs/hashtable_class_helper.pxi\u001b[0m in \u001b[0;36mpandas._libs.hashtable.PyObjectHashTable.map_locations\u001b[0;34m()\u001b[0m\n",
      "\u001b[0;31mTypeError\u001b[0m: unhashable type: 'list'"
     ]
    },
    {
     "name": "stderr",
     "output_type": "stream",
     "text": [
      "Exception ignored in: 'pandas._libs.index.IndexEngine._call_map_locations'\n",
      "Traceback (most recent call last):\n",
      "  File \"pandas/_libs/hashtable_class_helper.pxi\", line 1709, in pandas._libs.hashtable.PyObjectHashTable.map_locations\n",
      "TypeError: unhashable type: 'list'\n"
     ]
    },
    {
     "data": {
      "text/plain": [
       "[\\n6\\n]    5121\n",
       "NaN        3890\n",
       "[\\n5\\n]    2679\n",
       "[\\n7\\n]    1737\n",
       "[\\n8\\n]     190\n",
       "[\\n1\\n]       1\n",
       "Name: Gears, dtype: int64"
      ]
     },
     "execution_count": 104,
     "metadata": {},
     "output_type": "execute_result"
    }
   ],
   "source": [
    "df['Gears'].value_counts(dropna = False)"
   ]
  },
  {
   "cell_type": "code",
   "execution_count": 105,
   "metadata": {},
   "outputs": [],
   "source": [
    "def fill_value(x, y):\n",
    "    a = df['Gears'][(df['Gearing Type'] == x) & (df['make_model'] == y)]\n",
    "    b = a.fillna(method = 'bfill').fillna(method = 'ffill')\n",
    "    df['Gears'][(df['Gearing Type'] == x) & (df['make_model'] == y)] = b"
   ]
  },
  {
   "cell_type": "code",
   "execution_count": 106,
   "metadata": {},
   "outputs": [],
   "source": [
    "for i in range(df['Gearing Type'].nunique()):\n",
    "    for ii in range(df['make_model'].nunique()):\n",
    "        fill_value(df['Gearing Type'].unique()[i], df['make_model'].unique()[ii])"
   ]
  },
  {
   "cell_type": "code",
   "execution_count": 107,
   "metadata": {
    "scrolled": true
   },
   "outputs": [
    {
     "ename": "TypeError",
     "evalue": "unhashable type: 'list'",
     "output_type": "error",
     "traceback": [
      "\u001b[0;31m---------------------------------------------------------------------------\u001b[0m",
      "\u001b[0;31mTypeError\u001b[0m                                 Traceback (most recent call last)",
      "\u001b[0;32mpandas/_libs/hashtable_class_helper.pxi\u001b[0m in \u001b[0;36mpandas._libs.hashtable.PyObjectHashTable.map_locations\u001b[0;34m()\u001b[0m\n",
      "\u001b[0;31mTypeError\u001b[0m: unhashable type: 'list'"
     ]
    },
    {
     "name": "stderr",
     "output_type": "stream",
     "text": [
      "Exception ignored in: 'pandas._libs.index.IndexEngine._call_map_locations'\n",
      "Traceback (most recent call last):\n",
      "  File \"pandas/_libs/hashtable_class_helper.pxi\", line 1709, in pandas._libs.hashtable.PyObjectHashTable.map_locations\n",
      "TypeError: unhashable type: 'list'\n"
     ]
    },
    {
     "data": {
      "text/plain": [
       "[\\n6\\n]    7271\n",
       "[\\n5\\n]    3556\n",
       "[\\n7\\n]    2541\n",
       "[\\n8\\n]     239\n",
       "NaN           9\n",
       "[\\n1\\n]       2\n",
       "Name: Gears, dtype: int64"
      ]
     },
     "execution_count": 107,
     "metadata": {},
     "output_type": "execute_result"
    }
   ],
   "source": [
    "df['Gears'].value_counts(dropna = False)"
   ]
  },
  {
   "cell_type": "code",
   "execution_count": 108,
   "metadata": {},
   "outputs": [],
   "source": [
    "df['Gears'].fillna(method = 'bfill', inplace = True)"
   ]
  },
  {
   "cell_type": "code",
   "execution_count": 109,
   "metadata": {
    "scrolled": true
   },
   "outputs": [
    {
     "data": {
      "text/html": [
       "<div>\n",
       "<style scoped>\n",
       "    .dataframe tbody tr th:only-of-type {\n",
       "        vertical-align: middle;\n",
       "    }\n",
       "\n",
       "    .dataframe tbody tr th {\n",
       "        vertical-align: top;\n",
       "    }\n",
       "\n",
       "    .dataframe thead th {\n",
       "        text-align: right;\n",
       "    }\n",
       "</style>\n",
       "<table border=\"1\" class=\"dataframe\">\n",
       "  <thead>\n",
       "    <tr style=\"text-align: right;\">\n",
       "      <th></th>\n",
       "      <th>make_model</th>\n",
       "      <th>body_type</th>\n",
       "      <th>price</th>\n",
       "      <th>km</th>\n",
       "      <th>registration</th>\n",
       "      <th>hp</th>\n",
       "      <th>First Registration</th>\n",
       "      <th>Body Color</th>\n",
       "      <th>Upholstery</th>\n",
       "      <th>Nr. of Doors</th>\n",
       "      <th>...</th>\n",
       "      <th>Gearing Type</th>\n",
       "      <th>Displacement</th>\n",
       "      <th>Fuel</th>\n",
       "      <th>Consumption</th>\n",
       "      <th>Emission Class</th>\n",
       "      <th>Comfort &amp; Convenience</th>\n",
       "      <th>Entertainment &amp; Media</th>\n",
       "      <th>Extras</th>\n",
       "      <th>Safety &amp; Security</th>\n",
       "      <th>Gears</th>\n",
       "    </tr>\n",
       "  </thead>\n",
       "  <tbody>\n",
       "    <tr>\n",
       "      <th>2364</th>\n",
       "      <td>Audi A2</td>\n",
       "      <td>Off-Road</td>\n",
       "      <td>28200</td>\n",
       "      <td>26166</td>\n",
       "      <td>10/2018</td>\n",
       "      <td>85</td>\n",
       "      <td>[\\n, 2018, \\n]</td>\n",
       "      <td>[\\n, Grey, \\n]</td>\n",
       "      <td>Cloth, Black</td>\n",
       "      <td>5</td>\n",
       "      <td>...</td>\n",
       "      <td>Manual</td>\n",
       "      <td>1.598</td>\n",
       "      <td>Diesel (Particulate Filter)</td>\n",
       "      <td>[[4.9 l/100 km (comb)], [5.6 l/100 km (city)],...</td>\n",
       "      <td>Euro 6</td>\n",
       "      <td>[Air conditioning, Armrest, Automatic climate ...</td>\n",
       "      <td>[Bluetooth, CD player, Hands-free equipment, M...</td>\n",
       "      <td>[Alloy wheels]</td>\n",
       "      <td>[ABS, Adaptive Cruise Control, Central door lo...</td>\n",
       "      <td>[\\n7\\n]</td>\n",
       "    </tr>\n",
       "  </tbody>\n",
       "</table>\n",
       "<p>1 rows × 21 columns</p>\n",
       "</div>"
      ],
      "text/plain": [
       "     make_model body_type  price     km registration  hp First Registration  \\\n",
       "2364    Audi A2  Off-Road  28200  26166      10/2018  85     [\\n, 2018, \\n]   \n",
       "\n",
       "          Body Color    Upholstery  Nr. of Doors  ...  Gearing Type  \\\n",
       "2364  [\\n, Grey, \\n]  Cloth, Black             5  ...        Manual   \n",
       "\n",
       "     Displacement                         Fuel  \\\n",
       "2364        1.598  Diesel (Particulate Filter)   \n",
       "\n",
       "                                            Consumption Emission Class  \\\n",
       "2364  [[4.9 l/100 km (comb)], [5.6 l/100 km (city)],...         Euro 6   \n",
       "\n",
       "                                  Comfort & Convenience  \\\n",
       "2364  [Air conditioning, Armrest, Automatic climate ...   \n",
       "\n",
       "                                  Entertainment & Media          Extras  \\\n",
       "2364  [Bluetooth, CD player, Hands-free equipment, M...  [Alloy wheels]   \n",
       "\n",
       "                                      Safety & Security    Gears  \n",
       "2364  [ABS, Adaptive Cruise Control, Central door lo...  [\\n7\\n]  \n",
       "\n",
       "[1 rows x 21 columns]"
      ]
     },
     "execution_count": 109,
     "metadata": {},
     "output_type": "execute_result"
    }
   ],
   "source": [
    "df[df['make_model'] == 'Audi A2']"
   ]
  },
  {
   "cell_type": "code",
   "execution_count": 110,
   "metadata": {},
   "outputs": [],
   "source": [
    "df['Gears'] = df['Gears'].apply(''.join).transform(str.strip)"
   ]
  },
  {
   "cell_type": "code",
   "execution_count": 111,
   "metadata": {},
   "outputs": [],
   "source": [
    "df.drop(df[df['Gears'] == '1'].index, inplace = True)\n",
    "df.reset_index(inplace = True, drop = True)"
   ]
  },
  {
   "cell_type": "code",
   "execution_count": 112,
   "metadata": {},
   "outputs": [],
   "source": [
    "df['Gears'] = pd.to_numeric(df['Gears'])"
   ]
  },
  {
   "cell_type": "code",
   "execution_count": 113,
   "metadata": {
    "scrolled": true
   },
   "outputs": [
    {
     "data": {
      "text/plain": [
       "0        7\n",
       "1        7\n",
       "2        6\n",
       "3        6\n",
       "4        7\n",
       "        ..\n",
       "13611    6\n",
       "13612    6\n",
       "13613    7\n",
       "13614    6\n",
       "13615    6\n",
       "Name: Gears, Length: 13616, dtype: int64"
      ]
     },
     "execution_count": 113,
     "metadata": {},
     "output_type": "execute_result"
    }
   ],
   "source": [
    "df['Gears']"
   ]
  },
  {
   "cell_type": "code",
   "execution_count": 114,
   "metadata": {},
   "outputs": [
    {
     "name": "stdout",
     "output_type": "stream",
     "text": [
      "<class 'pandas.core.frame.DataFrame'>\n",
      "RangeIndex: 13616 entries, 0 to 13615\n",
      "Data columns (total 21 columns):\n",
      " #   Column                 Non-Null Count  Dtype  \n",
      "---  ------                 --------------  -----  \n",
      " 0   make_model             13616 non-null  object \n",
      " 1   body_type              13616 non-null  object \n",
      " 2   price                  13616 non-null  int64  \n",
      " 3   km                     13616 non-null  int64  \n",
      " 4   registration           13616 non-null  object \n",
      " 5   hp                     13616 non-null  int64  \n",
      " 6   First Registration     12643 non-null  object \n",
      " 7   Body Color             13616 non-null  object \n",
      " 8   Upholstery             13616 non-null  object \n",
      " 9   Nr. of Doors           13616 non-null  int64  \n",
      " 10  Nr. of Seats           13616 non-null  int64  \n",
      " 11  Gearing Type           13616 non-null  object \n",
      " 12  Displacement           13616 non-null  float64\n",
      " 13  Fuel                   13616 non-null  object \n",
      " 14  Consumption            12485 non-null  object \n",
      " 15  Emission Class         13616 non-null  object \n",
      " 16  Comfort & Convenience  13616 non-null  object \n",
      " 17  Entertainment & Media  13616 non-null  object \n",
      " 18  Extras                 13616 non-null  object \n",
      " 19  Safety & Security      13616 non-null  object \n",
      " 20  Gears                  13616 non-null  int64  \n",
      "dtypes: float64(1), int64(6), object(14)\n",
      "memory usage: 2.2+ MB\n"
     ]
    }
   ],
   "source": [
    "df.info()"
   ]
  },
  {
   "cell_type": "code",
   "execution_count": 115,
   "metadata": {
    "scrolled": false
   },
   "outputs": [
    {
     "ename": "TypeError",
     "evalue": "unhashable type: 'list'",
     "output_type": "error",
     "traceback": [
      "\u001b[0;31m---------------------------------------------------------------------------\u001b[0m",
      "\u001b[0;31mTypeError\u001b[0m                                 Traceback (most recent call last)",
      "\u001b[0;32mpandas/_libs/hashtable_class_helper.pxi\u001b[0m in \u001b[0;36mpandas._libs.hashtable.PyObjectHashTable.map_locations\u001b[0;34m()\u001b[0m\n",
      "\u001b[0;31mTypeError\u001b[0m: unhashable type: 'list'"
     ]
    },
    {
     "name": "stderr",
     "output_type": "stream",
     "text": [
      "Exception ignored in: 'pandas._libs.index.IndexEngine._call_map_locations'\n",
      "Traceback (most recent call last):\n",
      "  File \"pandas/_libs/hashtable_class_helper.pxi\", line 1709, in pandas._libs.hashtable.PyObjectHashTable.map_locations\n",
      "TypeError: unhashable type: 'list'\n"
     ]
    },
    {
     "data": {
      "text/plain": [
       "NaN                                                                                   1131\n",
       "[[3.9 l/100 km (comb)], [4.1 l/100 km (city)], [3.7 l/100 km (country)]]               285\n",
       "[[4.2 l/100 km (comb)], [5 l/100 km (city)], [3.7 l/100 km (country)]]                 251\n",
       "[[3.8 l/100 km (comb)], [4.3 l/100 km (city)], [3.5 l/100 km (country)]]               248\n",
       "[[5.4 l/100 km (comb)], [6.8 l/100 km (city)], [4.5 l/100 km (country)]]               240\n",
       "                                                                                      ... \n",
       "[\\n, 5.8 l/100 km (comb), \\n, \\n, \\n]                                                    1\n",
       "[\\n, 4.7 l/100 km (comb), \\n, \\n, \\n]                                                    1\n",
       "[\\n, 6.5 l/100 km (comb), \\n, 7.9 l/100 km (city), \\n, 5.6 l/100 km (country), \\n]       1\n",
       "[\\n, 5.6 l/100 km (comb), \\n, 7.1 l/100 km (city), \\n, 4.7 l/100 km (country), \\n]       1\n",
       "[[5.8 l/100 km (comb)], [7.2 l/100 km (city)], [5 l/100 km (country)]]                   1\n",
       "Name: Consumption, Length: 817, dtype: int64"
      ]
     },
     "execution_count": 115,
     "metadata": {},
     "output_type": "execute_result"
    }
   ],
   "source": [
    "df['Consumption'].value_counts(dropna = False)"
   ]
  },
  {
   "cell_type": "code",
   "execution_count": 116,
   "metadata": {},
   "outputs": [],
   "source": [
    "def fill_value2(x, y):\n",
    "    a = df['Consumption'][(df['hp'] == x) & (df['make_model'] == y)]\n",
    "    b = a.fillna(method = 'bfill').fillna(method = 'ffill')\n",
    "    df['Consumption'][(df['hp'] == x) & (df['make_model'] == y)] = b"
   ]
  },
  {
   "cell_type": "code",
   "execution_count": 117,
   "metadata": {},
   "outputs": [],
   "source": [
    "for i in range(df['hp'].nunique()):\n",
    "    for ii in range(df['make_model'].nunique()):\n",
    "        fill_value2(df['hp'].unique()[i], df['make_model'].unique()[ii])"
   ]
  },
  {
   "cell_type": "code",
   "execution_count": 118,
   "metadata": {
    "scrolled": false
   },
   "outputs": [
    {
     "ename": "TypeError",
     "evalue": "unhashable type: 'list'",
     "output_type": "error",
     "traceback": [
      "\u001b[0;31m---------------------------------------------------------------------------\u001b[0m",
      "\u001b[0;31mTypeError\u001b[0m                                 Traceback (most recent call last)",
      "\u001b[0;32mpandas/_libs/hashtable_class_helper.pxi\u001b[0m in \u001b[0;36mpandas._libs.hashtable.PyObjectHashTable.map_locations\u001b[0;34m()\u001b[0m\n",
      "\u001b[0;31mTypeError\u001b[0m: unhashable type: 'list'"
     ]
    },
    {
     "name": "stderr",
     "output_type": "stream",
     "text": [
      "Exception ignored in: 'pandas._libs.index.IndexEngine._call_map_locations'\n",
      "Traceback (most recent call last):\n",
      "  File \"pandas/_libs/hashtable_class_helper.pxi\", line 1709, in pandas._libs.hashtable.PyObjectHashTable.map_locations\n",
      "TypeError: unhashable type: 'list'\n"
     ]
    },
    {
     "data": {
      "text/plain": [
       "[[3.9 l/100 km (comb)], [4.1 l/100 km (city)], [3.7 l/100 km (country)]]     298\n",
       "[[3.8 l/100 km (comb)], [4.3 l/100 km (city)], [3.5 l/100 km (country)]]     273\n",
       "[[4.2 l/100 km (comb)], [5 l/100 km (city)], [3.7 l/100 km (country)]]       266\n",
       "[[5.4 l/100 km (comb)], [6.8 l/100 km (city)], [4.5 l/100 km (country)]]     260\n",
       "[[4.7 l/100 km (comb)], [5.1 l/100 km (city)], [4.4 l/100 km (country)]]     255\n",
       "                                                                            ... \n",
       "[[6.5 l/100 km (comb)], [8.2 l/100 km (city)], [5.5 l/100 km (country)]]       1\n",
       "[[6.8 l/100 km (comb)], [6.9 l/100 km (city)], [6 l/100 km (country)]]         1\n",
       "[[3.7 l/100 km (comb)], [4.6 l/100 km (city)], [3.3 l/100 km (country)]]       1\n",
       "[[7.8 l/100 km (comb)], [10.8 l/100 km (city)], [6.1 l/100 km (country)]]      1\n",
       "[[6.4 l/100 km (comb)], [10.2 l/100 km (city)], [7.6 l/100 km (country)]]      1\n",
       "Name: Consumption, Length: 816, dtype: int64"
      ]
     },
     "execution_count": 118,
     "metadata": {},
     "output_type": "execute_result"
    }
   ],
   "source": [
    "df['Consumption'].value_counts(dropna = False)"
   ]
  },
  {
   "cell_type": "code",
   "execution_count": 119,
   "metadata": {},
   "outputs": [],
   "source": [
    "df_cons = pd.DataFrame(df['Consumption'].tolist(), index= df.index)"
   ]
  },
  {
   "cell_type": "code",
   "execution_count": 120,
   "metadata": {
    "scrolled": true
   },
   "outputs": [
    {
     "data": {
      "text/html": [
       "<div>\n",
       "<style scoped>\n",
       "    .dataframe tbody tr th:only-of-type {\n",
       "        vertical-align: middle;\n",
       "    }\n",
       "\n",
       "    .dataframe tbody tr th {\n",
       "        vertical-align: top;\n",
       "    }\n",
       "\n",
       "    .dataframe thead th {\n",
       "        text-align: right;\n",
       "    }\n",
       "</style>\n",
       "<table border=\"1\" class=\"dataframe\">\n",
       "  <thead>\n",
       "    <tr style=\"text-align: right;\">\n",
       "      <th></th>\n",
       "      <th>0</th>\n",
       "      <th>1</th>\n",
       "      <th>2</th>\n",
       "      <th>3</th>\n",
       "      <th>4</th>\n",
       "      <th>5</th>\n",
       "      <th>6</th>\n",
       "    </tr>\n",
       "  </thead>\n",
       "  <tbody>\n",
       "    <tr>\n",
       "      <th>0</th>\n",
       "      <td>[3.8 l/100 km (comb)]</td>\n",
       "      <td>[4.3 l/100 km (city)]</td>\n",
       "      <td>[3.5 l/100 km (country)]</td>\n",
       "      <td>None</td>\n",
       "      <td>None</td>\n",
       "      <td>None</td>\n",
       "      <td>None</td>\n",
       "    </tr>\n",
       "    <tr>\n",
       "      <th>1</th>\n",
       "      <td>[5.6 l/100 km (comb)]</td>\n",
       "      <td>[7.1 l/100 km (city)]</td>\n",
       "      <td>[4.7 l/100 km (country)]</td>\n",
       "      <td>None</td>\n",
       "      <td>None</td>\n",
       "      <td>None</td>\n",
       "      <td>None</td>\n",
       "    </tr>\n",
       "    <tr>\n",
       "      <th>2</th>\n",
       "      <td>[3.8 l/100 km (comb)]</td>\n",
       "      <td>[4.4 l/100 km (city)]</td>\n",
       "      <td>[3.4 l/100 km (country)]</td>\n",
       "      <td>None</td>\n",
       "      <td>None</td>\n",
       "      <td>None</td>\n",
       "      <td>None</td>\n",
       "    </tr>\n",
       "    <tr>\n",
       "      <th>3</th>\n",
       "      <td>[3.8 l/100 km (comb)]</td>\n",
       "      <td>[4.3 l/100 km (city)]</td>\n",
       "      <td>[3.5 l/100 km (country)]</td>\n",
       "      <td>None</td>\n",
       "      <td>None</td>\n",
       "      <td>None</td>\n",
       "      <td>None</td>\n",
       "    </tr>\n",
       "    <tr>\n",
       "      <th>4</th>\n",
       "      <td>[4.1 l/100 km (comb)]</td>\n",
       "      <td>[4.6 l/100 km (city)]</td>\n",
       "      <td>[3.8 l/100 km (country)]</td>\n",
       "      <td>None</td>\n",
       "      <td>None</td>\n",
       "      <td>None</td>\n",
       "      <td>None</td>\n",
       "    </tr>\n",
       "    <tr>\n",
       "      <th>...</th>\n",
       "      <td>...</td>\n",
       "      <td>...</td>\n",
       "      <td>...</td>\n",
       "      <td>...</td>\n",
       "      <td>...</td>\n",
       "      <td>...</td>\n",
       "      <td>...</td>\n",
       "    </tr>\n",
       "    <tr>\n",
       "      <th>13611</th>\n",
       "      <td>[6.8 l/100 km (comb)]</td>\n",
       "      <td>[8.7 l/100 km (city)]</td>\n",
       "      <td>[5.7 l/100 km (country)]</td>\n",
       "      <td>None</td>\n",
       "      <td>None</td>\n",
       "      <td>None</td>\n",
       "      <td>None</td>\n",
       "    </tr>\n",
       "    <tr>\n",
       "      <th>13612</th>\n",
       "      <td>[5.3 l/100 km (comb)]</td>\n",
       "      <td>[6.2 l/100 km (city)]</td>\n",
       "      <td>[4.7 l/100 km (country)]</td>\n",
       "      <td>None</td>\n",
       "      <td>None</td>\n",
       "      <td>None</td>\n",
       "      <td>None</td>\n",
       "    </tr>\n",
       "    <tr>\n",
       "      <th>13613</th>\n",
       "      <td>\\n</td>\n",
       "      <td>7.4 l/100 km (comb)</td>\n",
       "      <td>\\n</td>\n",
       "      <td>9.2 l/100 km (city)</td>\n",
       "      <td>\\n</td>\n",
       "      <td>6.3 l/100 km (country)</td>\n",
       "      <td>\\n</td>\n",
       "    </tr>\n",
       "    <tr>\n",
       "      <th>13614</th>\n",
       "      <td>[5.3 l/100 km (comb)]</td>\n",
       "      <td>[6.2 l/100 km (city)]</td>\n",
       "      <td>[4.7 l/100 km (country)]</td>\n",
       "      <td>None</td>\n",
       "      <td>None</td>\n",
       "      <td>None</td>\n",
       "      <td>None</td>\n",
       "    </tr>\n",
       "    <tr>\n",
       "      <th>13615</th>\n",
       "      <td>[5.3 l/100 km (comb)]</td>\n",
       "      <td>[6.2 l/100 km (city)]</td>\n",
       "      <td>[4.7 l/100 km (country)]</td>\n",
       "      <td>None</td>\n",
       "      <td>None</td>\n",
       "      <td>None</td>\n",
       "      <td>None</td>\n",
       "    </tr>\n",
       "  </tbody>\n",
       "</table>\n",
       "<p>13616 rows × 7 columns</p>\n",
       "</div>"
      ],
      "text/plain": [
       "                           0                      1                         2  \\\n",
       "0      [3.8 l/100 km (comb)]  [4.3 l/100 km (city)]  [3.5 l/100 km (country)]   \n",
       "1      [5.6 l/100 km (comb)]  [7.1 l/100 km (city)]  [4.7 l/100 km (country)]   \n",
       "2      [3.8 l/100 km (comb)]  [4.4 l/100 km (city)]  [3.4 l/100 km (country)]   \n",
       "3      [3.8 l/100 km (comb)]  [4.3 l/100 km (city)]  [3.5 l/100 km (country)]   \n",
       "4      [4.1 l/100 km (comb)]  [4.6 l/100 km (city)]  [3.8 l/100 km (country)]   \n",
       "...                      ...                    ...                       ...   \n",
       "13611  [6.8 l/100 km (comb)]  [8.7 l/100 km (city)]  [5.7 l/100 km (country)]   \n",
       "13612  [5.3 l/100 km (comb)]  [6.2 l/100 km (city)]  [4.7 l/100 km (country)]   \n",
       "13613                     \\n    7.4 l/100 km (comb)                        \\n   \n",
       "13614  [5.3 l/100 km (comb)]  [6.2 l/100 km (city)]  [4.7 l/100 km (country)]   \n",
       "13615  [5.3 l/100 km (comb)]  [6.2 l/100 km (city)]  [4.7 l/100 km (country)]   \n",
       "\n",
       "                         3     4                       5     6  \n",
       "0                     None  None                    None  None  \n",
       "1                     None  None                    None  None  \n",
       "2                     None  None                    None  None  \n",
       "3                     None  None                    None  None  \n",
       "4                     None  None                    None  None  \n",
       "...                    ...   ...                     ...   ...  \n",
       "13611                 None  None                    None  None  \n",
       "13612                 None  None                    None  None  \n",
       "13613  9.2 l/100 km (city)    \\n  6.3 l/100 km (country)    \\n  \n",
       "13614                 None  None                    None  None  \n",
       "13615                 None  None                    None  None  \n",
       "\n",
       "[13616 rows x 7 columns]"
      ]
     },
     "execution_count": 120,
     "metadata": {},
     "output_type": "execute_result"
    }
   ],
   "source": [
    "df_cons"
   ]
  },
  {
   "cell_type": "code",
   "execution_count": 121,
   "metadata": {},
   "outputs": [],
   "source": [
    "df_cons.drop([3, 4, 5, 6], axis = 1, inplace = True)"
   ]
  },
  {
   "cell_type": "code",
   "execution_count": 122,
   "metadata": {},
   "outputs": [],
   "source": [
    "for i in range(len(df_cons.columns)):\n",
    "    for ii in range(len(df_cons)):\n",
    "        if isinstance (df_cons[i][ii], list):\n",
    "            df_cons[i][ii] = (''.join(df_cons[i][ii]))\n",
    "        elif df_cons[i][ii] == None:\n",
    "            pass\n",
    "        else:\n",
    "            df_cons[i][ii] = df_cons[i][ii].strip()"
   ]
  },
  {
   "cell_type": "code",
   "execution_count": 123,
   "metadata": {
    "scrolled": false
   },
   "outputs": [
    {
     "data": {
      "text/html": [
       "<div>\n",
       "<style scoped>\n",
       "    .dataframe tbody tr th:only-of-type {\n",
       "        vertical-align: middle;\n",
       "    }\n",
       "\n",
       "    .dataframe tbody tr th {\n",
       "        vertical-align: top;\n",
       "    }\n",
       "\n",
       "    .dataframe thead th {\n",
       "        text-align: right;\n",
       "    }\n",
       "</style>\n",
       "<table border=\"1\" class=\"dataframe\">\n",
       "  <thead>\n",
       "    <tr style=\"text-align: right;\">\n",
       "      <th></th>\n",
       "      <th>0</th>\n",
       "      <th>1</th>\n",
       "      <th>2</th>\n",
       "    </tr>\n",
       "  </thead>\n",
       "  <tbody>\n",
       "    <tr>\n",
       "      <th>0</th>\n",
       "      <td>3.8 l/100 km (comb)</td>\n",
       "      <td>4.3 l/100 km (city)</td>\n",
       "      <td>3.5 l/100 km (country)</td>\n",
       "    </tr>\n",
       "    <tr>\n",
       "      <th>1</th>\n",
       "      <td>5.6 l/100 km (comb)</td>\n",
       "      <td>7.1 l/100 km (city)</td>\n",
       "      <td>4.7 l/100 km (country)</td>\n",
       "    </tr>\n",
       "    <tr>\n",
       "      <th>2</th>\n",
       "      <td>3.8 l/100 km (comb)</td>\n",
       "      <td>4.4 l/100 km (city)</td>\n",
       "      <td>3.4 l/100 km (country)</td>\n",
       "    </tr>\n",
       "    <tr>\n",
       "      <th>3</th>\n",
       "      <td>3.8 l/100 km (comb)</td>\n",
       "      <td>4.3 l/100 km (city)</td>\n",
       "      <td>3.5 l/100 km (country)</td>\n",
       "    </tr>\n",
       "    <tr>\n",
       "      <th>4</th>\n",
       "      <td>4.1 l/100 km (comb)</td>\n",
       "      <td>4.6 l/100 km (city)</td>\n",
       "      <td>3.8 l/100 km (country)</td>\n",
       "    </tr>\n",
       "    <tr>\n",
       "      <th>...</th>\n",
       "      <td>...</td>\n",
       "      <td>...</td>\n",
       "      <td>...</td>\n",
       "    </tr>\n",
       "    <tr>\n",
       "      <th>13611</th>\n",
       "      <td>6.8 l/100 km (comb)</td>\n",
       "      <td>8.7 l/100 km (city)</td>\n",
       "      <td>5.7 l/100 km (country)</td>\n",
       "    </tr>\n",
       "    <tr>\n",
       "      <th>13612</th>\n",
       "      <td>5.3 l/100 km (comb)</td>\n",
       "      <td>6.2 l/100 km (city)</td>\n",
       "      <td>4.7 l/100 km (country)</td>\n",
       "    </tr>\n",
       "    <tr>\n",
       "      <th>13613</th>\n",
       "      <td></td>\n",
       "      <td>7.4 l/100 km (comb)</td>\n",
       "      <td></td>\n",
       "    </tr>\n",
       "    <tr>\n",
       "      <th>13614</th>\n",
       "      <td>5.3 l/100 km (comb)</td>\n",
       "      <td>6.2 l/100 km (city)</td>\n",
       "      <td>4.7 l/100 km (country)</td>\n",
       "    </tr>\n",
       "    <tr>\n",
       "      <th>13615</th>\n",
       "      <td>5.3 l/100 km (comb)</td>\n",
       "      <td>6.2 l/100 km (city)</td>\n",
       "      <td>4.7 l/100 km (country)</td>\n",
       "    </tr>\n",
       "  </tbody>\n",
       "</table>\n",
       "<p>13616 rows × 3 columns</p>\n",
       "</div>"
      ],
      "text/plain": [
       "                         0                    1                       2\n",
       "0      3.8 l/100 km (comb)  4.3 l/100 km (city)  3.5 l/100 km (country)\n",
       "1      5.6 l/100 km (comb)  7.1 l/100 km (city)  4.7 l/100 km (country)\n",
       "2      3.8 l/100 km (comb)  4.4 l/100 km (city)  3.4 l/100 km (country)\n",
       "3      3.8 l/100 km (comb)  4.3 l/100 km (city)  3.5 l/100 km (country)\n",
       "4      4.1 l/100 km (comb)  4.6 l/100 km (city)  3.8 l/100 km (country)\n",
       "...                    ...                  ...                     ...\n",
       "13611  6.8 l/100 km (comb)  8.7 l/100 km (city)  5.7 l/100 km (country)\n",
       "13612  5.3 l/100 km (comb)  6.2 l/100 km (city)  4.7 l/100 km (country)\n",
       "13613                       7.4 l/100 km (comb)                        \n",
       "13614  5.3 l/100 km (comb)  6.2 l/100 km (city)  4.7 l/100 km (country)\n",
       "13615  5.3 l/100 km (comb)  6.2 l/100 km (city)  4.7 l/100 km (country)\n",
       "\n",
       "[13616 rows x 3 columns]"
      ]
     },
     "execution_count": 123,
     "metadata": {},
     "output_type": "execute_result"
    }
   ],
   "source": [
    "df_cons"
   ]
  },
  {
   "cell_type": "code",
   "execution_count": 124,
   "metadata": {},
   "outputs": [],
   "source": [
    "df = df2"
   ]
  },
  {
   "cell_type": "code",
   "execution_count": 125,
   "metadata": {},
   "outputs": [],
   "source": [
    "df['comb'] = df_cons[0]"
   ]
  },
  {
   "cell_type": "code",
   "execution_count": 126,
   "metadata": {},
   "outputs": [],
   "source": [
    "df['city'] = df_cons[1]"
   ]
  },
  {
   "cell_type": "code",
   "execution_count": 127,
   "metadata": {},
   "outputs": [],
   "source": [
    "df['country'] = df_cons[2]"
   ]
  },
  {
   "cell_type": "code",
   "execution_count": 128,
   "metadata": {},
   "outputs": [],
   "source": [
    "df.drop(df[df['comb'] == ''].index, inplace = True)\n",
    "df.reset_index(inplace = True, drop = True)"
   ]
  },
  {
   "cell_type": "code",
   "execution_count": 129,
   "metadata": {},
   "outputs": [],
   "source": [
    "df.drop(df[df['city'] == ''].index, inplace = True)\n",
    "df.reset_index(inplace = True, drop = True)"
   ]
  },
  {
   "cell_type": "code",
   "execution_count": 130,
   "metadata": {},
   "outputs": [],
   "source": [
    "df.drop(df[df['country'] == ''].index, inplace = True)\n",
    "df.reset_index(inplace = True, drop = True)"
   ]
  },
  {
   "cell_type": "code",
   "execution_count": 131,
   "metadata": {
    "scrolled": false
   },
   "outputs": [
    {
     "name": "stdout",
     "output_type": "stream",
     "text": [
      "<class 'pandas.core.frame.DataFrame'>\n",
      "RangeIndex: 12164 entries, 0 to 12163\n",
      "Data columns (total 24 columns):\n",
      " #   Column                 Non-Null Count  Dtype  \n",
      "---  ------                 --------------  -----  \n",
      " 0   make_model             12164 non-null  object \n",
      " 1   body_type              12164 non-null  object \n",
      " 2   price                  12164 non-null  int64  \n",
      " 3   km                     12164 non-null  int64  \n",
      " 4   registration           12164 non-null  object \n",
      " 5   hp                     12164 non-null  int64  \n",
      " 6   First Registration     11342 non-null  object \n",
      " 7   Body Color             12164 non-null  object \n",
      " 8   Upholstery             12164 non-null  object \n",
      " 9   Nr. of Doors           12164 non-null  int64  \n",
      " 10  Nr. of Seats           12164 non-null  int64  \n",
      " 11  Gearing Type           12164 non-null  object \n",
      " 12  Displacement           12164 non-null  float64\n",
      " 13  Fuel                   12164 non-null  object \n",
      " 14  Consumption            12164 non-null  object \n",
      " 15  Emission Class         12164 non-null  object \n",
      " 16  Comfort & Convenience  12164 non-null  object \n",
      " 17  Entertainment & Media  12164 non-null  object \n",
      " 18  Extras                 12164 non-null  object \n",
      " 19  Safety & Security      12164 non-null  object \n",
      " 20  Gears                  12164 non-null  int64  \n",
      " 21  comb                   12164 non-null  object \n",
      " 22  city                   12164 non-null  object \n",
      " 23  country                12164 non-null  object \n",
      "dtypes: float64(1), int64(6), object(17)\n",
      "memory usage: 2.2+ MB\n"
     ]
    }
   ],
   "source": [
    "df.info()"
   ]
  },
  {
   "cell_type": "code",
   "execution_count": 132,
   "metadata": {
    "scrolled": false
   },
   "outputs": [
    {
     "data": {
      "text/plain": [
       "array(['3.8 l/100 km (comb)', '5.6 l/100 km (comb)',\n",
       "       '4.1 l/100 km (comb)', '3.5 l/100 km (comb)',\n",
       "       '3.7 l/100 km (comb)', '4 l/100 km (comb)', '4.9 l/100 km (comb)',\n",
       "       '4.2 l/100 km (comb)', '4.5 l/100 km (comb)',\n",
       "       '4.4 l/100 km (comb)', '3 l/100 km (comb)', '3.6 l/100 km (comb)',\n",
       "       '3.4 l/100 km (comb)', '3.9 l/100 km (comb)',\n",
       "       '5.1 l/100 km (comb)', '5.2 l/100 km (comb)',\n",
       "       '4.6 l/100 km (comb)', '5.8 l/100 km (comb)',\n",
       "       '4.7 l/100 km (comb)', '5 l/100 km (comb)', '4.3 l/100 km (comb)',\n",
       "       '43 l/100 km (comb)', '4.8 l/100 km (comb)', '6 l/100 km (comb)',\n",
       "       '5.9 l/100 km (comb)', '51 l/100 km (comb)', '5.3 l/100 km (comb)',\n",
       "       '5.3 kg/100 km (comb)', '5.5 l/100 km (comb)',\n",
       "       '3.4 kg/100 km (comb)', '10 l/100 km (comb)',\n",
       "       '3.3 kg/100 km (comb)', '3.2 l/100 km (comb)',\n",
       "       '3.5 kg/100 km (comb)', '6.6 l/100 km (comb)',\n",
       "       '3.3 l/100 km (comb)', '7.1 l/100 km (comb)',\n",
       "       '5.4 kg/100 km (comb)', '40 l/100 km (comb)', '38 l/100 km (comb)',\n",
       "       '8.3 kg/100 km (comb)', '5.1 kg/100 km (comb)',\n",
       "       '5.4 l/100 km (comb)', '6.7 l/100 km (comb)',\n",
       "       '6.2 l/100 km (comb)', '7.3 l/100 km (comb)',\n",
       "       '6.4 l/100 km (comb)', '5.7 l/100 km (comb)',\n",
       "       '6.3 l/100 km (comb)', '6.1 l/100 km (comb)',\n",
       "       '6.8 l/100 km (comb)', '6.5 l/100 km (comb)',\n",
       "       '7.5 l/100 km (comb)', '7.4 l/100 km (comb)',\n",
       "       '3.1 l/100 km (comb)', '6.9 l/100 km (comb)', '7 l/100 km (comb)',\n",
       "       '7.2 l/100 km (comb)', '8 l/100 km (comb)', '8.3 l/100 km (comb)',\n",
       "       '0 l/100 km (comb)', '8.7 l/100 km (comb)', '7.9 l/100 km (comb)',\n",
       "       '7.8 l/100 km (comb)', '7.6 l/100 km (comb)'], dtype=object)"
      ]
     },
     "execution_count": 132,
     "metadata": {},
     "output_type": "execute_result"
    }
   ],
   "source": [
    "df['comb'].unique()"
   ]
  },
  {
   "cell_type": "code",
   "execution_count": 133,
   "metadata": {},
   "outputs": [],
   "source": [
    "df['cons'] = df['comb'].str.extract('(\\d\\d|\\d.\\d|\\d)')"
   ]
  },
  {
   "cell_type": "code",
   "execution_count": 134,
   "metadata": {},
   "outputs": [],
   "source": [
    "df['cons'] = pd.to_numeric(df['cons'])"
   ]
  },
  {
   "cell_type": "code",
   "execution_count": 135,
   "metadata": {
    "scrolled": true
   },
   "outputs": [
    {
     "data": {
      "text/plain": [
       "dtype('float64')"
      ]
     },
     "execution_count": 135,
     "metadata": {},
     "output_type": "execute_result"
    }
   ],
   "source": [
    "df['cons'].dtype"
   ]
  },
  {
   "cell_type": "code",
   "execution_count": 136,
   "metadata": {},
   "outputs": [
    {
     "data": {
      "text/plain": [
       "<AxesSubplot:xlabel='cons'>"
      ]
     },
     "execution_count": 136,
     "metadata": {},
     "output_type": "execute_result"
    },
    {
     "data": {
      "image/png": "[encoded data removed]",
      "text/plain": [
       "<Figure size 432x288 with 1 Axes>"
      ]
     },
     "metadata": {},
     "output_type": "display_data"
    }
   ],
   "source": [
    "sns.set(style=\"darkgrid\")\n",
    "sns.boxplot(df['cons'])"
   ]
  },
  {
   "cell_type": "code",
   "execution_count": 137,
   "metadata": {},
   "outputs": [],
   "source": [
    "q1 = df['cons'].quantile(0.25)\n",
    "q3 = df['cons'].quantile(0.75)\n",
    "iqr = q3 - q1"
   ]
  },
  {
   "cell_type": "code",
   "execution_count": 138,
   "metadata": {},
   "outputs": [],
   "source": [
    "lower_lim = q1 - 1.5 * iqr\n",
    "upper_lim = q3 + 5 * iqr"
   ]
  },
  {
   "cell_type": "code",
   "execution_count": 139,
   "metadata": {},
   "outputs": [
    {
     "data": {
      "text/plain": [
       "1.8999999999999995"
      ]
     },
     "execution_count": 139,
     "metadata": {},
     "output_type": "execute_result"
    }
   ],
   "source": [
    "lower_lim"
   ]
  },
  {
   "cell_type": "code",
   "execution_count": 140,
   "metadata": {},
   "outputs": [
    {
     "data": {
      "text/plain": [
       "12.400000000000002"
      ]
     },
     "execution_count": 140,
     "metadata": {},
     "output_type": "execute_result"
    }
   ],
   "source": [
    "upper_lim"
   ]
  },
  {
   "cell_type": "code",
   "execution_count": 141,
   "metadata": {},
   "outputs": [],
   "source": [
    "df.drop(df['cons'][(df['cons'] < lower_lim) | (df['cons'] > upper_lim)].index, inplace = True)"
   ]
  },
  {
   "cell_type": "code",
   "execution_count": 142,
   "metadata": {},
   "outputs": [],
   "source": [
    "df['cons2'] = df['country'].str.extract('(\\d\\d|\\d.\\d|\\d)')"
   ]
  },
  {
   "cell_type": "code",
   "execution_count": 143,
   "metadata": {},
   "outputs": [],
   "source": [
    "df['cons2'] = pd.to_numeric(df['cons2'])"
   ]
  },
  {
   "cell_type": "code",
   "execution_count": 144,
   "metadata": {},
   "outputs": [
    {
     "data": {
      "text/plain": [
       "<AxesSubplot:xlabel='cons2'>"
      ]
     },
     "execution_count": 144,
     "metadata": {},
     "output_type": "execute_result"
    },
    {
     "data": {
      "image/png": "[encoded data removed]",
      "text/plain": [
       "<Figure size 432x288 with 1 Axes>"
      ]
     },
     "metadata": {},
     "output_type": "display_data"
    }
   ],
   "source": [
    "sns.boxplot(df['cons2'])"
   ]
  },
  {
   "cell_type": "code",
   "execution_count": 145,
   "metadata": {},
   "outputs": [],
   "source": [
    "df.drop(df['cons2'][df['cons2'] == 0].index, inplace = True)"
   ]
  },
  {
   "cell_type": "code",
   "execution_count": 146,
   "metadata": {},
   "outputs": [],
   "source": [
    "df.reset_index(inplace = True, drop = True)"
   ]
  },
  {
   "cell_type": "code",
   "execution_count": 147,
   "metadata": {},
   "outputs": [],
   "source": [
    "df['cons3'] = df['city'].str.extract('(\\d\\d|\\d.\\d|\\d)')"
   ]
  },
  {
   "cell_type": "code",
   "execution_count": 148,
   "metadata": {},
   "outputs": [],
   "source": [
    "df['cons3'] = pd.to_numeric(df['cons3'])"
   ]
  },
  {
   "cell_type": "code",
   "execution_count": 149,
   "metadata": {
    "scrolled": false
   },
   "outputs": [
    {
     "name": "stdout",
     "output_type": "stream",
     "text": [
      "<class 'pandas.core.frame.DataFrame'>\n",
      "RangeIndex: 12143 entries, 0 to 12142\n",
      "Data columns (total 27 columns):\n",
      " #   Column                 Non-Null Count  Dtype  \n",
      "---  ------                 --------------  -----  \n",
      " 0   make_model             12143 non-null  object \n",
      " 1   body_type              12143 non-null  object \n",
      " 2   price                  12143 non-null  int64  \n",
      " 3   km                     12143 non-null  int64  \n",
      " 4   registration           12143 non-null  object \n",
      " 5   hp                     12143 non-null  int64  \n",
      " 6   First Registration     11326 non-null  object \n",
      " 7   Body Color             12143 non-null  object \n",
      " 8   Upholstery             12143 non-null  object \n",
      " 9   Nr. of Doors           12143 non-null  int64  \n",
      " 10  Nr. of Seats           12143 non-null  int64  \n",
      " 11  Gearing Type           12143 non-null  object \n",
      " 12  Displacement           12143 non-null  float64\n",
      " 13  Fuel                   12143 non-null  object \n",
      " 14  Consumption            12143 non-null  object \n",
      " 15  Emission Class         12143 non-null  object \n",
      " 16  Comfort & Convenience  12143 non-null  object \n",
      " 17  Entertainment & Media  12143 non-null  object \n",
      " 18  Extras                 12143 non-null  object \n",
      " 19  Safety & Security      12143 non-null  object \n",
      " 20  Gears                  12143 non-null  int64  \n",
      " 21  comb                   12143 non-null  object \n",
      " 22  city                   12143 non-null  object \n",
      " 23  country                12143 non-null  object \n",
      " 24  cons                   12143 non-null  float64\n",
      " 25  cons2                  12143 non-null  float64\n",
      " 26  cons3                  12143 non-null  float64\n",
      "dtypes: float64(4), int64(6), object(17)\n",
      "memory usage: 2.5+ MB\n"
     ]
    }
   ],
   "source": [
    "df.info()"
   ]
  },
  {
   "cell_type": "code",
   "execution_count": 150,
   "metadata": {
    "scrolled": false
   },
   "outputs": [
    {
     "data": {
      "text/plain": [
       "make_model                                                         Audi A1\n",
       "body_type                                                          Compact\n",
       "price                                                                21949\n",
       "km                                                                    7500\n",
       "registration                                                       05/2018\n",
       "hp                                                                      85\n",
       "First Registration                                          [\\n, 2018, \\n]\n",
       "Body Color                                                   [\\n, Red, \\n]\n",
       "Upholstery                                             Part leather, Black\n",
       "Nr. of Doors                                                             5\n",
       "Nr. of Seats                                                             5\n",
       "Gearing Type                                                     Automatic\n",
       "Displacement                                                         0.999\n",
       "Fuel                                                    Regular/Benzine 91\n",
       "Consumption              [[4.4 l/100 km (comb)], [5.4 l/100 km (city)],...\n",
       "Emission Class                                                      Euro 6\n",
       "Comfort & Convenience    [Air conditioning, Armrest, Automatic climate ...\n",
       "Entertainment & Media    [Bluetooth, CD player, Hands-free equipment, M...\n",
       "Extras                          [Alloy wheels, Sport seats, Voice Control]\n",
       "Safety & Security        [ABS, Alarm system, Central door lock, Central...\n",
       "Gears                                                                    7\n",
       "comb                                                   4.4 l/100 km (comb)\n",
       "city                                                   5.4 l/100 km (city)\n",
       "country                                             3.8 l/100 km (country)\n",
       "cons                                                                   4.4\n",
       "cons2                                                                  3.8\n",
       "cons3                                                                  5.4\n",
       "Name: 1412, dtype: object"
      ]
     },
     "execution_count": 150,
     "metadata": {},
     "output_type": "execute_result"
    }
   ],
   "source": [
    "df.loc[1412]"
   ]
  },
  {
   "cell_type": "code",
   "execution_count": 151,
   "metadata": {},
   "outputs": [],
   "source": [
    "df5 = df['comb'].str.extract('(\\d\\d|\\d.\\d|\\d|) (\\w\\w|\\w)')"
   ]
  },
  {
   "cell_type": "code",
   "execution_count": 152,
   "metadata": {},
   "outputs": [],
   "source": [
    "df['amount'] = df5[1]"
   ]
  },
  {
   "cell_type": "code",
   "execution_count": 153,
   "metadata": {
    "scrolled": false
   },
   "outputs": [
    {
     "data": {
      "text/html": [
       "<div>\n",
       "<style scoped>\n",
       "    .dataframe tbody tr th:only-of-type {\n",
       "        vertical-align: middle;\n",
       "    }\n",
       "\n",
       "    .dataframe tbody tr th {\n",
       "        vertical-align: top;\n",
       "    }\n",
       "\n",
       "    .dataframe thead th {\n",
       "        text-align: right;\n",
       "    }\n",
       "</style>\n",
       "<table border=\"1\" class=\"dataframe\">\n",
       "  <thead>\n",
       "    <tr style=\"text-align: right;\">\n",
       "      <th></th>\n",
       "      <th>0</th>\n",
       "      <th>1</th>\n",
       "    </tr>\n",
       "  </thead>\n",
       "  <tbody>\n",
       "    <tr>\n",
       "      <th>2203</th>\n",
       "      <td>5.3</td>\n",
       "      <td>kg</td>\n",
       "    </tr>\n",
       "    <tr>\n",
       "      <th>2221</th>\n",
       "      <td>3.4</td>\n",
       "      <td>kg</td>\n",
       "    </tr>\n",
       "    <tr>\n",
       "      <th>2292</th>\n",
       "      <td>3.4</td>\n",
       "      <td>kg</td>\n",
       "    </tr>\n",
       "    <tr>\n",
       "      <th>2443</th>\n",
       "      <td>3.3</td>\n",
       "      <td>kg</td>\n",
       "    </tr>\n",
       "    <tr>\n",
       "      <th>2564</th>\n",
       "      <td>3.4</td>\n",
       "      <td>kg</td>\n",
       "    </tr>\n",
       "    <tr>\n",
       "      <th>2741</th>\n",
       "      <td>3.4</td>\n",
       "      <td>kg</td>\n",
       "    </tr>\n",
       "    <tr>\n",
       "      <th>2742</th>\n",
       "      <td>3.4</td>\n",
       "      <td>kg</td>\n",
       "    </tr>\n",
       "    <tr>\n",
       "      <th>2774</th>\n",
       "      <td>3.5</td>\n",
       "      <td>kg</td>\n",
       "    </tr>\n",
       "    <tr>\n",
       "      <th>2780</th>\n",
       "      <td>3.3</td>\n",
       "      <td>kg</td>\n",
       "    </tr>\n",
       "    <tr>\n",
       "      <th>2807</th>\n",
       "      <td>3.4</td>\n",
       "      <td>kg</td>\n",
       "    </tr>\n",
       "    <tr>\n",
       "      <th>2811</th>\n",
       "      <td>3.3</td>\n",
       "      <td>kg</td>\n",
       "    </tr>\n",
       "    <tr>\n",
       "      <th>2813</th>\n",
       "      <td>3.3</td>\n",
       "      <td>kg</td>\n",
       "    </tr>\n",
       "    <tr>\n",
       "      <th>2818</th>\n",
       "      <td>3.4</td>\n",
       "      <td>kg</td>\n",
       "    </tr>\n",
       "    <tr>\n",
       "      <th>2819</th>\n",
       "      <td>3.3</td>\n",
       "      <td>kg</td>\n",
       "    </tr>\n",
       "    <tr>\n",
       "      <th>2824</th>\n",
       "      <td>3.3</td>\n",
       "      <td>kg</td>\n",
       "    </tr>\n",
       "    <tr>\n",
       "      <th>2844</th>\n",
       "      <td>3.3</td>\n",
       "      <td>kg</td>\n",
       "    </tr>\n",
       "    <tr>\n",
       "      <th>2866</th>\n",
       "      <td>3.4</td>\n",
       "      <td>kg</td>\n",
       "    </tr>\n",
       "    <tr>\n",
       "      <th>2872</th>\n",
       "      <td>3.3</td>\n",
       "      <td>kg</td>\n",
       "    </tr>\n",
       "    <tr>\n",
       "      <th>2876</th>\n",
       "      <td>3.4</td>\n",
       "      <td>kg</td>\n",
       "    </tr>\n",
       "    <tr>\n",
       "      <th>2890</th>\n",
       "      <td>3.4</td>\n",
       "      <td>kg</td>\n",
       "    </tr>\n",
       "    <tr>\n",
       "      <th>2909</th>\n",
       "      <td>3.4</td>\n",
       "      <td>kg</td>\n",
       "    </tr>\n",
       "    <tr>\n",
       "      <th>2940</th>\n",
       "      <td>3.4</td>\n",
       "      <td>kg</td>\n",
       "    </tr>\n",
       "    <tr>\n",
       "      <th>3023</th>\n",
       "      <td>5.4</td>\n",
       "      <td>kg</td>\n",
       "    </tr>\n",
       "    <tr>\n",
       "      <th>3029</th>\n",
       "      <td>3.5</td>\n",
       "      <td>kg</td>\n",
       "    </tr>\n",
       "    <tr>\n",
       "      <th>3044</th>\n",
       "      <td>3.5</td>\n",
       "      <td>kg</td>\n",
       "    </tr>\n",
       "    <tr>\n",
       "      <th>3112</th>\n",
       "      <td>3.3</td>\n",
       "      <td>kg</td>\n",
       "    </tr>\n",
       "    <tr>\n",
       "      <th>4371</th>\n",
       "      <td>8.3</td>\n",
       "      <td>kg</td>\n",
       "    </tr>\n",
       "    <tr>\n",
       "      <th>4382</th>\n",
       "      <td>5.1</td>\n",
       "      <td>kg</td>\n",
       "    </tr>\n",
       "    <tr>\n",
       "      <th>4383</th>\n",
       "      <td>5.1</td>\n",
       "      <td>kg</td>\n",
       "    </tr>\n",
       "    <tr>\n",
       "      <th>4470</th>\n",
       "      <td>5.1</td>\n",
       "      <td>kg</td>\n",
       "    </tr>\n",
       "  </tbody>\n",
       "</table>\n",
       "</div>"
      ],
      "text/plain": [
       "        0   1\n",
       "2203  5.3  kg\n",
       "2221  3.4  kg\n",
       "2292  3.4  kg\n",
       "2443  3.3  kg\n",
       "2564  3.4  kg\n",
       "2741  3.4  kg\n",
       "2742  3.4  kg\n",
       "2774  3.5  kg\n",
       "2780  3.3  kg\n",
       "2807  3.4  kg\n",
       "2811  3.3  kg\n",
       "2813  3.3  kg\n",
       "2818  3.4  kg\n",
       "2819  3.3  kg\n",
       "2824  3.3  kg\n",
       "2844  3.3  kg\n",
       "2866  3.4  kg\n",
       "2872  3.3  kg\n",
       "2876  3.4  kg\n",
       "2890  3.4  kg\n",
       "2909  3.4  kg\n",
       "2940  3.4  kg\n",
       "3023  5.4  kg\n",
       "3029  3.5  kg\n",
       "3044  3.5  kg\n",
       "3112  3.3  kg\n",
       "4371  8.3  kg\n",
       "4382  5.1  kg\n",
       "4383  5.1  kg\n",
       "4470  5.1  kg"
      ]
     },
     "execution_count": 153,
     "metadata": {},
     "output_type": "execute_result"
    }
   ],
   "source": [
    "df5[df5[1].str.contains('kg')]"
   ]
  },
  {
   "cell_type": "code",
   "execution_count": 154,
   "metadata": {},
   "outputs": [],
   "source": [
    "df['Consumption_comb(kg/100 km)'] = df['cons'][df['amount'].str.contains('kg')]"
   ]
  },
  {
   "cell_type": "code",
   "execution_count": 155,
   "metadata": {},
   "outputs": [],
   "source": [
    "df['Consumption_comb(l/100 km)'] = df['cons'][df['amount'].str.contains('l')]"
   ]
  },
  {
   "cell_type": "code",
   "execution_count": 156,
   "metadata": {},
   "outputs": [],
   "source": [
    "df['Consumption_country(kg/100 km)'] = df['cons2'][df['amount'].str.contains('kg')]"
   ]
  },
  {
   "cell_type": "code",
   "execution_count": 157,
   "metadata": {},
   "outputs": [],
   "source": [
    "df['Consumption_country(l/100 km)'] = df['cons2'][df['amount'].str.contains('l')]"
   ]
  },
  {
   "cell_type": "code",
   "execution_count": 158,
   "metadata": {},
   "outputs": [],
   "source": [
    "df['Consumption_city(kg/100 km)'] = df['cons3'][df['amount'].str.contains('kg')]"
   ]
  },
  {
   "cell_type": "code",
   "execution_count": 159,
   "metadata": {},
   "outputs": [],
   "source": [
    "df['Consumption_city(l/100 km)'] = df['cons3'][df['amount'].str.contains('l')]"
   ]
  },
  {
   "cell_type": "code",
   "execution_count": 160,
   "metadata": {},
   "outputs": [],
   "source": [
    "df.drop(['cons3', 'city', 'country', 'cons', 'comb', 'cons2'], axis = 1, inplace = True)"
   ]
  },
  {
   "cell_type": "code",
   "execution_count": 161,
   "metadata": {},
   "outputs": [
    {
     "data": {
      "text/plain": [
       "make_model                                                                  Audi A3\n",
       "body_type                                                                    Sedans\n",
       "price                                                                         15900\n",
       "km                                                                            97000\n",
       "registration                                                                01/2016\n",
       "hp                                                                               85\n",
       "First Registration                                                   [\\n, 2016, \\n]\n",
       "Body Color                                                           [\\n, Blue, \\n]\n",
       "Upholstery                                                             Cloth, Black\n",
       "Nr. of Doors                                                                      5\n",
       "Nr. of Seats                                                                      5\n",
       "Gearing Type                                                                 Manual\n",
       "Displacement                                                                  1.395\n",
       "Fuel                                                                            CNG\n",
       "Consumption                       [[3.4 kg/100 km (comb)], [4.3 kg/100 km (city)...\n",
       "Emission Class                                                               Euro 6\n",
       "Comfort & Convenience             [Air conditioning, Seat ventilation, Split rea...\n",
       "Entertainment & Media                                            [Bluetooth, Radio]\n",
       "Extras                                                [Alloy wheels, Trailer hitch]\n",
       "Safety & Security                 [ABS, Adaptive Cruise Control, Alarm system, C...\n",
       "Gears                                                                             6\n",
       "amount                                                                           kg\n",
       "Consumption_comb(kg/100 km)                                                     3.4\n",
       "Consumption_comb(l/100 km)                                                      NaN\n",
       "Consumption_country(kg/100 km)                                                  2.9\n",
       "Consumption_country(l/100 km)                                                   NaN\n",
       "Consumption_city(kg/100 km)                                                     4.3\n",
       "Consumption_city(l/100 km)                                                      NaN\n",
       "Name: 2940, dtype: object"
      ]
     },
     "execution_count": 161,
     "metadata": {},
     "output_type": "execute_result"
    }
   ],
   "source": [
    "df.loc[2940]"
   ]
  },
  {
   "cell_type": "code",
   "execution_count": 162,
   "metadata": {},
   "outputs": [
    {
     "name": "stdout",
     "output_type": "stream",
     "text": [
      "<class 'pandas.core.frame.DataFrame'>\n",
      "RangeIndex: 12143 entries, 0 to 12142\n",
      "Data columns (total 28 columns):\n",
      " #   Column                          Non-Null Count  Dtype  \n",
      "---  ------                          --------------  -----  \n",
      " 0   make_model                      12143 non-null  object \n",
      " 1   body_type                       12143 non-null  object \n",
      " 2   price                           12143 non-null  int64  \n",
      " 3   km                              12143 non-null  int64  \n",
      " 4   registration                    12143 non-null  object \n",
      " 5   hp                              12143 non-null  int64  \n",
      " 6   First Registration              11326 non-null  object \n",
      " 7   Body Color                      12143 non-null  object \n",
      " 8   Upholstery                      12143 non-null  object \n",
      " 9   Nr. of Doors                    12143 non-null  int64  \n",
      " 10  Nr. of Seats                    12143 non-null  int64  \n",
      " 11  Gearing Type                    12143 non-null  object \n",
      " 12  Displacement                    12143 non-null  float64\n",
      " 13  Fuel                            12143 non-null  object \n",
      " 14  Consumption                     12143 non-null  object \n",
      " 15  Emission Class                  12143 non-null  object \n",
      " 16  Comfort & Convenience           12143 non-null  object \n",
      " 17  Entertainment & Media           12143 non-null  object \n",
      " 18  Extras                          12143 non-null  object \n",
      " 19  Safety & Security               12143 non-null  object \n",
      " 20  Gears                           12143 non-null  int64  \n",
      " 21  amount                          12143 non-null  object \n",
      " 22  Consumption_comb(kg/100 km)     30 non-null     float64\n",
      " 23  Consumption_comb(l/100 km)      12113 non-null  float64\n",
      " 24  Consumption_country(kg/100 km)  30 non-null     float64\n",
      " 25  Consumption_country(l/100 km)   12113 non-null  float64\n",
      " 26  Consumption_city(kg/100 km)     30 non-null     float64\n",
      " 27  Consumption_city(l/100 km)      12113 non-null  float64\n",
      "dtypes: float64(7), int64(6), object(15)\n",
      "memory usage: 2.6+ MB\n"
     ]
    }
   ],
   "source": [
    "df.info()"
   ]
  },
  {
   "cell_type": "code",
   "execution_count": 163,
   "metadata": {},
   "outputs": [
    {
     "data": {
      "text/plain": [
       "Int64Index([2203, 2221, 2292, 2443, 2564, 2741, 2742, 2774, 2780, 2807, 2811,\n",
       "            2813, 2818, 2819, 2824, 2844, 2866, 2872, 2876, 2890, 2909, 2940,\n",
       "            3023, 3029, 3044, 3112, 4371, 4382, 4383, 4470],\n",
       "           dtype='int64')"
      ]
     },
     "execution_count": 163,
     "metadata": {},
     "output_type": "execute_result"
    }
   ],
   "source": [
    "df[df['amount'].str.contains('kg')].index"
   ]
  },
  {
   "cell_type": "code",
   "execution_count": 164,
   "metadata": {
    "scrolled": false
   },
   "outputs": [
    {
     "ename": "TypeError",
     "evalue": "unhashable type: 'list'",
     "output_type": "error",
     "traceback": [
      "\u001b[0;31m---------------------------------------------------------------------------\u001b[0m",
      "\u001b[0;31mTypeError\u001b[0m                                 Traceback (most recent call last)",
      "\u001b[0;32mpandas/_libs/hashtable_class_helper.pxi\u001b[0m in \u001b[0;36mpandas._libs.hashtable.PyObjectHashTable.map_locations\u001b[0;34m()\u001b[0m\n",
      "\u001b[0;31mTypeError\u001b[0m: unhashable type: 'list'"
     ]
    },
    {
     "name": "stderr",
     "output_type": "stream",
     "text": [
      "Exception ignored in: 'pandas._libs.index.IndexEngine._call_map_locations'\n",
      "Traceback (most recent call last):\n",
      "  File \"pandas/_libs/hashtable_class_helper.pxi\", line 1709, in pandas._libs.hashtable.PyObjectHashTable.map_locations\n",
      "TypeError: unhashable type: 'list'\n"
     ]
    },
    {
     "data": {
      "text/plain": [
       "[\\n, 2018, \\n]    3704\n",
       "[\\n, 2016, \\n]    3055\n",
       "[\\n, 2017, \\n]    2728\n",
       "[\\n, 2019, \\n]    1839\n",
       "NaN                817\n",
       "Name: First Registration, dtype: int64"
      ]
     },
     "execution_count": 164,
     "metadata": {},
     "output_type": "execute_result"
    }
   ],
   "source": [
    "df['First Registration'].value_counts(dropna = False)"
   ]
  },
  {
   "cell_type": "code",
   "execution_count": 165,
   "metadata": {},
   "outputs": [],
   "source": [
    "for i in range(len(df['First Registration'])):\n",
    "    if isinstance (df['First Registration'][i], list):\n",
    "        df['First Registration'][i] = (''.join(df['First Registration'][i]))\n",
    "    else:\n",
    "        df['First Registration'][i] = '2020'"
   ]
  },
  {
   "cell_type": "code",
   "execution_count": 166,
   "metadata": {},
   "outputs": [],
   "source": [
    "df['First Registration'] = df['First Registration'].str.strip()"
   ]
  },
  {
   "cell_type": "code",
   "execution_count": 167,
   "metadata": {},
   "outputs": [],
   "source": [
    "df['First Registration'] = pd.to_numeric(df['First Registration'])"
   ]
  },
  {
   "cell_type": "code",
   "execution_count": 168,
   "metadata": {
    "scrolled": true
   },
   "outputs": [
    {
     "data": {
      "text/plain": [
       "2018    3704\n",
       "2016    3055\n",
       "2017    2728\n",
       "2019    1839\n",
       "2020     817\n",
       "Name: First Registration, dtype: int64"
      ]
     },
     "execution_count": 168,
     "metadata": {},
     "output_type": "execute_result"
    }
   ],
   "source": [
    "df['First Registration'].value_counts(dropna = False)"
   ]
  },
  {
   "cell_type": "code",
   "execution_count": 169,
   "metadata": {},
   "outputs": [],
   "source": [
    "df['Age'] = 2020 - df['First Registration']"
   ]
  },
  {
   "cell_type": "code",
   "execution_count": 170,
   "metadata": {},
   "outputs": [
    {
     "data": {
      "text/plain": [
       "2    3704\n",
       "4    3055\n",
       "3    2728\n",
       "1    1839\n",
       "0     817\n",
       "Name: Age, dtype: int64"
      ]
     },
     "execution_count": 170,
     "metadata": {},
     "output_type": "execute_result"
    }
   ],
   "source": [
    "df['Age'].value_counts(dropna = False)"
   ]
  },
  {
   "cell_type": "code",
   "execution_count": 171,
   "metadata": {
    "scrolled": false
   },
   "outputs": [
    {
     "name": "stdout",
     "output_type": "stream",
     "text": [
      "<class 'pandas.core.frame.DataFrame'>\n",
      "RangeIndex: 12143 entries, 0 to 12142\n",
      "Data columns (total 29 columns):\n",
      " #   Column                          Non-Null Count  Dtype  \n",
      "---  ------                          --------------  -----  \n",
      " 0   make_model                      12143 non-null  object \n",
      " 1   body_type                       12143 non-null  object \n",
      " 2   price                           12143 non-null  int64  \n",
      " 3   km                              12143 non-null  int64  \n",
      " 4   registration                    12143 non-null  object \n",
      " 5   hp                              12143 non-null  int64  \n",
      " 6   First Registration              12143 non-null  int64  \n",
      " 7   Body Color                      12143 non-null  object \n",
      " 8   Upholstery                      12143 non-null  object \n",
      " 9   Nr. of Doors                    12143 non-null  int64  \n",
      " 10  Nr. of Seats                    12143 non-null  int64  \n",
      " 11  Gearing Type                    12143 non-null  object \n",
      " 12  Displacement                    12143 non-null  float64\n",
      " 13  Fuel                            12143 non-null  object \n",
      " 14  Consumption                     12143 non-null  object \n",
      " 15  Emission Class                  12143 non-null  object \n",
      " 16  Comfort & Convenience           12143 non-null  object \n",
      " 17  Entertainment & Media           12143 non-null  object \n",
      " 18  Extras                          12143 non-null  object \n",
      " 19  Safety & Security               12143 non-null  object \n",
      " 20  Gears                           12143 non-null  int64  \n",
      " 21  amount                          12143 non-null  object \n",
      " 22  Consumption_comb(kg/100 km)     30 non-null     float64\n",
      " 23  Consumption_comb(l/100 km)      12113 non-null  float64\n",
      " 24  Consumption_country(kg/100 km)  30 non-null     float64\n",
      " 25  Consumption_country(l/100 km)   12113 non-null  float64\n",
      " 26  Consumption_city(kg/100 km)     30 non-null     float64\n",
      " 27  Consumption_city(l/100 km)      12113 non-null  float64\n",
      " 28  Age                             12143 non-null  int64  \n",
      "dtypes: float64(7), int64(8), object(14)\n",
      "memory usage: 2.7+ MB\n"
     ]
    }
   ],
   "source": [
    "df.info()"
   ]
  },
  {
   "cell_type": "code",
   "execution_count": 172,
   "metadata": {},
   "outputs": [
    {
     "data": {
      "text/plain": [
       "17"
      ]
     },
     "execution_count": 172,
     "metadata": {},
     "output_type": "execute_result"
    }
   ],
   "source": [
    "df['km'][df['Age'] == 0][df['km'] > 250].count()"
   ]
  },
  {
   "cell_type": "code",
   "execution_count": 173,
   "metadata": {
    "scrolled": true
   },
   "outputs": [
    {
     "data": {
      "text/plain": [
       "2"
      ]
     },
     "execution_count": 173,
     "metadata": {},
     "output_type": "execute_result"
    }
   ],
   "source": [
    "df['km'][df['Age'] == 1][df['km'] > 50000].count()"
   ]
  },
  {
   "cell_type": "code",
   "execution_count": 174,
   "metadata": {},
   "outputs": [
    {
     "data": {
      "text/plain": [
       "37"
      ]
     },
     "execution_count": 174,
     "metadata": {},
     "output_type": "execute_result"
    }
   ],
   "source": [
    "df['km'][df['Age'] == 2][df['km'] < 10].count()"
   ]
  },
  {
   "cell_type": "code",
   "execution_count": 175,
   "metadata": {
    "scrolled": true
   },
   "outputs": [],
   "source": [
    "df.drop(df['km'][df['Age'] == 0][df['km'] > 250].index, inplace = True)\n",
    "df.drop(df['km'][df['Age'] == 1][df['km'] > 50000].index, inplace = True)\n",
    "df.drop(df['km'][df['Age'] == 2][df['km'] < 10].index, inplace = True)\n",
    "df.reset_index(inplace = True, drop = True)"
   ]
  },
  {
   "cell_type": "code",
   "execution_count": 176,
   "metadata": {},
   "outputs": [],
   "source": [
    "df.drop(['registration', 'First Registration'], axis = 1, inplace = True)"
   ]
  },
  {
   "cell_type": "code",
   "execution_count": 177,
   "metadata": {},
   "outputs": [],
   "source": [
    "df.drop(['Consumption', 'amount'], axis = 1, inplace = True)"
   ]
  },
  {
   "cell_type": "code",
   "execution_count": 178,
   "metadata": {},
   "outputs": [
    {
     "name": "stdout",
     "output_type": "stream",
     "text": [
      "<class 'pandas.core.frame.DataFrame'>\n",
      "RangeIndex: 12087 entries, 0 to 12086\n",
      "Data columns (total 25 columns):\n",
      " #   Column                          Non-Null Count  Dtype  \n",
      "---  ------                          --------------  -----  \n",
      " 0   make_model                      12087 non-null  object \n",
      " 1   body_type                       12087 non-null  object \n",
      " 2   price                           12087 non-null  int64  \n",
      " 3   km                              12087 non-null  int64  \n",
      " 4   hp                              12087 non-null  int64  \n",
      " 5   Body Color                      12087 non-null  object \n",
      " 6   Upholstery                      12087 non-null  object \n",
      " 7   Nr. of Doors                    12087 non-null  int64  \n",
      " 8   Nr. of Seats                    12087 non-null  int64  \n",
      " 9   Gearing Type                    12087 non-null  object \n",
      " 10  Displacement                    12087 non-null  float64\n",
      " 11  Fuel                            12087 non-null  object \n",
      " 12  Emission Class                  12087 non-null  object \n",
      " 13  Comfort & Convenience           12087 non-null  object \n",
      " 14  Entertainment & Media           12087 non-null  object \n",
      " 15  Extras                          12087 non-null  object \n",
      " 16  Safety & Security               12087 non-null  object \n",
      " 17  Gears                           12087 non-null  int64  \n",
      " 18  Consumption_comb(kg/100 km)     30 non-null     float64\n",
      " 19  Consumption_comb(l/100 km)      12057 non-null  float64\n",
      " 20  Consumption_country(kg/100 km)  30 non-null     float64\n",
      " 21  Consumption_country(l/100 km)   12057 non-null  float64\n",
      " 22  Consumption_city(kg/100 km)     30 non-null     float64\n",
      " 23  Consumption_city(l/100 km)      12057 non-null  float64\n",
      " 24  Age                             12087 non-null  int64  \n",
      "dtypes: float64(7), int64(7), object(11)\n",
      "memory usage: 2.3+ MB\n"
     ]
    }
   ],
   "source": [
    "df.info()"
   ]
  },
  {
   "cell_type": "code",
   "execution_count": 179,
   "metadata": {},
   "outputs": [],
   "source": [
    "df.fillna(value = 0, inplace = True)"
   ]
  },
  {
   "cell_type": "code",
   "execution_count": 180,
   "metadata": {
    "scrolled": false
   },
   "outputs": [
    {
     "name": "stdout",
     "output_type": "stream",
     "text": [
      "<class 'pandas.core.frame.DataFrame'>\n",
      "RangeIndex: 12087 entries, 0 to 12086\n",
      "Data columns (total 25 columns):\n",
      " #   Column                          Non-Null Count  Dtype  \n",
      "---  ------                          --------------  -----  \n",
      " 0   make_model                      12087 non-null  object \n",
      " 1   body_type                       12087 non-null  object \n",
      " 2   price                           12087 non-null  int64  \n",
      " 3   km                              12087 non-null  int64  \n",
      " 4   hp                              12087 non-null  int64  \n",
      " 5   Body Color                      12087 non-null  object \n",
      " 6   Upholstery                      12087 non-null  object \n",
      " 7   Nr. of Doors                    12087 non-null  int64  \n",
      " 8   Nr. of Seats                    12087 non-null  int64  \n",
      " 9   Gearing Type                    12087 non-null  object \n",
      " 10  Displacement                    12087 non-null  float64\n",
      " 11  Fuel                            12087 non-null  object \n",
      " 12  Emission Class                  12087 non-null  object \n",
      " 13  Comfort & Convenience           12087 non-null  object \n",
      " 14  Entertainment & Media           12087 non-null  object \n",
      " 15  Extras                          12087 non-null  object \n",
      " 16  Safety & Security               12087 non-null  object \n",
      " 17  Gears                           12087 non-null  int64  \n",
      " 18  Consumption_comb(kg/100 km)     12087 non-null  float64\n",
      " 19  Consumption_comb(l/100 km)      12087 non-null  float64\n",
      " 20  Consumption_country(kg/100 km)  12087 non-null  float64\n",
      " 21  Consumption_country(l/100 km)   12087 non-null  float64\n",
      " 22  Consumption_city(kg/100 km)     12087 non-null  float64\n",
      " 23  Consumption_city(l/100 km)      12087 non-null  float64\n",
      " 24  Age                             12087 non-null  int64  \n",
      "dtypes: float64(7), int64(7), object(11)\n",
      "memory usage: 2.3+ MB\n"
     ]
    }
   ],
   "source": [
    "df.info()"
   ]
  },
  {
   "cell_type": "code",
   "execution_count": 181,
   "metadata": {},
   "outputs": [
    {
     "data": {
      "text/plain": [
       "12087"
      ]
     },
     "execution_count": 181,
     "metadata": {},
     "output_type": "execute_result"
    }
   ],
   "source": [
    "df['Upholstery'].value_counts(dropna = False).sum()"
   ]
  },
  {
   "cell_type": "code",
   "execution_count": 182,
   "metadata": {},
   "outputs": [],
   "source": [
    "df['Upholstery'][df['Upholstery'].str.contains('leather')] = 'Leather'"
   ]
  },
  {
   "cell_type": "code",
   "execution_count": 183,
   "metadata": {},
   "outputs": [],
   "source": [
    "df['Upholstery'][df['Upholstery'].str.contains('Cloth')] = 'Cloth'"
   ]
  },
  {
   "cell_type": "code",
   "execution_count": 184,
   "metadata": {},
   "outputs": [],
   "source": [
    "df['Upholstery'][df['Upholstery'].str.contains('alcantara')] = 'Alcantara'"
   ]
  },
  {
   "cell_type": "code",
   "execution_count": 185,
   "metadata": {},
   "outputs": [
    {
     "data": {
      "text/plain": [
       "True     8919\n",
       "False    3168\n",
       "Name: Upholstery, dtype: int64"
      ]
     },
     "execution_count": 185,
     "metadata": {},
     "output_type": "execute_result"
    }
   ],
   "source": [
    "df['Upholstery'].str.contains('Cloth').value_counts(dropna = False)"
   ]
  },
  {
   "cell_type": "code",
   "execution_count": 186,
   "metadata": {},
   "outputs": [
    {
     "data": {
      "text/plain": [
       "False    12038\n",
       "True        49\n",
       "Name: Upholstery, dtype: int64"
      ]
     },
     "execution_count": 186,
     "metadata": {},
     "output_type": "execute_result"
    }
   ],
   "source": [
    "df['Upholstery'].str.contains('Alcantara').value_counts(dropna = False)"
   ]
  },
  {
   "cell_type": "code",
   "execution_count": 187,
   "metadata": {
    "scrolled": false
   },
   "outputs": [
    {
     "data": {
      "text/plain": [
       "Cloth            8919\n",
       "Leather          2241\n",
       "Black             407\n",
       "Other, Other      169\n",
       "Grey              119\n",
       "Other, Black       99\n",
       "Alcantara          49\n",
       "Other              38\n",
       "Other, Grey        14\n",
       "Velour, Black      11\n",
       "Brown              11\n",
       "Other, Yellow       4\n",
       "Beige               3\n",
       "White               2\n",
       "Other, Brown        1\n",
       "Name: Upholstery, dtype: int64"
      ]
     },
     "execution_count": 187,
     "metadata": {},
     "output_type": "execute_result"
    }
   ],
   "source": [
    "df['Upholstery'].value_counts(dropna = False)"
   ]
  },
  {
   "cell_type": "code",
   "execution_count": 188,
   "metadata": {},
   "outputs": [],
   "source": [
    "df['Upholstery'][~(df['Upholstery'].str.contains('Leather') | df['Upholstery'].str.contains('Cloth') | df['Upholstery'].str.contains('Alcantara'))] = np.nan"
   ]
  },
  {
   "cell_type": "code",
   "execution_count": 189,
   "metadata": {
    "scrolled": true
   },
   "outputs": [
    {
     "data": {
      "text/plain": [
       "Cloth        8919\n",
       "Leather      2241\n",
       "NaN           878\n",
       "Alcantara      49\n",
       "Name: Upholstery, dtype: int64"
      ]
     },
     "execution_count": 189,
     "metadata": {},
     "output_type": "execute_result"
    }
   ],
   "source": [
    "df['Upholstery'].value_counts(dropna = False)"
   ]
  },
  {
   "cell_type": "code",
   "execution_count": 190,
   "metadata": {},
   "outputs": [],
   "source": [
    "df['Upholstery'].fillna(method = 'bfill', inplace = True)"
   ]
  },
  {
   "cell_type": "code",
   "execution_count": 191,
   "metadata": {
    "scrolled": true
   },
   "outputs": [
    {
     "data": {
      "text/html": [
       "<div>\n",
       "<style scoped>\n",
       "    .dataframe tbody tr th:only-of-type {\n",
       "        vertical-align: middle;\n",
       "    }\n",
       "\n",
       "    .dataframe tbody tr th {\n",
       "        vertical-align: top;\n",
       "    }\n",
       "\n",
       "    .dataframe thead th {\n",
       "        text-align: right;\n",
       "    }\n",
       "</style>\n",
       "<table border=\"1\" class=\"dataframe\">\n",
       "  <thead>\n",
       "    <tr style=\"text-align: right;\">\n",
       "      <th></th>\n",
       "      <th>make_model</th>\n",
       "      <th>body_type</th>\n",
       "      <th>price</th>\n",
       "      <th>km</th>\n",
       "      <th>hp</th>\n",
       "      <th>Body Color</th>\n",
       "      <th>Upholstery</th>\n",
       "      <th>Nr. of Doors</th>\n",
       "      <th>Nr. of Seats</th>\n",
       "      <th>Gearing Type</th>\n",
       "      <th>...</th>\n",
       "      <th>Extras</th>\n",
       "      <th>Safety &amp; Security</th>\n",
       "      <th>Gears</th>\n",
       "      <th>Consumption_comb(kg/100 km)</th>\n",
       "      <th>Consumption_comb(l/100 km)</th>\n",
       "      <th>Consumption_country(kg/100 km)</th>\n",
       "      <th>Consumption_country(l/100 km)</th>\n",
       "      <th>Consumption_city(kg/100 km)</th>\n",
       "      <th>Consumption_city(l/100 km)</th>\n",
       "      <th>Age</th>\n",
       "    </tr>\n",
       "  </thead>\n",
       "  <tbody>\n",
       "    <tr>\n",
       "      <th>0</th>\n",
       "      <td>Audi A1</td>\n",
       "      <td>Sedans</td>\n",
       "      <td>15770</td>\n",
       "      <td>56013</td>\n",
       "      <td>85</td>\n",
       "      <td>[\\n, Black, \\n]</td>\n",
       "      <td>Cloth</td>\n",
       "      <td>5</td>\n",
       "      <td>5</td>\n",
       "      <td>Automatic</td>\n",
       "      <td>...</td>\n",
       "      <td>[Alloy wheels, Catalytic Converter, Voice Cont...</td>\n",
       "      <td>[ABS, Central door lock, Daytime running light...</td>\n",
       "      <td>7</td>\n",
       "      <td>0.0</td>\n",
       "      <td>3.8</td>\n",
       "      <td>0.0</td>\n",
       "      <td>3.5</td>\n",
       "      <td>0.0</td>\n",
       "      <td>4.3</td>\n",
       "      <td>4</td>\n",
       "    </tr>\n",
       "    <tr>\n",
       "      <th>1</th>\n",
       "      <td>Audi A1</td>\n",
       "      <td>Sedans</td>\n",
       "      <td>14500</td>\n",
       "      <td>80000</td>\n",
       "      <td>85</td>\n",
       "      <td>[\\n, Red, \\n]</td>\n",
       "      <td>Cloth</td>\n",
       "      <td>3</td>\n",
       "      <td>4</td>\n",
       "      <td>Automatic</td>\n",
       "      <td>...</td>\n",
       "      <td>[Alloy wheels, Sport seats, Sport suspension, ...</td>\n",
       "      <td>[ABS, Central door lock, Central door lock wit...</td>\n",
       "      <td>7</td>\n",
       "      <td>0.0</td>\n",
       "      <td>5.6</td>\n",
       "      <td>0.0</td>\n",
       "      <td>4.7</td>\n",
       "      <td>0.0</td>\n",
       "      <td>7.1</td>\n",
       "      <td>3</td>\n",
       "    </tr>\n",
       "  </tbody>\n",
       "</table>\n",
       "<p>2 rows × 25 columns</p>\n",
       "</div>"
      ],
      "text/plain": [
       "  make_model body_type  price     km  hp       Body Color Upholstery  \\\n",
       "0    Audi A1    Sedans  15770  56013  85  [\\n, Black, \\n]      Cloth   \n",
       "1    Audi A1    Sedans  14500  80000  85    [\\n, Red, \\n]      Cloth   \n",
       "\n",
       "   Nr. of Doors  Nr. of Seats Gearing Type  ...  \\\n",
       "0             5             5    Automatic  ...   \n",
       "1             3             4    Automatic  ...   \n",
       "\n",
       "                                              Extras  \\\n",
       "0  [Alloy wheels, Catalytic Converter, Voice Cont...   \n",
       "1  [Alloy wheels, Sport seats, Sport suspension, ...   \n",
       "\n",
       "                                   Safety & Security Gears  \\\n",
       "0  [ABS, Central door lock, Daytime running light...     7   \n",
       "1  [ABS, Central door lock, Central door lock wit...     7   \n",
       "\n",
       "  Consumption_comb(kg/100 km) Consumption_comb(l/100 km)  \\\n",
       "0                         0.0                        3.8   \n",
       "1                         0.0                        5.6   \n",
       "\n",
       "  Consumption_country(kg/100 km) Consumption_country(l/100 km)  \\\n",
       "0                            0.0                           3.5   \n",
       "1                            0.0                           4.7   \n",
       "\n",
       "   Consumption_city(kg/100 km)  Consumption_city(l/100 km)  Age  \n",
       "0                          0.0                         4.3    4  \n",
       "1                          0.0                         7.1    3  \n",
       "\n",
       "[2 rows x 25 columns]"
      ]
     },
     "execution_count": 191,
     "metadata": {},
     "output_type": "execute_result"
    }
   ],
   "source": [
    "df.head(2)"
   ]
  },
  {
   "cell_type": "code",
   "execution_count": 192,
   "metadata": {},
   "outputs": [],
   "source": [
    "df['Body Color'] = df['Body Color'].apply(''.join).str.strip()"
   ]
  },
  {
   "cell_type": "code",
   "execution_count": 193,
   "metadata": {},
   "outputs": [],
   "source": [
    "df['Comfort & Convenience'] = df['Comfort & Convenience'].apply(','.join).str.strip()"
   ]
  },
  {
   "cell_type": "code",
   "execution_count": 194,
   "metadata": {},
   "outputs": [],
   "source": [
    "df['Entertainment & Media'] = df['Entertainment & Media'].apply(','.join).str.strip()"
   ]
  },
  {
   "cell_type": "code",
   "execution_count": 195,
   "metadata": {},
   "outputs": [],
   "source": [
    "df['Extras'] = df['Extras'].apply(','.join).str.strip()"
   ]
  },
  {
   "cell_type": "code",
   "execution_count": 196,
   "metadata": {},
   "outputs": [],
   "source": [
    "df['Safety & Security'] = df['Safety & Security'].apply(','.join).str.strip()"
   ]
  },
  {
   "cell_type": "code",
   "execution_count": 197,
   "metadata": {},
   "outputs": [
    {
     "name": "stdout",
     "output_type": "stream",
     "text": [
      "<class 'pandas.core.frame.DataFrame'>\n",
      "RangeIndex: 12087 entries, 0 to 12086\n",
      "Data columns (total 25 columns):\n",
      " #   Column                          Non-Null Count  Dtype  \n",
      "---  ------                          --------------  -----  \n",
      " 0   make_model                      12087 non-null  object \n",
      " 1   body_type                       12087 non-null  object \n",
      " 2   price                           12087 non-null  int64  \n",
      " 3   km                              12087 non-null  int64  \n",
      " 4   hp                              12087 non-null  int64  \n",
      " 5   Body Color                      12087 non-null  object \n",
      " 6   Upholstery                      12087 non-null  object \n",
      " 7   Nr. of Doors                    12087 non-null  int64  \n",
      " 8   Nr. of Seats                    12087 non-null  int64  \n",
      " 9   Gearing Type                    12087 non-null  object \n",
      " 10  Displacement                    12087 non-null  float64\n",
      " 11  Fuel                            12087 non-null  object \n",
      " 12  Emission Class                  12087 non-null  object \n",
      " 13  Comfort & Convenience           12087 non-null  object \n",
      " 14  Entertainment & Media           12087 non-null  object \n",
      " 15  Extras                          12087 non-null  object \n",
      " 16  Safety & Security               12087 non-null  object \n",
      " 17  Gears                           12087 non-null  int64  \n",
      " 18  Consumption_comb(kg/100 km)     12087 non-null  float64\n",
      " 19  Consumption_comb(l/100 km)      12087 non-null  float64\n",
      " 20  Consumption_country(kg/100 km)  12087 non-null  float64\n",
      " 21  Consumption_country(l/100 km)   12087 non-null  float64\n",
      " 22  Consumption_city(kg/100 km)     12087 non-null  float64\n",
      " 23  Consumption_city(l/100 km)      12087 non-null  float64\n",
      " 24  Age                             12087 non-null  int64  \n",
      "dtypes: float64(7), int64(7), object(11)\n",
      "memory usage: 2.3+ MB\n"
     ]
    }
   ],
   "source": [
    "df.info()"
   ]
  },
  {
   "cell_type": "code",
   "execution_count": 198,
   "metadata": {
    "scrolled": false
   },
   "outputs": [
    {
     "data": {
      "text/html": [
       "<div>\n",
       "<style scoped>\n",
       "    .dataframe tbody tr th:only-of-type {\n",
       "        vertical-align: middle;\n",
       "    }\n",
       "\n",
       "    .dataframe tbody tr th {\n",
       "        vertical-align: top;\n",
       "    }\n",
       "\n",
       "    .dataframe thead th {\n",
       "        text-align: right;\n",
       "    }\n",
       "</style>\n",
       "<table border=\"1\" class=\"dataframe\">\n",
       "  <thead>\n",
       "    <tr style=\"text-align: right;\">\n",
       "      <th></th>\n",
       "      <th>make_model</th>\n",
       "      <th>body_type</th>\n",
       "      <th>price</th>\n",
       "      <th>km</th>\n",
       "      <th>hp</th>\n",
       "      <th>Body Color</th>\n",
       "      <th>Upholstery</th>\n",
       "      <th>Nr. of Doors</th>\n",
       "      <th>Nr. of Seats</th>\n",
       "      <th>Gearing Type</th>\n",
       "      <th>...</th>\n",
       "      <th>Extras</th>\n",
       "      <th>Safety &amp; Security</th>\n",
       "      <th>Gears</th>\n",
       "      <th>Consumption_comb(kg/100 km)</th>\n",
       "      <th>Consumption_comb(l/100 km)</th>\n",
       "      <th>Consumption_country(kg/100 km)</th>\n",
       "      <th>Consumption_country(l/100 km)</th>\n",
       "      <th>Consumption_city(kg/100 km)</th>\n",
       "      <th>Consumption_city(l/100 km)</th>\n",
       "      <th>Age</th>\n",
       "    </tr>\n",
       "  </thead>\n",
       "  <tbody>\n",
       "    <tr>\n",
       "      <th>0</th>\n",
       "      <td>Audi A1</td>\n",
       "      <td>Sedans</td>\n",
       "      <td>15770</td>\n",
       "      <td>56013</td>\n",
       "      <td>85</td>\n",
       "      <td>Black</td>\n",
       "      <td>Cloth</td>\n",
       "      <td>5</td>\n",
       "      <td>5</td>\n",
       "      <td>Automatic</td>\n",
       "      <td>...</td>\n",
       "      <td>Alloy wheels,Catalytic Converter,Voice Control</td>\n",
       "      <td>ABS,Central door lock,Daytime running lights,D...</td>\n",
       "      <td>7</td>\n",
       "      <td>0.0</td>\n",
       "      <td>3.8</td>\n",
       "      <td>0.0</td>\n",
       "      <td>3.5</td>\n",
       "      <td>0.0</td>\n",
       "      <td>4.3</td>\n",
       "      <td>4</td>\n",
       "    </tr>\n",
       "    <tr>\n",
       "      <th>1</th>\n",
       "      <td>Audi A1</td>\n",
       "      <td>Sedans</td>\n",
       "      <td>14500</td>\n",
       "      <td>80000</td>\n",
       "      <td>85</td>\n",
       "      <td>Red</td>\n",
       "      <td>Cloth</td>\n",
       "      <td>3</td>\n",
       "      <td>4</td>\n",
       "      <td>Automatic</td>\n",
       "      <td>...</td>\n",
       "      <td>Alloy wheels,Sport seats,Sport suspension,Voic...</td>\n",
       "      <td>ABS,Central door lock,Central door lock with r...</td>\n",
       "      <td>7</td>\n",
       "      <td>0.0</td>\n",
       "      <td>5.6</td>\n",
       "      <td>0.0</td>\n",
       "      <td>4.7</td>\n",
       "      <td>0.0</td>\n",
       "      <td>7.1</td>\n",
       "      <td>3</td>\n",
       "    </tr>\n",
       "  </tbody>\n",
       "</table>\n",
       "<p>2 rows × 25 columns</p>\n",
       "</div>"
      ],
      "text/plain": [
       "  make_model body_type  price     km  hp Body Color Upholstery  Nr. of Doors  \\\n",
       "0    Audi A1    Sedans  15770  56013  85      Black      Cloth             5   \n",
       "1    Audi A1    Sedans  14500  80000  85        Red      Cloth             3   \n",
       "\n",
       "   Nr. of Seats Gearing Type  ...  \\\n",
       "0             5    Automatic  ...   \n",
       "1             4    Automatic  ...   \n",
       "\n",
       "                                              Extras  \\\n",
       "0     Alloy wheels,Catalytic Converter,Voice Control   \n",
       "1  Alloy wheels,Sport seats,Sport suspension,Voic...   \n",
       "\n",
       "                                   Safety & Security Gears  \\\n",
       "0  ABS,Central door lock,Daytime running lights,D...     7   \n",
       "1  ABS,Central door lock,Central door lock with r...     7   \n",
       "\n",
       "  Consumption_comb(kg/100 km) Consumption_comb(l/100 km)  \\\n",
       "0                         0.0                        3.8   \n",
       "1                         0.0                        5.6   \n",
       "\n",
       "  Consumption_country(kg/100 km) Consumption_country(l/100 km)  \\\n",
       "0                            0.0                           3.5   \n",
       "1                            0.0                           4.7   \n",
       "\n",
       "   Consumption_city(kg/100 km)  Consumption_city(l/100 km)  Age  \n",
       "0                          0.0                         4.3    4  \n",
       "1                          0.0                         7.1    3  \n",
       "\n",
       "[2 rows x 25 columns]"
      ]
     },
     "execution_count": 198,
     "metadata": {},
     "output_type": "execute_result"
    }
   ],
   "source": [
    "df.head(2)"
   ]
  },
  {
   "cell_type": "code",
   "execution_count": 199,
   "metadata": {},
   "outputs": [],
   "source": [
    "make_model = df['make_model'].str.get_dummies(',')"
   ]
  },
  {
   "cell_type": "code",
   "execution_count": 200,
   "metadata": {},
   "outputs": [],
   "source": [
    "body_type = df['body_type'].str.get_dummies(' ')"
   ]
  },
  {
   "cell_type": "code",
   "execution_count": 201,
   "metadata": {},
   "outputs": [],
   "source": [
    "body_color = df['Body Color'].str.get_dummies(' ')"
   ]
  },
  {
   "cell_type": "code",
   "execution_count": 202,
   "metadata": {},
   "outputs": [],
   "source": [
    "upholstery = df['Upholstery'].str.get_dummies(' ')"
   ]
  },
  {
   "cell_type": "code",
   "execution_count": 203,
   "metadata": {},
   "outputs": [],
   "source": [
    "gearing_type = df['Gearing Type'].str.get_dummies(' ')"
   ]
  },
  {
   "cell_type": "code",
   "execution_count": 204,
   "metadata": {},
   "outputs": [],
   "source": [
    "fuel = df['Fuel'].str.get_dummies(',')"
   ]
  },
  {
   "cell_type": "code",
   "execution_count": 205,
   "metadata": {},
   "outputs": [],
   "source": [
    "emission_class = df['Emission Class'].str.get_dummies(',')"
   ]
  },
  {
   "cell_type": "code",
   "execution_count": 206,
   "metadata": {},
   "outputs": [],
   "source": [
    "comfort = df['Comfort & Convenience'].str.get_dummies(',')"
   ]
  },
  {
   "cell_type": "code",
   "execution_count": 208,
   "metadata": {},
   "outputs": [],
   "source": [
    "media = df['Entertainment & Media'].str.get_dummies(',') "
   ]
  },
  {
   "cell_type": "code",
   "execution_count": 209,
   "metadata": {},
   "outputs": [],
   "source": [
    "safety = df['Safety & Security'].str.get_dummies(',')"
   ]
  },
  {
   "cell_type": "code",
   "execution_count": 210,
   "metadata": {},
   "outputs": [],
   "source": [
    "extra = df['Extras'].str.get_dummies(',')"
   ]
  },
  {
   "cell_type": "code",
   "execution_count": 232,
   "metadata": {},
   "outputs": [],
   "source": [
    "df1 = make_model.join(body_type)"
   ]
  },
  {
   "cell_type": "code",
   "execution_count": 233,
   "metadata": {
    "scrolled": false
   },
   "outputs": [],
   "source": [
    "df1 = df1.join(body_color)"
   ]
  },
  {
   "cell_type": "code",
   "execution_count": 234,
   "metadata": {},
   "outputs": [],
   "source": [
    "df1 = df1.join(upholstery)"
   ]
  },
  {
   "cell_type": "code",
   "execution_count": 235,
   "metadata": {},
   "outputs": [],
   "source": [
    "df1 = df1.join(df['price'])"
   ]
  },
  {
   "cell_type": "code",
   "execution_count": 236,
   "metadata": {
    "scrolled": true
   },
   "outputs": [],
   "source": [
    "df1 = df1.join(df['km'])"
   ]
  },
  {
   "cell_type": "code",
   "execution_count": 237,
   "metadata": {},
   "outputs": [],
   "source": [
    "df1 = df1.join(df['hp'])"
   ]
  },
  {
   "cell_type": "code",
   "execution_count": 238,
   "metadata": {},
   "outputs": [],
   "source": [
    "df1 = df1.join(df['Nr. of Doors'])"
   ]
  },
  {
   "cell_type": "code",
   "execution_count": 239,
   "metadata": {},
   "outputs": [],
   "source": [
    "df1 = df1.join(df['Nr. of Seats'])"
   ]
  },
  {
   "cell_type": "code",
   "execution_count": 240,
   "metadata": {},
   "outputs": [],
   "source": [
    "df1 = df1.join(df['Displacement'])"
   ]
  },
  {
   "cell_type": "code",
   "execution_count": 241,
   "metadata": {},
   "outputs": [],
   "source": [
    "df1 = df1.join(df['Gears'])"
   ]
  },
  {
   "cell_type": "code",
   "execution_count": 242,
   "metadata": {},
   "outputs": [],
   "source": [
    "df1 = df1.join(df['Age'])"
   ]
  },
  {
   "cell_type": "code",
   "execution_count": 243,
   "metadata": {},
   "outputs": [],
   "source": [
    "df1 = df1.join(df['Consumption_comb(kg/100 km)'])"
   ]
  },
  {
   "cell_type": "code",
   "execution_count": 244,
   "metadata": {},
   "outputs": [],
   "source": [
    "df1 = df1.join(df['Consumption_comb(l/100 km)'])"
   ]
  },
  {
   "cell_type": "code",
   "execution_count": 245,
   "metadata": {},
   "outputs": [],
   "source": [
    "df1 = df1.join(df['Consumption_country(kg/100 km)'])"
   ]
  },
  {
   "cell_type": "code",
   "execution_count": 246,
   "metadata": {},
   "outputs": [],
   "source": [
    "df1 = df1.join(df['Consumption_country(l/100 km)'])"
   ]
  },
  {
   "cell_type": "code",
   "execution_count": 247,
   "metadata": {},
   "outputs": [],
   "source": [
    "df1 = df1.join(df['Consumption_city(kg/100 km)'])"
   ]
  },
  {
   "cell_type": "code",
   "execution_count": 248,
   "metadata": {},
   "outputs": [],
   "source": [
    "df1 = df1.join(df['Consumption_city(l/100 km)'])"
   ]
  },
  {
   "cell_type": "code",
   "execution_count": 249,
   "metadata": {},
   "outputs": [],
   "source": [
    "df1 = df1.join(gearing_type)"
   ]
  },
  {
   "cell_type": "code",
   "execution_count": 250,
   "metadata": {},
   "outputs": [],
   "source": [
    "df1 = df1.join(fuel)"
   ]
  },
  {
   "cell_type": "code",
   "execution_count": 251,
   "metadata": {},
   "outputs": [],
   "source": [
    "df1 = df1.join(emission_class)"
   ]
  },
  {
   "cell_type": "code",
   "execution_count": 252,
   "metadata": {},
   "outputs": [],
   "source": [
    "df1 = df1.join(comfort)"
   ]
  },
  {
   "cell_type": "code",
   "execution_count": 253,
   "metadata": {},
   "outputs": [],
   "source": [
    "df1 = df1.join(media)"
   ]
  },
  {
   "cell_type": "code",
   "execution_count": 254,
   "metadata": {},
   "outputs": [],
   "source": [
    "df1 = df1.join(safety)"
   ]
  },
  {
   "cell_type": "code",
   "execution_count": 255,
   "metadata": {},
   "outputs": [],
   "source": [
    "df1 = df1.join(extra)"
   ]
  },
  {
   "cell_type": "code",
   "execution_count": 256,
   "metadata": {
    "scrolled": true
   },
   "outputs": [
    {
     "name": "stdout",
     "output_type": "stream",
     "text": [
      "<class 'pandas.core.frame.DataFrame'>\n",
      "RangeIndex: 12087 entries, 0 to 12086\n",
      "Columns: 177 entries, Audi A1 to Winter tyres\n",
      "dtypes: float64(7), int64(170)\n",
      "memory usage: 16.3 MB\n"
     ]
    }
   ],
   "source": [
    "df1.info()"
   ]
  },
  {
   "cell_type": "code",
   "execution_count": 258,
   "metadata": {},
   "outputs": [],
   "source": [
    "pd.set_option('display.max_columns', 177)"
   ]
  },
  {
   "cell_type": "code",
   "execution_count": 259,
   "metadata": {},
   "outputs": [
    {
     "data": {
      "text/html": [
       "<div>\n",
       "<style scoped>\n",
       "    .dataframe tbody tr th:only-of-type {\n",
       "        vertical-align: middle;\n",
       "    }\n",
       "\n",
       "    .dataframe tbody tr th {\n",
       "        vertical-align: top;\n",
       "    }\n",
       "\n",
       "    .dataframe thead th {\n",
       "        text-align: right;\n",
       "    }\n",
       "</style>\n",
       "<table border=\"1\" class=\"dataframe\">\n",
       "  <thead>\n",
       "    <tr style=\"text-align: right;\">\n",
       "      <th></th>\n",
       "      <th>Audi A1</th>\n",
       "      <th>Audi A2</th>\n",
       "      <th>Audi A3</th>\n",
       "      <th>Opel Astra</th>\n",
       "      <th>Opel Corsa</th>\n",
       "      <th>Opel Insignia</th>\n",
       "      <th>Renault Clio</th>\n",
       "      <th>Renault Duster</th>\n",
       "      <th>Renault Espace</th>\n",
       "      <th>Compact</th>\n",
       "      <th>Convertible</th>\n",
       "      <th>Coupe</th>\n",
       "      <th>Off-Road</th>\n",
       "      <th>Other</th>\n",
       "      <th>Sedans</th>\n",
       "      <th>Station</th>\n",
       "      <th>Transporter</th>\n",
       "      <th>Van</th>\n",
       "      <th>wagon</th>\n",
       "      <th>Beige</th>\n",
       "      <th>Black</th>\n",
       "      <th>Blue</th>\n",
       "      <th>Bronze</th>\n",
       "      <th>Brown</th>\n",
       "      <th>Green</th>\n",
       "      <th>Grey</th>\n",
       "      <th>Orange</th>\n",
       "      <th>Red</th>\n",
       "      <th>Silver</th>\n",
       "      <th>Violet</th>\n",
       "      <th>White</th>\n",
       "      <th>Yellow</th>\n",
       "      <th>Alcantara</th>\n",
       "      <th>Cloth</th>\n",
       "      <th>Leather</th>\n",
       "      <th>price</th>\n",
       "      <th>km</th>\n",
       "      <th>hp</th>\n",
       "      <th>Nr. of Doors</th>\n",
       "      <th>Nr. of Seats</th>\n",
       "      <th>Displacement</th>\n",
       "      <th>Gears</th>\n",
       "      <th>Age</th>\n",
       "      <th>Consumption_comb(kg/100 km)</th>\n",
       "      <th>Consumption_comb(l/100 km)</th>\n",
       "      <th>Consumption_country(kg/100 km)</th>\n",
       "      <th>Consumption_country(l/100 km)</th>\n",
       "      <th>Consumption_city(kg/100 km)</th>\n",
       "      <th>Consumption_city(l/100 km)</th>\n",
       "      <th>Automatic</th>\n",
       "      <th>Manual</th>\n",
       "      <th>Semi-automatic</th>\n",
       "      <th>Biogas</th>\n",
       "      <th>CNG</th>\n",
       "      <th>CNG (Particulate Filter)</th>\n",
       "      <th>Diesel</th>\n",
       "      <th>Diesel (Particulate Filter)</th>\n",
       "      <th>Domestic gas H</th>\n",
       "      <th>Electric/Gasoline</th>\n",
       "      <th>Gasoline</th>\n",
       "      <th>Gasoline (Particulate Filter)</th>\n",
       "      <th>LPG</th>\n",
       "      <th>Liquid petroleum gas (LPG)</th>\n",
       "      <th>Others</th>\n",
       "      <th>Others (Particulate Filter)</th>\n",
       "      <th>Regular/Benzine 91</th>\n",
       "      <th>Regular/Benzine 91 (Particulate Filter)</th>\n",
       "      <th>Regular/Benzine E10 91</th>\n",
       "      <th>Super 95</th>\n",
       "      <th>Super 95 (Particulate Filter)</th>\n",
       "      <th>Super 95 / Regular/Benzine 91</th>\n",
       "      <th>Super 95 / Super E10 95</th>\n",
       "      <th>Super E10 95</th>\n",
       "      <th>Super E10 95 (Particulate Filter)</th>\n",
       "      <th>Super E10 95 / Super 95</th>\n",
       "      <th>Super Plus 98</th>\n",
       "      <th>Super Plus E10 98</th>\n",
       "      <th>Euro 4</th>\n",
       "      <th>Euro 5</th>\n",
       "      <th>Euro 6</th>\n",
       "      <th>Euro 6c</th>\n",
       "      <th>Euro 6d</th>\n",
       "      <th>Euro 6d-TEMP</th>\n",
       "      <th>Air conditioning</th>\n",
       "      <th>Air suspension</th>\n",
       "      <th>Armrest</th>\n",
       "      <th>Automatic climate control</th>\n",
       "      <th>Auxiliary heating</th>\n",
       "      <th>Cruise control</th>\n",
       "      <th>Electric Starter</th>\n",
       "      <th>Electric tailgate</th>\n",
       "      <th>Electrical side mirrors</th>\n",
       "      <th>Electrically adjustable seats</th>\n",
       "      <th>Electrically heated windshield</th>\n",
       "      <th>Heads-up display</th>\n",
       "      <th>Heated steering wheel</th>\n",
       "      <th>Hill Holder</th>\n",
       "      <th>Keyless central door lock</th>\n",
       "      <th>Leather seats</th>\n",
       "      <th>Leather steering wheel</th>\n",
       "      <th>Light sensor</th>\n",
       "      <th>Lumbar support</th>\n",
       "      <th>Massage seats</th>\n",
       "      <th>Multi-function steering wheel</th>\n",
       "      <th>Navigation system</th>\n",
       "      <th>Panorama roof</th>\n",
       "      <th>Park Distance Control</th>\n",
       "      <th>Parking assist system camera</th>\n",
       "      <th>Parking assist system self-steering</th>\n",
       "      <th>Parking assist system sensors front</th>\n",
       "      <th>Parking assist system sensors rear</th>\n",
       "      <th>Power windows</th>\n",
       "      <th>Rain sensor</th>\n",
       "      <th>Seat heating</th>\n",
       "      <th>Seat ventilation</th>\n",
       "      <th>Split rear seats</th>\n",
       "      <th>Start-stop system</th>\n",
       "      <th>Sunroof</th>\n",
       "      <th>Tinted windows</th>\n",
       "      <th>Wind deflector</th>\n",
       "      <th>Windshield</th>\n",
       "      <th>Bluetooth</th>\n",
       "      <th>CD player</th>\n",
       "      <th>Digital radio</th>\n",
       "      <th>Hands-free equipment</th>\n",
       "      <th>MP3</th>\n",
       "      <th>On-board computer</th>\n",
       "      <th>Radio</th>\n",
       "      <th>Sound system</th>\n",
       "      <th>Television</th>\n",
       "      <th>USB</th>\n",
       "      <th>ABS</th>\n",
       "      <th>Adaptive Cruise Control</th>\n",
       "      <th>Adaptive headlights</th>\n",
       "      <th>Alarm system</th>\n",
       "      <th>Blind spot monitor</th>\n",
       "      <th>Central door lock</th>\n",
       "      <th>Central door lock with remote control</th>\n",
       "      <th>Daytime running lights</th>\n",
       "      <th>Driver drowsiness detection</th>\n",
       "      <th>Driver-side airbag</th>\n",
       "      <th>Electronic stability control</th>\n",
       "      <th>Emergency brake assistant</th>\n",
       "      <th>Emergency system</th>\n",
       "      <th>Fog lights</th>\n",
       "      <th>Head airbag</th>\n",
       "      <th>Immobilizer</th>\n",
       "      <th>Isofix</th>\n",
       "      <th>LED Daytime Running Lights</th>\n",
       "      <th>LED Headlights</th>\n",
       "      <th>Lane departure warning system</th>\n",
       "      <th>Night view assist</th>\n",
       "      <th>Passenger-side airbag</th>\n",
       "      <th>Power steering</th>\n",
       "      <th>Rear airbag</th>\n",
       "      <th>Side airbag</th>\n",
       "      <th>Tire pressure monitoring system</th>\n",
       "      <th>Traction control</th>\n",
       "      <th>Traffic sign recognition</th>\n",
       "      <th>Xenon headlights</th>\n",
       "      <th>Alloy wheels</th>\n",
       "      <th>Cab or rented Car</th>\n",
       "      <th>Catalytic Converter</th>\n",
       "      <th>Handicapped enabled</th>\n",
       "      <th>Right hand drive</th>\n",
       "      <th>Roof rack</th>\n",
       "      <th>Shift paddles</th>\n",
       "      <th>Ski bag</th>\n",
       "      <th>Sliding door</th>\n",
       "      <th>Sport package</th>\n",
       "      <th>Sport seats</th>\n",
       "      <th>Sport suspension</th>\n",
       "      <th>Touch screen</th>\n",
       "      <th>Trailer hitch</th>\n",
       "      <th>Tuned car</th>\n",
       "      <th>Voice Control</th>\n",
       "      <th>Winter tyres</th>\n",
       "    </tr>\n",
       "  </thead>\n",
       "  <tbody>\n",
       "    <tr>\n",
       "      <th>0</th>\n",
       "      <td>1</td>\n",
       "      <td>0</td>\n",
       "      <td>0</td>\n",
       "      <td>0</td>\n",
       "      <td>0</td>\n",
       "      <td>0</td>\n",
       "      <td>0</td>\n",
       "      <td>0</td>\n",
       "      <td>0</td>\n",
       "      <td>0</td>\n",
       "      <td>0</td>\n",
       "      <td>0</td>\n",
       "      <td>0</td>\n",
       "      <td>0</td>\n",
       "      <td>1</td>\n",
       "      <td>0</td>\n",
       "      <td>0</td>\n",
       "      <td>0</td>\n",
       "      <td>0</td>\n",
       "      <td>0</td>\n",
       "      <td>1</td>\n",
       "      <td>0</td>\n",
       "      <td>0</td>\n",
       "      <td>0</td>\n",
       "      <td>0</td>\n",
       "      <td>0</td>\n",
       "      <td>0</td>\n",
       "      <td>0</td>\n",
       "      <td>0</td>\n",
       "      <td>0</td>\n",
       "      <td>0</td>\n",
       "      <td>0</td>\n",
       "      <td>0</td>\n",
       "      <td>1</td>\n",
       "      <td>0</td>\n",
       "      <td>15770</td>\n",
       "      <td>56013</td>\n",
       "      <td>85</td>\n",
       "      <td>5</td>\n",
       "      <td>5</td>\n",
       "      <td>1.422</td>\n",
       "      <td>7</td>\n",
       "      <td>4</td>\n",
       "      <td>0.0</td>\n",
       "      <td>3.8</td>\n",
       "      <td>0.0</td>\n",
       "      <td>3.5</td>\n",
       "      <td>0.0</td>\n",
       "      <td>4.3</td>\n",
       "      <td>1</td>\n",
       "      <td>0</td>\n",
       "      <td>0</td>\n",
       "      <td>0</td>\n",
       "      <td>0</td>\n",
       "      <td>0</td>\n",
       "      <td>0</td>\n",
       "      <td>1</td>\n",
       "      <td>0</td>\n",
       "      <td>0</td>\n",
       "      <td>0</td>\n",
       "      <td>0</td>\n",
       "      <td>0</td>\n",
       "      <td>0</td>\n",
       "      <td>0</td>\n",
       "      <td>0</td>\n",
       "      <td>0</td>\n",
       "      <td>0</td>\n",
       "      <td>0</td>\n",
       "      <td>0</td>\n",
       "      <td>0</td>\n",
       "      <td>0</td>\n",
       "      <td>0</td>\n",
       "      <td>0</td>\n",
       "      <td>0</td>\n",
       "      <td>0</td>\n",
       "      <td>0</td>\n",
       "      <td>0</td>\n",
       "      <td>0</td>\n",
       "      <td>0</td>\n",
       "      <td>1</td>\n",
       "      <td>0</td>\n",
       "      <td>0</td>\n",
       "      <td>0</td>\n",
       "      <td>1</td>\n",
       "      <td>0</td>\n",
       "      <td>1</td>\n",
       "      <td>1</td>\n",
       "      <td>0</td>\n",
       "      <td>1</td>\n",
       "      <td>0</td>\n",
       "      <td>0</td>\n",
       "      <td>1</td>\n",
       "      <td>0</td>\n",
       "      <td>0</td>\n",
       "      <td>0</td>\n",
       "      <td>0</td>\n",
       "      <td>1</td>\n",
       "      <td>0</td>\n",
       "      <td>0</td>\n",
       "      <td>1</td>\n",
       "      <td>1</td>\n",
       "      <td>0</td>\n",
       "      <td>0</td>\n",
       "      <td>1</td>\n",
       "      <td>1</td>\n",
       "      <td>0</td>\n",
       "      <td>1</td>\n",
       "      <td>0</td>\n",
       "      <td>0</td>\n",
       "      <td>0</td>\n",
       "      <td>1</td>\n",
       "      <td>1</td>\n",
       "      <td>1</td>\n",
       "      <td>1</td>\n",
       "      <td>0</td>\n",
       "      <td>0</td>\n",
       "      <td>1</td>\n",
       "      <td>0</td>\n",
       "      <td>0</td>\n",
       "      <td>0</td>\n",
       "      <td>0</td>\n",
       "      <td>1</td>\n",
       "      <td>0</td>\n",
       "      <td>0</td>\n",
       "      <td>1</td>\n",
       "      <td>0</td>\n",
       "      <td>1</td>\n",
       "      <td>1</td>\n",
       "      <td>0</td>\n",
       "      <td>0</td>\n",
       "      <td>0</td>\n",
       "      <td>1</td>\n",
       "      <td>0</td>\n",
       "      <td>0</td>\n",
       "      <td>0</td>\n",
       "      <td>0</td>\n",
       "      <td>1</td>\n",
       "      <td>0</td>\n",
       "      <td>1</td>\n",
       "      <td>0</td>\n",
       "      <td>1</td>\n",
       "      <td>1</td>\n",
       "      <td>0</td>\n",
       "      <td>0</td>\n",
       "      <td>1</td>\n",
       "      <td>0</td>\n",
       "      <td>1</td>\n",
       "      <td>1</td>\n",
       "      <td>0</td>\n",
       "      <td>0</td>\n",
       "      <td>0</td>\n",
       "      <td>0</td>\n",
       "      <td>1</td>\n",
       "      <td>1</td>\n",
       "      <td>0</td>\n",
       "      <td>1</td>\n",
       "      <td>1</td>\n",
       "      <td>1</td>\n",
       "      <td>0</td>\n",
       "      <td>1</td>\n",
       "      <td>1</td>\n",
       "      <td>0</td>\n",
       "      <td>1</td>\n",
       "      <td>0</td>\n",
       "      <td>0</td>\n",
       "      <td>0</td>\n",
       "      <td>0</td>\n",
       "      <td>0</td>\n",
       "      <td>0</td>\n",
       "      <td>0</td>\n",
       "      <td>0</td>\n",
       "      <td>0</td>\n",
       "      <td>0</td>\n",
       "      <td>0</td>\n",
       "      <td>0</td>\n",
       "      <td>1</td>\n",
       "      <td>0</td>\n",
       "    </tr>\n",
       "    <tr>\n",
       "      <th>1</th>\n",
       "      <td>1</td>\n",
       "      <td>0</td>\n",
       "      <td>0</td>\n",
       "      <td>0</td>\n",
       "      <td>0</td>\n",
       "      <td>0</td>\n",
       "      <td>0</td>\n",
       "      <td>0</td>\n",
       "      <td>0</td>\n",
       "      <td>0</td>\n",
       "      <td>0</td>\n",
       "      <td>0</td>\n",
       "      <td>0</td>\n",
       "      <td>0</td>\n",
       "      <td>1</td>\n",
       "      <td>0</td>\n",
       "      <td>0</td>\n",
       "      <td>0</td>\n",
       "      <td>0</td>\n",
       "      <td>0</td>\n",
       "      <td>0</td>\n",
       "      <td>0</td>\n",
       "      <td>0</td>\n",
       "      <td>0</td>\n",
       "      <td>0</td>\n",
       "      <td>0</td>\n",
       "      <td>0</td>\n",
       "      <td>1</td>\n",
       "      <td>0</td>\n",
       "      <td>0</td>\n",
       "      <td>0</td>\n",
       "      <td>0</td>\n",
       "      <td>0</td>\n",
       "      <td>1</td>\n",
       "      <td>0</td>\n",
       "      <td>14500</td>\n",
       "      <td>80000</td>\n",
       "      <td>85</td>\n",
       "      <td>3</td>\n",
       "      <td>4</td>\n",
       "      <td>1.798</td>\n",
       "      <td>7</td>\n",
       "      <td>3</td>\n",
       "      <td>0.0</td>\n",
       "      <td>5.6</td>\n",
       "      <td>0.0</td>\n",
       "      <td>4.7</td>\n",
       "      <td>0.0</td>\n",
       "      <td>7.1</td>\n",
       "      <td>1</td>\n",
       "      <td>0</td>\n",
       "      <td>0</td>\n",
       "      <td>0</td>\n",
       "      <td>0</td>\n",
       "      <td>0</td>\n",
       "      <td>0</td>\n",
       "      <td>0</td>\n",
       "      <td>0</td>\n",
       "      <td>0</td>\n",
       "      <td>1</td>\n",
       "      <td>0</td>\n",
       "      <td>0</td>\n",
       "      <td>0</td>\n",
       "      <td>0</td>\n",
       "      <td>0</td>\n",
       "      <td>0</td>\n",
       "      <td>0</td>\n",
       "      <td>0</td>\n",
       "      <td>0</td>\n",
       "      <td>0</td>\n",
       "      <td>0</td>\n",
       "      <td>0</td>\n",
       "      <td>0</td>\n",
       "      <td>0</td>\n",
       "      <td>0</td>\n",
       "      <td>0</td>\n",
       "      <td>0</td>\n",
       "      <td>0</td>\n",
       "      <td>0</td>\n",
       "      <td>1</td>\n",
       "      <td>0</td>\n",
       "      <td>0</td>\n",
       "      <td>0</td>\n",
       "      <td>1</td>\n",
       "      <td>0</td>\n",
       "      <td>0</td>\n",
       "      <td>1</td>\n",
       "      <td>0</td>\n",
       "      <td>0</td>\n",
       "      <td>0</td>\n",
       "      <td>0</td>\n",
       "      <td>0</td>\n",
       "      <td>0</td>\n",
       "      <td>0</td>\n",
       "      <td>0</td>\n",
       "      <td>0</td>\n",
       "      <td>1</td>\n",
       "      <td>0</td>\n",
       "      <td>0</td>\n",
       "      <td>1</td>\n",
       "      <td>0</td>\n",
       "      <td>1</td>\n",
       "      <td>0</td>\n",
       "      <td>0</td>\n",
       "      <td>0</td>\n",
       "      <td>0</td>\n",
       "      <td>0</td>\n",
       "      <td>0</td>\n",
       "      <td>0</td>\n",
       "      <td>0</td>\n",
       "      <td>1</td>\n",
       "      <td>1</td>\n",
       "      <td>0</td>\n",
       "      <td>0</td>\n",
       "      <td>0</td>\n",
       "      <td>0</td>\n",
       "      <td>1</td>\n",
       "      <td>0</td>\n",
       "      <td>1</td>\n",
       "      <td>0</td>\n",
       "      <td>0</td>\n",
       "      <td>1</td>\n",
       "      <td>0</td>\n",
       "      <td>0</td>\n",
       "      <td>1</td>\n",
       "      <td>0</td>\n",
       "      <td>1</td>\n",
       "      <td>1</td>\n",
       "      <td>1</td>\n",
       "      <td>0</td>\n",
       "      <td>0</td>\n",
       "      <td>1</td>\n",
       "      <td>0</td>\n",
       "      <td>0</td>\n",
       "      <td>0</td>\n",
       "      <td>0</td>\n",
       "      <td>1</td>\n",
       "      <td>1</td>\n",
       "      <td>1</td>\n",
       "      <td>0</td>\n",
       "      <td>1</td>\n",
       "      <td>1</td>\n",
       "      <td>0</td>\n",
       "      <td>0</td>\n",
       "      <td>0</td>\n",
       "      <td>1</td>\n",
       "      <td>1</td>\n",
       "      <td>1</td>\n",
       "      <td>0</td>\n",
       "      <td>0</td>\n",
       "      <td>0</td>\n",
       "      <td>0</td>\n",
       "      <td>1</td>\n",
       "      <td>1</td>\n",
       "      <td>0</td>\n",
       "      <td>1</td>\n",
       "      <td>1</td>\n",
       "      <td>1</td>\n",
       "      <td>0</td>\n",
       "      <td>1</td>\n",
       "      <td>1</td>\n",
       "      <td>0</td>\n",
       "      <td>0</td>\n",
       "      <td>0</td>\n",
       "      <td>0</td>\n",
       "      <td>0</td>\n",
       "      <td>0</td>\n",
       "      <td>0</td>\n",
       "      <td>0</td>\n",
       "      <td>0</td>\n",
       "      <td>1</td>\n",
       "      <td>1</td>\n",
       "      <td>0</td>\n",
       "      <td>0</td>\n",
       "      <td>0</td>\n",
       "      <td>1</td>\n",
       "      <td>0</td>\n",
       "    </tr>\n",
       "  </tbody>\n",
       "</table>\n",
       "</div>"
      ],
      "text/plain": [
       "   Audi A1  Audi A2  Audi A3  Opel Astra  Opel Corsa  Opel Insignia  \\\n",
       "0        1        0        0           0           0              0   \n",
       "1        1        0        0           0           0              0   \n",
       "\n",
       "   Renault Clio  Renault Duster  Renault Espace  Compact  Convertible  Coupe  \\\n",
       "0             0               0               0        0            0      0   \n",
       "1             0               0               0        0            0      0   \n",
       "\n",
       "   Off-Road  Other  Sedans  Station  Transporter  Van  wagon  Beige  Black  \\\n",
       "0         0      0       1        0            0    0      0      0      1   \n",
       "1         0      0       1        0            0    0      0      0      0   \n",
       "\n",
       "   Blue  Bronze  Brown  Green  Grey  Orange  Red  Silver  Violet  White  \\\n",
       "0     0       0      0      0     0       0    0       0       0      0   \n",
       "1     0       0      0      0     0       0    1       0       0      0   \n",
       "\n",
       "   Yellow  Alcantara  Cloth  Leather  price     km  hp  Nr. of Doors  \\\n",
       "0       0          0      1        0  15770  56013  85             5   \n",
       "1       0          0      1        0  14500  80000  85             3   \n",
       "\n",
       "   Nr. of Seats  Displacement  Gears  Age  Consumption_comb(kg/100 km)  \\\n",
       "0             5         1.422      7    4                          0.0   \n",
       "1             4         1.798      7    3                          0.0   \n",
       "\n",
       "   Consumption_comb(l/100 km)  Consumption_country(kg/100 km)  \\\n",
       "0                         3.8                             0.0   \n",
       "1                         5.6                             0.0   \n",
       "\n",
       "   Consumption_country(l/100 km)  Consumption_city(kg/100 km)  \\\n",
       "0                            3.5                          0.0   \n",
       "1                            4.7                          0.0   \n",
       "\n",
       "   Consumption_city(l/100 km)  Automatic  Manual  Semi-automatic  Biogas  CNG  \\\n",
       "0                         4.3          1       0               0       0    0   \n",
       "1                         7.1          1       0               0       0    0   \n",
       "\n",
       "   CNG (Particulate Filter)  Diesel  Diesel (Particulate Filter)  \\\n",
       "0                         0       0                            1   \n",
       "1                         0       0                            0   \n",
       "\n",
       "   Domestic gas H  Electric/Gasoline  Gasoline  Gasoline (Particulate Filter)  \\\n",
       "0               0                  0         0                              0   \n",
       "1               0                  0         1                              0   \n",
       "\n",
       "   LPG  Liquid petroleum gas (LPG)  Others  Others (Particulate Filter)  \\\n",
       "0    0                           0       0                            0   \n",
       "1    0                           0       0                            0   \n",
       "\n",
       "   Regular/Benzine 91  Regular/Benzine 91 (Particulate Filter)  \\\n",
       "0                   0                                        0   \n",
       "1                   0                                        0   \n",
       "\n",
       "   Regular/Benzine E10 91  Super 95  Super 95 (Particulate Filter)  \\\n",
       "0                       0         0                              0   \n",
       "1                       0         0                              0   \n",
       "\n",
       "   Super 95 / Regular/Benzine 91  Super 95 / Super E10 95  Super E10 95  \\\n",
       "0                              0                        0             0   \n",
       "1                              0                        0             0   \n",
       "\n",
       "   Super E10 95 (Particulate Filter)  Super E10 95 / Super 95  Super Plus 98  \\\n",
       "0                                  0                        0              0   \n",
       "1                                  0                        0              0   \n",
       "\n",
       "   Super Plus E10 98  Euro 4  Euro 5  Euro 6  Euro 6c  Euro 6d  Euro 6d-TEMP  \\\n",
       "0                  0       0       0       1        0        0             0   \n",
       "1                  0       0       0       1        0        0             0   \n",
       "\n",
       "   Air conditioning  Air suspension  Armrest  Automatic climate control  \\\n",
       "0                 1               0        1                          1   \n",
       "1                 1               0        0                          1   \n",
       "\n",
       "   Auxiliary heating  Cruise control  Electric Starter  Electric tailgate  \\\n",
       "0                  0               1                 0                  0   \n",
       "1                  0               0                 0                  0   \n",
       "\n",
       "   Electrical side mirrors  Electrically adjustable seats  \\\n",
       "0                        1                              0   \n",
       "1                        0                              0   \n",
       "\n",
       "   Electrically heated windshield  Heads-up display  Heated steering wheel  \\\n",
       "0                               0                 0                      0   \n",
       "1                               0                 0                      0   \n",
       "\n",
       "   Hill Holder  Keyless central door lock  Leather seats  \\\n",
       "0            1                          0              0   \n",
       "1            1                          0              0   \n",
       "\n",
       "   Leather steering wheel  Light sensor  Lumbar support  Massage seats  \\\n",
       "0                       1             1               0              0   \n",
       "1                       1             0               1              0   \n",
       "\n",
       "   Multi-function steering wheel  Navigation system  Panorama roof  \\\n",
       "0                              1                  1              0   \n",
       "1                              0                  0              0   \n",
       "\n",
       "   Park Distance Control  Parking assist system camera  \\\n",
       "0                      1                             0   \n",
       "1                      0                             0   \n",
       "\n",
       "   Parking assist system self-steering  Parking assist system sensors front  \\\n",
       "0                                    0                                    0   \n",
       "1                                    0                                    0   \n",
       "\n",
       "   Parking assist system sensors rear  Power windows  Rain sensor  \\\n",
       "0                                   1              1            1   \n",
       "1                                   1              1            0   \n",
       "\n",
       "   Seat heating  Seat ventilation  Split rear seats  Start-stop system  \\\n",
       "0             1                 0                 0                  1   \n",
       "1             0                 0                 0                  1   \n",
       "\n",
       "   Sunroof  Tinted windows  Wind deflector  Windshield  Bluetooth  CD player  \\\n",
       "0        0               0               0           0          1          0   \n",
       "1        0               1               0           0          1          0   \n",
       "\n",
       "   Digital radio  Hands-free equipment  MP3  On-board computer  Radio  \\\n",
       "0              0                     1    0                  1      1   \n",
       "1              0                     1    0                  1      1   \n",
       "\n",
       "   Sound system  Television  USB  ABS  Adaptive Cruise Control  \\\n",
       "0             0           0    0    1                        0   \n",
       "1             1           0    0    1                        0   \n",
       "\n",
       "   Adaptive headlights  Alarm system  Blind spot monitor  Central door lock  \\\n",
       "0                    0             0                   0                  1   \n",
       "1                    0             0                   0                  1   \n",
       "\n",
       "   Central door lock with remote control  Daytime running lights  \\\n",
       "0                                      0                       1   \n",
       "1                                      1                       1   \n",
       "\n",
       "   Driver drowsiness detection  Driver-side airbag  \\\n",
       "0                            0                   1   \n",
       "1                            0                   1   \n",
       "\n",
       "   Electronic stability control  Emergency brake assistant  Emergency system  \\\n",
       "0                             1                          0                 0   \n",
       "1                             1                          0                 0   \n",
       "\n",
       "   Fog lights  Head airbag  Immobilizer  Isofix  LED Daytime Running Lights  \\\n",
       "0           1            0            1       1                           0   \n",
       "1           0            1            1       1                           0   \n",
       "\n",
       "   LED Headlights  Lane departure warning system  Night view assist  \\\n",
       "0               0                              0                  0   \n",
       "1               0                              0                  0   \n",
       "\n",
       "   Passenger-side airbag  Power steering  Rear airbag  Side airbag  \\\n",
       "0                      1               1            0            1   \n",
       "1                      1               1            0            1   \n",
       "\n",
       "   Tire pressure monitoring system  Traction control  \\\n",
       "0                                1                 1   \n",
       "1                                1                 1   \n",
       "\n",
       "   Traffic sign recognition  Xenon headlights  Alloy wheels  \\\n",
       "0                         0                 1             1   \n",
       "1                         0                 1             1   \n",
       "\n",
       "   Cab or rented Car  Catalytic Converter  Handicapped enabled  \\\n",
       "0                  0                    1                    0   \n",
       "1                  0                    0                    0   \n",
       "\n",
       "   Right hand drive  Roof rack  Shift paddles  Ski bag  Sliding door  \\\n",
       "0                 0          0              0        0             0   \n",
       "1                 0          0              0        0             0   \n",
       "\n",
       "   Sport package  Sport seats  Sport suspension  Touch screen  Trailer hitch  \\\n",
       "0              0            0                 0             0              0   \n",
       "1              0            1                 1             0              0   \n",
       "\n",
       "   Tuned car  Voice Control  Winter tyres  \n",
       "0          0              1             0  \n",
       "1          0              1             0  "
      ]
     },
     "execution_count": 259,
     "metadata": {},
     "output_type": "execute_result"
    }
   ],
   "source": [
    "df1.head(2)"
   ]
  },
  {
   "cell_type": "code",
   "execution_count": 260,
   "metadata": {},
   "outputs": [],
   "source": [
    "df1.to_csv('scout_car.csv', index = False)"
   ]
  },
  {
   "cell_type": "code",
   "execution_count": 261,
   "metadata": {
    "scrolled": false
   },
   "outputs": [
    {
     "name": "stdout",
     "output_type": "stream",
     "text": [
      "<class 'pandas.core.frame.DataFrame'>\n",
      "RangeIndex: 12087 entries, 0 to 12086\n",
      "Data columns (total 25 columns):\n",
      " #   Column                          Non-Null Count  Dtype  \n",
      "---  ------                          --------------  -----  \n",
      " 0   make_model                      12087 non-null  object \n",
      " 1   body_type                       12087 non-null  object \n",
      " 2   price                           12087 non-null  int64  \n",
      " 3   km                              12087 non-null  int64  \n",
      " 4   hp                              12087 non-null  int64  \n",
      " 5   Body Color                      12087 non-null  object \n",
      " 6   Upholstery                      12087 non-null  object \n",
      " 7   Nr. of Doors                    12087 non-null  int64  \n",
      " 8   Nr. of Seats                    12087 non-null  int64  \n",
      " 9   Gearing Type                    12087 non-null  object \n",
      " 10  Displacement                    12087 non-null  float64\n",
      " 11  Fuel                            12087 non-null  object \n",
      " 12  Emission Class                  12087 non-null  object \n",
      " 13  Comfort & Convenience           12087 non-null  object \n",
      " 14  Entertainment & Media           12087 non-null  object \n",
      " 15  Extras                          12087 non-null  object \n",
      " 16  Safety & Security               12087 non-null  object \n",
      " 17  Gears                           12087 non-null  int64  \n",
      " 18  Consumption_comb(kg/100 km)     12087 non-null  float64\n",
      " 19  Consumption_comb(l/100 km)      12087 non-null  float64\n",
      " 20  Consumption_country(kg/100 km)  12087 non-null  float64\n",
      " 21  Consumption_country(l/100 km)   12087 non-null  float64\n",
      " 22  Consumption_city(kg/100 km)     12087 non-null  float64\n",
      " 23  Consumption_city(l/100 km)      12087 non-null  float64\n",
      " 24  Age                             12087 non-null  int64  \n",
      "dtypes: float64(7), int64(7), object(11)\n",
      "memory usage: 2.3+ MB\n"
     ]
    }
   ],
   "source": [
    "df.info()"
   ]
  },
  {
   "cell_type": "code",
   "execution_count": 263,
   "metadata": {},
   "outputs": [
    {
     "name": "stdout",
     "output_type": "stream",
     "text": [
      "<class 'pandas.core.frame.DataFrame'>\n",
      "RangeIndex: 12087 entries, 0 to 12086\n",
      "Columns: 177 entries, Audi A1 to Winter tyres\n",
      "dtypes: float64(7), int64(170)\n",
      "memory usage: 16.3 MB\n"
     ]
    }
   ],
   "source": [
    "df1.info()"
   ]
  }
 ],
 "metadata": {
  "kernelspec": {
   "display_name": "Python 3",
   "language": "python",
   "name": "python3"
  },
  "language_info": {
   "codemirror_mode": {
    "name": "ipython",
    "version": 3
   },
   "file_extension": ".py",
   "mimetype": "text/x-python",
   "name": "python",
   "nbconvert_exporter": "python",
   "pygments_lexer": "ipython3",
   "version": "3.7.3"
  }
 },
 "nbformat": 4,
 "nbformat_minor": 2
}
